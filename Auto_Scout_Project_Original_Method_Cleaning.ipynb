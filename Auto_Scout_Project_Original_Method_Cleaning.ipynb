{
  "nbformat": 4,
  "nbformat_minor": 0,
  "metadata": {
    "colab": {
      "provenance": [],
      "authorship_tag": "ABX9TyPl+4kgmoteaBqmx/9lNZdj",
      "include_colab_link": true
    },
    "kernelspec": {
      "name": "python3",
      "display_name": "Python 3"
    },
    "language_info": {
      "name": "python"
    }
  },
  "cells": [
    {
      "cell_type": "markdown",
      "metadata": {
        "id": "view-in-github",
        "colab_type": "text"
      },
      "source": [
        "<a href=\"https://colab.research.google.com/github/sasansharee/Sasan_MMA_Projects/blob/main/Auto_Scout_Project_Original_Method_Cleaning.ipynb\" target=\"_parent\"><img src=\"https://colab.research.google.com/assets/colab-badge.svg\" alt=\"Open In Colab\"/></a>"
      ]
    },
    {
      "cell_type": "code",
      "source": [
        "import numpy as np\n",
        "import pandas as pd\n",
        "import matplotlib.pyplot as plt\n",
        "import seaborn as sns"
      ],
      "metadata": {
        "id": "X6-LmTZDhdmo"
      },
      "execution_count": null,
      "outputs": []
    },
    {
      "cell_type": "code",
      "source": [
        "df = pd.read_json('/content/scout_car (1).json', lines=True)\n",
        "df.shape"
      ],
      "metadata": {
        "id": "DHM4esERhd2F"
      },
      "execution_count": null,
      "outputs": []
    },
    {
      "cell_type": "code",
      "source": [
        "df.index"
      ],
      "metadata": {
        "id": "AbPOQgNOLFmN"
      },
      "execution_count": null,
      "outputs": []
    },
    {
      "cell_type": "code",
      "source": [
        "df.columns"
      ],
      "metadata": {
        "id": "k6Qrs-KBjLsU"
      },
      "execution_count": null,
      "outputs": []
    },
    {
      "cell_type": "code",
      "source": [
        "df.info()"
      ],
      "metadata": {
        "id": "F08mkbjxjMC5"
      },
      "execution_count": null,
      "outputs": []
    },
    {
      "cell_type": "code",
      "source": [
        "df_new = df.drop('kW', axis = 1)"
      ],
      "metadata": {
        "id": "rvIekS38jMLJ"
      },
      "execution_count": null,
      "outputs": []
    },
    {
      "cell_type": "code",
      "source": [
        "df_new.info()"
      ],
      "metadata": {
        "id": "huGGjB74jMX-"
      },
      "execution_count": null,
      "outputs": []
    },
    {
      "cell_type": "code",
      "source": [
        "df_new.head(5)"
      ],
      "metadata": {
        "id": "JP5IaxeAjMdN"
      },
      "execution_count": null,
      "outputs": []
    },
    {
      "cell_type": "code",
      "source": [
        "df_new['km'].str.count('km').sum()"
      ],
      "metadata": {
        "id": "caL4L3jzjMiC"
      },
      "execution_count": null,
      "outputs": []
    },
    {
      "cell_type": "code",
      "source": [
        "df_new['km'] = df_new['km'].str.replace('km', '')"
      ],
      "metadata": {
        "id": "2jI2WBmqjMmw"
      },
      "execution_count": null,
      "outputs": []
    },
    {
      "cell_type": "code",
      "source": [
        "df_new['km'].str.count('km').sum()"
      ],
      "metadata": {
        "id": "53U58BnDjMq9"
      },
      "execution_count": null,
      "outputs": []
    },
    {
      "cell_type": "code",
      "source": [
        "df_new['Mileage (km)'] = df_new['km']"
      ],
      "metadata": {
        "id": "ESNgM7SGjMvH"
      },
      "execution_count": null,
      "outputs": []
    },
    {
      "cell_type": "code",
      "source": [
        "df_new.drop('km', axis =1, inplace = True)"
      ],
      "metadata": {
        "id": "5-93RuGQjMy7"
      },
      "execution_count": null,
      "outputs": []
    },
    {
      "cell_type": "code",
      "source": [
        "df_new.head(5)"
      ],
      "metadata": {
        "id": "0QxayYk_jM23"
      },
      "execution_count": null,
      "outputs": []
    },
    {
      "cell_type": "code",
      "source": [
        "df_new['hp'].str.count('kW').sum()"
      ],
      "metadata": {
        "id": "EHOwsuxAjM7G"
      },
      "execution_count": null,
      "outputs": []
    },
    {
      "cell_type": "code",
      "source": [
        "df_new['hp'] = df_new['hp'].str.replace('kW', '')"
      ],
      "metadata": {
        "id": "aEGNgvPujM-7"
      },
      "execution_count": null,
      "outputs": []
    },
    {
      "cell_type": "code",
      "source": [
        "df_new['hp (kW)'] = df_new['hp']"
      ],
      "metadata": {
        "id": "8l9YekbfjNCo"
      },
      "execution_count": null,
      "outputs": []
    },
    {
      "cell_type": "code",
      "source": [
        "df_new.drop('hp', axis =1, inplace = True)"
      ],
      "metadata": {
        "id": "2i8Ay_-LjNGv"
      },
      "execution_count": null,
      "outputs": []
    },
    {
      "cell_type": "code",
      "source": [
        "df_new.head(5)"
      ],
      "metadata": {
        "id": "LSK9lvGnjNKT"
      },
      "execution_count": null,
      "outputs": []
    },
    {
      "cell_type": "code",
      "source": [
        "df_new.index"
      ],
      "metadata": {
        "id": "rnw-gugzLe7D"
      },
      "execution_count": null,
      "outputs": []
    },
    {
      "cell_type": "code",
      "source": [
        "df_new.info()"
      ],
      "metadata": {
        "id": "Xw7QBlhBjNOW"
      },
      "execution_count": null,
      "outputs": []
    },
    {
      "cell_type": "code",
      "source": [
        "df_new1 = df_new.dropna(subset = ['short_description', 'body_type', 'Type'], axis = 0)"
      ],
      "metadata": {
        "id": "rBwMZqx0jNeD"
      },
      "execution_count": null,
      "outputs": []
    },
    {
      "cell_type": "code",
      "source": [
        "df_new1.index"
      ],
      "metadata": {
        "id": "3YDDntSrLiR1"
      },
      "execution_count": null,
      "outputs": []
    },
    {
      "cell_type": "code",
      "source": [
        "df_new1.info()"
      ],
      "metadata": {
        "id": "YNLdzIWwjNh7"
      },
      "execution_count": null,
      "outputs": []
    },
    {
      "cell_type": "code",
      "source": [
        "df_new1.isnull().sum()"
      ],
      "metadata": {
        "id": "WMPv7hF_jNmD"
      },
      "execution_count": null,
      "outputs": []
    },
    {
      "cell_type": "code",
      "source": [
        "df_new1.head(5)"
      ],
      "metadata": {
        "id": "D-wu4dKZjNqC"
      },
      "execution_count": null,
      "outputs": []
    },
    {
      "cell_type": "code",
      "source": [
        "np.unique(df_new1['make_model'])"
      ],
      "metadata": {
        "id": "pU4nHAuTjNtr"
      },
      "execution_count": null,
      "outputs": []
    },
    {
      "cell_type": "code",
      "source": [
        "df_new1[['make', 'model']] = df_new1['make_model'].str.split(' ', expand = True)"
      ],
      "metadata": {
        "id": "7TSZ2u_QjNxi"
      },
      "execution_count": null,
      "outputs": []
    },
    {
      "cell_type": "code",
      "source": [
        "df_new2 = df_new1.drop('make_model', axis = 1)"
      ],
      "metadata": {
        "id": "-YgA1hhZjN1R"
      },
      "execution_count": null,
      "outputs": []
    },
    {
      "cell_type": "code",
      "source": [
        "df_new2.head(5)"
      ],
      "metadata": {
        "id": "6GjgIgk-jN5X"
      },
      "execution_count": null,
      "outputs": []
    },
    {
      "cell_type": "code",
      "source": [
        "df_new2['vat'].unique()"
      ],
      "metadata": {
        "id": "2WOmQJH6jOE5"
      },
      "execution_count": null,
      "outputs": []
    },
    {
      "cell_type": "code",
      "source": [
        "df_new2['registration'].unique()"
      ],
      "metadata": {
        "id": "kpDFe7bmjOIu"
      },
      "execution_count": null,
      "outputs": []
    },
    {
      "cell_type": "code",
      "source": [
        "df_new2['registration'].str.count('-/-').sum()"
      ],
      "metadata": {
        "id": "WE820qagjOUZ"
      },
      "execution_count": null,
      "outputs": []
    },
    {
      "cell_type": "code",
      "source": [
        "df_new3 = df_new2.replace({'registration': {'-/-': np.nan}})"
      ],
      "metadata": {
        "id": "9JgIJxBL9XKX"
      },
      "execution_count": null,
      "outputs": []
    },
    {
      "cell_type": "code",
      "source": [
        "df_new3['registration'].unique()"
      ],
      "metadata": {
        "id": "L3S5-wqcjObq"
      },
      "execution_count": null,
      "outputs": []
    },
    {
      "cell_type": "code",
      "source": [
        "df_new3['registration'] = pd.to_datetime(df_new3['registration'], format = '%m/%Y').dt.to_period('M')"
      ],
      "metadata": {
        "id": "sHYJOWZMjOfi"
      },
      "execution_count": null,
      "outputs": []
    },
    {
      "cell_type": "code",
      "source": [
        "df_new3['prev_owner'].unique()"
      ],
      "metadata": {
        "id": "sx2FYrjMjOqg"
      },
      "execution_count": null,
      "outputs": []
    },
    {
      "cell_type": "code",
      "source": [
        "df_new3[['Previous Owners', 'prev_owner']].head(20)"
      ],
      "metadata": {
        "id": "DMU3K75pKa9h"
      },
      "execution_count": null,
      "outputs": []
    },
    {
      "cell_type": "code",
      "source": [
        "df_new3['Previous Owners'].value_counts()"
      ],
      "metadata": {
        "id": "YiEFMrMvjPNe"
      },
      "execution_count": null,
      "outputs": []
    },
    {
      "cell_type": "code",
      "source": [
        "df_new4 = df_new3[df_new3['Previous Owners'].isin(['\\n0\\n', '\\n1\\n', '\\n2\\n', '\\n3\\n', '\\n4\\n', np.nan])]"
      ],
      "metadata": {
        "id": "kesroBbhiXWp"
      },
      "execution_count": null,
      "outputs": []
    },
    {
      "cell_type": "code",
      "source": [
        "df_new4.info()"
      ],
      "metadata": {
        "id": "L9Oiq2tmiXap"
      },
      "execution_count": null,
      "outputs": []
    },
    {
      "cell_type": "code",
      "source": [
        "df_new4['Previous Owners'].unique()"
      ],
      "metadata": {
        "id": "3CClAgQwiXer"
      },
      "execution_count": null,
      "outputs": []
    },
    {
      "cell_type": "code",
      "source": [
        "df_new4['Previous Owners'] = df_new4['Previous Owners'].apply(lambda x: int(x.strip()) if isinstance(x, str) else x)"
      ],
      "metadata": {
        "id": "IWDAyCe-iXi0"
      },
      "execution_count": null,
      "outputs": []
    },
    {
      "cell_type": "code",
      "source": [
        "df_new4['Previous Owners']"
      ],
      "metadata": {
        "id": "6QM8afFe11V4"
      },
      "execution_count": null,
      "outputs": []
    },
    {
      "cell_type": "code",
      "source": [
        "df_new4['prev_owner'].unique()"
      ],
      "metadata": {
        "id": "E0X9F8-8iXmv"
      },
      "execution_count": null,
      "outputs": []
    },
    {
      "cell_type": "code",
      "source": [
        "df_new4['prev_owner'] = df_new4['prev_owner'].apply(lambda x: x.split(' ')[0] if isinstance(x, str) else x)"
      ],
      "metadata": {
        "id": "KLHfw86piXq0"
      },
      "execution_count": null,
      "outputs": []
    },
    {
      "cell_type": "code",
      "source": [
        "df_new4[['prev_owner', 'Previous Owners']]"
      ],
      "metadata": {
        "id": "VHBMjMxniXu4"
      },
      "execution_count": null,
      "outputs": []
    },
    {
      "cell_type": "code",
      "source": [
        "df_new5= df_new4.replace({'prev_owner': {'None': np.nan}})"
      ],
      "metadata": {
        "id": "aAqqaVTcjEOG"
      },
      "execution_count": null,
      "outputs": []
    },
    {
      "cell_type": "code",
      "source": [
        "df_new5['prev_owner'] = df_new5['prev_owner'].astype('Int64')"
      ],
      "metadata": {
        "id": "Mk4VGTwajES5"
      },
      "execution_count": null,
      "outputs": []
    },
    {
      "cell_type": "code",
      "source": [
        "df_new5['Previous Owners'] = df_new5['Previous Owners'].astype('Int64')"
      ],
      "metadata": {
        "id": "Me5u96lsjEXQ"
      },
      "execution_count": null,
      "outputs": []
    },
    {
      "cell_type": "code",
      "source": [
        "df_new5[['prev_owner', 'Previous Owners']].info()"
      ],
      "metadata": {
        "id": "DhxE8ZF2lzXf"
      },
      "execution_count": null,
      "outputs": []
    },
    {
      "cell_type": "code",
      "source": [
        "df_new5['Equal'] = df_new5['prev_owner'] == df_new5['Previous Owners']"
      ],
      "metadata": {
        "id": "iD4EfO4UlokY"
      },
      "execution_count": null,
      "outputs": []
    },
    {
      "cell_type": "code",
      "source": [
        "df_new5['Equal'].value_counts()"
      ],
      "metadata": {
        "id": "H6VgDVQ5louz"
      },
      "execution_count": null,
      "outputs": []
    },
    {
      "cell_type": "code",
      "source": [
        "df_new5[df_new5['Equal'] == False]"
      ],
      "metadata": {
        "id": "rf1W2IBmlozO"
      },
      "execution_count": null,
      "outputs": []
    },
    {
      "cell_type": "code",
      "source": [
        "df_new6 =df_new5.drop(['prev_owner', 'Equal'], axis = 1)"
      ],
      "metadata": {
        "id": "pYsCcrD4lo3h"
      },
      "execution_count": null,
      "outputs": []
    },
    {
      "cell_type": "code",
      "source": [
        "df_new6['Type'].value_counts()"
      ],
      "metadata": {
        "id": "BJWLwu0blo7h"
      },
      "execution_count": null,
      "outputs": []
    },
    {
      "cell_type": "code",
      "source": [
        "df_new6['Vehicle Type'] = df_new6['Type'].apply(lambda x: x[1])"
      ],
      "metadata": {
        "id": "Oxtcl0m7lo-z"
      },
      "execution_count": null,
      "outputs": []
    },
    {
      "cell_type": "code",
      "source": [
        "df_new6['Fuel Type'] = df_new6['Type'].apply(lambda x: x[3])"
      ],
      "metadata": {
        "id": "VWcZXWdBp7gO"
      },
      "execution_count": null,
      "outputs": []
    },
    {
      "cell_type": "code",
      "source": [
        "df_new7 = df_new6.drop('Type', axis = 1)"
      ],
      "metadata": {
        "id": "PKJCw5GqqZub"
      },
      "execution_count": null,
      "outputs": []
    },
    {
      "cell_type": "code",
      "source": [
        "df_new7.index"
      ],
      "metadata": {
        "id": "LIfOukxTLL9h"
      },
      "execution_count": null,
      "outputs": []
    },
    {
      "cell_type": "code",
      "source": [
        "df_new7[\"Next Inspection\"].value_counts()"
      ],
      "metadata": {
        "id": "dsSWadPez_se"
      },
      "execution_count": null,
      "outputs": []
    },
    {
      "cell_type": "code",
      "source": [
        "df_new7['Next Inspection'].isnull().sum()"
      ],
      "metadata": {
        "id": "gXf3G434-54n"
      },
      "execution_count": null,
      "outputs": []
    },
    {
      "cell_type": "code",
      "source": [
        "df_new7['Next Inspection'].head(50)"
      ],
      "metadata": {
        "id": "kHWRNafp2Ulj"
      },
      "execution_count": null,
      "outputs": []
    },
    {
      "cell_type": "code",
      "source": [
        "date = []\n",
        "for sublist in df_new7['Next Inspection']:\n",
        "  if isinstance(sublist, list):\n",
        "    date.append(sublist[0])\n",
        "  elif isinstance(sublist, str):\n",
        "    date.append(sublist.split()[0])\n",
        "  else:\n",
        "    date.append(np.nan)\n",
        "date[:31]"
      ],
      "metadata": {
        "id": "PCdcQ_xNqZ6Q"
      },
      "execution_count": null,
      "outputs": []
    },
    {
      "cell_type": "code",
      "source": [
        "for i in range(len(date)):\n",
        "  if isinstance(date[i], str):\n",
        "    date[i] = date[i].strip().replace('/', '-')\n",
        "new_date = pd.to_datetime(date, format = '%m-%Y').to_period('M')\n",
        "new_date"
      ],
      "metadata": {
        "id": "ZECkoKL5qaGe"
      },
      "execution_count": null,
      "outputs": []
    },
    {
      "cell_type": "code",
      "source": [
        "len(df_new7['Next Inspection']), len(new_date)"
      ],
      "metadata": {
        "id": "NoYg1S2zqaKG"
      },
      "execution_count": null,
      "outputs": []
    },
    {
      "cell_type": "code",
      "source": [
        "df_new7['Next Inspection Date'] = new_date"
      ],
      "metadata": {
        "id": "5niRUpjvqaNu"
      },
      "execution_count": null,
      "outputs": []
    },
    {
      "cell_type": "code",
      "source": [
        "df_new7['Next Inspection Date'].head(40)"
      ],
      "metadata": {
        "id": "ExSQPhHFqaRN"
      },
      "execution_count": null,
      "outputs": []
    },
    {
      "cell_type": "code",
      "source": [
        "df_new7['Inspection new'].value_counts()"
      ],
      "metadata": {
        "id": "MVyM1Wq-qaVS"
      },
      "execution_count": null,
      "outputs": []
    },
    {
      "cell_type": "code",
      "source": [
        "df_new7['Inspection new'].info()"
      ],
      "metadata": {
        "id": "-yiTAuvGFAZF"
      },
      "execution_count": null,
      "outputs": []
    },
    {
      "cell_type": "code",
      "source": [
        "my_list = []\n",
        "for sublist in df_new7['Inspection new']:\n",
        "  if isinstance(sublist, list):\n",
        "    my_list.append(len(sublist))\n",
        "print(len(my_list), np.unique(my_list))\n",
        "my_list.count(1), my_list.count(2), my_list.count(6), my_list.count(8)"
      ],
      "metadata": {
        "id": "uD-N3ijzPG7d"
      },
      "execution_count": null,
      "outputs": []
    },
    {
      "cell_type": "code",
      "source": [
        "list_0 = []\n",
        "list_1 = []\n",
        "list_2 = []\n",
        "list_3 = []\n",
        "list_4 = []\n",
        "list_5 = []\n",
        "list_6 = []\n",
        "list_7 = []\n",
        "list_8 = []\n",
        "for index, sublist in df_new7['Inspection new'].items():\n",
        "  if isinstance(sublist, list):\n",
        "    list_8.append((index,sublist[0]))\n",
        "    if len(sublist) == 1:\n",
        "      list_1.append((index, sublist[0]))\n",
        "    if len(sublist) == 2:\n",
        "      list_2.append((index, sublist[1]))\n",
        "    if len(sublist) == 6:\n",
        "      list_3.append((index, sublist[2]))\n",
        "      list_4.append((index, sublist[4])) # it gives \\n, I tried for all the other positions too. Seems the list only has [0] and [2] items and the rest is empty\n",
        "    if len(sublist) == 8:\n",
        "      list_5.append((index, sublist[2]))\n",
        "      list_6.append((index, sublist[4]))\n",
        "      list_7.append((index, sublist[6]))\n",
        "  if isinstance(sublist, str):\n",
        "    list_0.append((index, sublist.split()[0]))\n",
        "    list_8.append((index, sublist.split()[0]))\n",
        "\n",
        "print(len(list_0), len(list_1), len(list_8) , len(list_2), len(list_3), len(list_4), len(list_5), len(list_6), len(list_7))\n",
        "# number of strings 361\n",
        "# number of list 3432\n",
        "# total non-null 3793 which is 3432 + 361\n",
        "# list_0, list_1, and list_8 is all 'Yes'\n",
        "#list_2, list_3, list_5 are comb\n",
        "#list_4 is empty\n",
        "#list_6 is city\n",
        "#list_7 is country"
      ],
      "metadata": {
        "id": "ACUDicgZqaYT"
      },
      "execution_count": null,
      "outputs": []
    },
    {
      "cell_type": "code",
      "source": [
        "list_8 = [(index, value.strip()) for index, value in list_8]\n",
        "list_2 = [(index, value.strip()) for index, value in list_2]\n",
        "list_3 = [(index, value.strip()) for index, value in list_3]\n",
        "list_5 = [(index, value.strip()) for index, value in list_5]\n",
        "list_6 = [(index, value.strip()) for index, value in list_6]\n",
        "list_7 = [(index, value.strip()) for index, value in list_7]"
      ],
      "metadata": {
        "id": "SxKbUKempB-S"
      },
      "execution_count": null,
      "outputs": []
    },
    {
      "cell_type": "code",
      "source": [
        "df_new7['Inspection new done'] = None\n",
        "df_new7['Inspection new comb'] = None\n",
        "df_new7['Inspection new city'] = None\n",
        "df_new7['Inspection new country'] = None\n",
        "\n",
        "for index, value in list_8:\n",
        "  df_new7.at[index, 'Inspection new done'] = value\n",
        "for index, value in list_2:\n",
        "  df_new7.at[index, 'Inspection new comb'] = value\n",
        "for index, value in list_3:\n",
        "  df_new7.at[index, 'Inspection new comb'] = value\n",
        "for index, value in list_5:\n",
        "  df_new7.at[index, 'Inspection new comb'] = value\n",
        "for index, value in list_6:\n",
        "  df_new7.at[index, 'Inspection new city'] = value\n",
        "for index, value in list_7:\n",
        "  df_new7.at[index, 'Inspection new country'] = value\n",
        "\n",
        "df_new7[['Inspection new', 'Inspection new done', 'Inspection new comb', 'Inspection new city', 'Inspection new country']].head(50)"
      ],
      "metadata": {
        "id": "fyoTBOOn-vL-"
      },
      "execution_count": null,
      "outputs": []
    },
    {
      "cell_type": "code",
      "source": [
        "df_new7['Warranty'].value_counts()"
      ],
      "metadata": {
        "id": "fJQYjOBc-vP8"
      },
      "execution_count": null,
      "outputs": []
    },
    {
      "cell_type": "code",
      "source": [
        "df_new7['Warranty'].info()"
      ],
      "metadata": {
        "id": "29nGcVudw4BA"
      },
      "execution_count": null,
      "outputs": []
    },
    {
      "cell_type": "code",
      "source": [
        "my_list_1 = []\n",
        "my_list_2 = []\n",
        "my_list_3 = []\n",
        "for sublist in df_new7['Warranty']:\n",
        "  if isinstance(sublist, list):\n",
        "    my_list_1.append(len(sublist))\n",
        "    my_list_3.append(sublist[0])\n",
        "  if isinstance(sublist, str):\n",
        "    my_list_2.append(sublist.strip())\n",
        "    my_list_3.append(sublist.strip())\n",
        "print(len(my_list_1), np.unique(my_list_1), len(my_list_2), len(my_list_3))\n",
        "my_list_1.count(1), my_list_1.count(2), my_list_1.count(3), my_list_1.count(6), my_list_1.count(8), my_list_1.count(9)"
      ],
      "metadata": {
        "id": "0bN9mhk8tH5J"
      },
      "execution_count": null,
      "outputs": []
    },
    {
      "cell_type": "code",
      "source": [
        "warr_list = []\n",
        "for index, sublist in df_new7['Warranty'].items():\n",
        "  if isinstance(sublist, list):\n",
        "    warr_list.append((index, sublist[0]))\n",
        "  if isinstance(sublist, str):\n",
        "    warr_list.append((index, sublist))\n",
        "len(warr_list), warr_list[:20]"
      ],
      "metadata": {
        "id": "hBu5w4eO-vUG"
      },
      "execution_count": null,
      "outputs": []
    },
    {
      "cell_type": "code",
      "source": [
        "df_new7['Warranty Time'] = None\n",
        "for index, value in warr_list:\n",
        "  df_new7.at[index, 'Warranty Time'] = value\n",
        "df_new7['Warranty Time'] = df_new7['Warranty Time'].replace({'\\n': None})\n",
        "df_new7['Warranty Time'] = df_new7['Warranty Time'].str.strip()\n",
        "df_new7[['Warranty Time', 'Warranty']].head(50)"
      ],
      "metadata": {
        "id": "EZ6h16VnrBEc"
      },
      "execution_count": null,
      "outputs": []
    },
    {
      "cell_type": "code",
      "source": [
        "my_list_4 = []\n",
        "my_list_5 = []\n",
        "my_list_6 = []\n",
        "my_list_7 = []\n",
        "my_list_8 = []\n",
        "my_list_9 = []\n",
        "my_list_10 = []\n",
        "my_list_11 = []\n",
        "my_list_12 = []\n",
        "my_list_13 = []\n",
        "my_list_14 = []\n",
        "my_list_15 = []\n",
        "\n",
        "for index, sublist in df_new7['Warranty'].items():\n",
        "  if isinstance(sublist, list):\n",
        "    if len(sublist) == 1:\n",
        "      my_list_4.append((index, sublist[0]))\n",
        "    if len(sublist) == 2:\n",
        "      my_list_5.append((index, sublist[1]))\n",
        "    if len(sublist) >=3:\n",
        "      sublist = [item for item in sublist if item.strip() != '']\n",
        "      if len(sublist) == 1:\n",
        "        my_list_6.append((index, sublist[0]))\n",
        "      if len(sublist) == 2:\n",
        "        my_list_7.append((index, sublist[0]))\n",
        "        my_list_8.append((index, sublist[1]))\n",
        "      if len(sublist) == 3:\n",
        "        my_list_9.append((index, sublist[0]))\n",
        "        my_list_10.append((index, sublist[1]))\n",
        "        my_list_11.append((index, sublist[2]))\n",
        "      if len(sublist) == 4:\n",
        "        my_list_12.append((index, sublist[0]))\n",
        "        my_list_13.append((index, sublist[1]))\n",
        "        my_list_14.append((index, sublist[2]))\n",
        "        my_list_15.append((index, sublist[3]))"
      ],
      "metadata": {
        "id": "XHJfuGqV-vrf"
      },
      "execution_count": null,
      "outputs": []
    },
    {
      "cell_type": "code",
      "source": [
        "my_list_15"
      ],
      "metadata": {
        "id": "gbwNFnv6xedg"
      },
      "execution_count": null,
      "outputs": []
    },
    {
      "cell_type": "code",
      "source": [
        "len(my_list_4), len(my_list_5), len(my_list_6), len(my_list_7), len(my_list_8), len(my_list_9), len(my_list_10), len(my_list_11), len(my_list_12), len(my_list_13), len(my_list_14), len(my_list_15)"
      ],
      "metadata": {
        "id": "tJdYV6ad-vvl"
      },
      "execution_count": null,
      "outputs": []
    },
    {
      "cell_type": "code",
      "source": [
        "df_new7['Warranty Type_1'] = None\n",
        "df_new7['Warranty Type_2'] = None\n",
        "df_new7['Warranty Type_3'] = None\n",
        "df_new7['Warranty Type_4'] = None\n",
        "df_new7['Warranty Type_5'] = None\n",
        "df_new7['Warranty Type_6'] = None\n",
        "df_new7['Warranty Type_7'] = None\n",
        "df_new7['Warranty Type_8'] = None\n",
        "df_new7['Warranty Type_9'] = None\n",
        "df_new7['Warranty Type_10'] = None\n",
        "df_new7['Warranty Type_11'] = None\n",
        "df_new7['Warranty Type_12'] = None"
      ],
      "metadata": {
        "id": "YwEaNHWW-wGr"
      },
      "execution_count": null,
      "outputs": []
    },
    {
      "cell_type": "code",
      "source": [
        "for index, value in my_list_4:\n",
        "  df_new7.at[index, 'Warranty Type_1'] = value\n",
        "for index, value in my_list_5:\n",
        "  df_new7.at[index, 'Warranty Type_2'] = value\n",
        "for index, value in my_list_6:\n",
        "  df_new7.at[index, 'Warranty Type_3'] = value\n",
        "for index, value in my_list_7:\n",
        "  df_new7.at[index, 'Warranty Type_4'] = value\n",
        "for index, value in my_list_8:\n",
        "  df_new7.at[index, 'Warranty Type_5'] = value\n",
        "for index, value in my_list_9:\n",
        "  df_new7.at[index, 'Warranty Type_6'] = value\n",
        "for index, value in my_list_10:\n",
        "  df_new7.at[index, 'Warranty Type_7'] = value\n",
        "for index, value in my_list_11:\n",
        "  df_new7.at[index, 'Warranty Type_8'] = value\n",
        "for index, value in my_list_12:\n",
        "  df_new7.at[index, 'Warranty Type_9'] = value\n",
        "for index, value in my_list_13:\n",
        "  df_new7.at[index, 'Warranty Type_10'] = value\n",
        "for index, value in my_list_14:\n",
        "  df_new7.at[index, 'Warranty Type_11'] = value\n",
        "for index, value in my_list_15:\n",
        "  df_new7.at[index, 'Warranty Type_12'] = value"
      ],
      "metadata": {
        "id": "GsvFGfOQJ_QU"
      },
      "execution_count": null,
      "outputs": []
    },
    {
      "cell_type": "code",
      "source": [
        "df_new7['Warranty Type_1'] = df_new7['Warranty Type_1'].replace({'\\n': None})\n",
        "df_new7['Warranty Type_1'] = df_new7['Warranty Type_1'].str.strip()\n",
        "\n",
        "df_new7['Warranty Type_2'] = df_new7['Warranty Type_2'].replace({'\\n': None})\n",
        "df_new7['Warranty Type_2'] = df_new7['Warranty Type_2'].str.strip()\n",
        "\n",
        "df_new7['Warranty Type_3'] = df_new7['Warranty Type_3'].replace({'\\n': None})\n",
        "df_new7['Warranty Type_3'] = df_new7['Warranty Type_3'].str.strip()\n",
        "\n",
        "df_new7['Warranty Type_4'] = df_new7['Warranty Type_4'].replace({'\\n': None})\n",
        "df_new7['Warranty Type_4'] = df_new7['Warranty Type_4'].str.strip()\n",
        "\n",
        "df_new7['Warranty Type_5'] = df_new7['Warranty Type_5'].replace({'\\n': None})\n",
        "df_new7['Warranty Type_5'] = df_new7['Warranty Type_5'].str.strip()\n",
        "\n",
        "df_new7['Warranty Type_6'] = df_new7['Warranty Type_6'].replace({'\\n': None})\n",
        "df_new7['Warranty Type_6'] = df_new7['Warranty Type_6'].str.strip()\n",
        "\n",
        "df_new7['Warranty Type_7'] = df_new7['Warranty Type_7'].replace({'\\n': None})\n",
        "df_new7['Warranty Type_7'] = df_new7['Warranty Type_7'].str.strip()\n",
        "\n",
        "df_new7['Warranty Type_8'] = df_new7['Warranty Type_8'].replace({'\\n': None})\n",
        "df_new7['Warranty Type_8'] = df_new7['Warranty Type_8'].str.strip()\n",
        "\n",
        "df_new7['Warranty Type_9'] = df_new7['Warranty Type_9'].replace({'\\n': None})\n",
        "df_new7['Warranty Type_9'] = df_new7['Warranty Type_9'].str.strip()\n",
        "\n",
        "df_new7['Warranty Type_10'] = df_new7['Warranty Type_10'].replace({'\\n': None})\n",
        "df_new7['Warranty Type_10'] = df_new7['Warranty Type_10'].str.strip()\n",
        "\n",
        "df_new7['Warranty Type_11'] = df_new7['Warranty Type_11'].replace({'\\n': None})\n",
        "df_new7['Warranty Type_11'] = df_new7['Warranty Type_11'].str.strip()\n",
        "\n",
        "df_new7['Warranty Type_12'] = df_new7['Warranty Type_12'].replace({'\\n': None})\n",
        "df_new7['Warranty Type_12'] = df_new7['Warranty Type_12'].str.strip()"
      ],
      "metadata": {
        "id": "rQOMfQFfKEWO"
      },
      "execution_count": null,
      "outputs": []
    },
    {
      "cell_type": "code",
      "source": [
        "df_new7.loc[12109][['Warranty', 'Warranty Time','Warranty Type_1', 'Warranty Type_7', 'Warranty Type_8', 'Warranty Type_9', 'Warranty Type_10', 'Warranty Type_11', 'Warranty Type_12']]"
      ],
      "metadata": {
        "id": "83Kaaw3o82Fd"
      },
      "execution_count": null,
      "outputs": []
    },
    {
      "cell_type": "code",
      "source": [
        "df_new7['Full Service'].info()"
      ],
      "metadata": {
        "id": "Bkvybmao8_GX"
      },
      "execution_count": null,
      "outputs": []
    },
    {
      "cell_type": "code",
      "source": [
        "df_new7['Full Service'].value_counts()"
      ],
      "metadata": {
        "id": "WkG8cxgQ8cM_"
      },
      "execution_count": null,
      "outputs": []
    },
    {
      "cell_type": "code",
      "source": [
        "df_new7.loc[2400:2450]['Full Service']"
      ],
      "metadata": {
        "id": "EsZD8V-NN4-q"
      },
      "execution_count": null,
      "outputs": []
    },
    {
      "cell_type": "code",
      "source": [
        "my_list_16 = []\n",
        "my_list_17 = []\n",
        "for sublist in df_new7['Full Service']:\n",
        "  if isinstance(sublist, list):\n",
        "    my_list_16.append(len(sublist))\n",
        "  if isinstance(sublist, str):\n",
        "    my_list_17.append(sublist.strip())\n",
        "print(len(my_list_16), np.unique(my_list_16), len(my_list_17), np.unique(my_list_17))"
      ],
      "metadata": {
        "id": "Q92LQmnP-wKq"
      },
      "execution_count": null,
      "outputs": []
    },
    {
      "cell_type": "code",
      "source": [
        "my_list_18 = []\n",
        "for sublist in df_new7['Full Service']:\n",
        "  if isinstance(sublist, list):\n",
        "    if len(sublist) > 2:\n",
        "      sublist = [item for item in sublist if item != '\\n']\n",
        "      my_list_18.append(len(sublist))\n",
        "print(len(my_list_18), np.unique(my_list_18))\n"
      ],
      "metadata": {
        "id": "v90zh7Y9-wSG"
      },
      "execution_count": null,
      "outputs": []
    },
    {
      "cell_type": "code",
      "source": [
        "my_list_19 = []\n",
        "my_list_20 = []\n",
        "my_list_21 = []\n",
        "my_list_22 = []\n",
        "my_list_23 = []\n",
        "my_list_24 = []\n",
        "my_list_25 = []\n",
        "\n",
        "for index, sublist in df_new7['Full Service'].items():\n",
        "  if isinstance(sublist, list):\n",
        "    if len(sublist) == 2:\n",
        "      my_list_19.append((index, sublist[0]))\n",
        "      my_list_20.append((index, sublist[1]))\n",
        "    if len(sublist) > 2:\n",
        "      sublist = [item for item in sublist if item != '\\n']\n",
        "      if len(sublist) == 1:\n",
        "        my_list_21.append((index, sublist[0]))\n",
        "      if len(sublist) == 3:\n",
        "        my_list_22.append((index, sublist[0]))\n",
        "        my_list_23.append((index, sublist[1]))\n",
        "        my_list_24.append((index, sublist[2]))\n",
        "  if isinstance(sublist, str):\n",
        "    my_list_25.append((index, sublist))\n",
        "\n",
        "print(len(my_list_19), len(my_list_20), len(my_list_21), len(my_list_22), len(my_list_23), len(my_list_24), len(my_list_25))\n",
        "my_list_23\n",
        "#21\n",
        "#22 combo\n",
        "#23 city\n",
        "#24 country"
      ],
      "metadata": {
        "id": "gZ7t5WG6-3TY"
      },
      "execution_count": null,
      "outputs": []
    },
    {
      "cell_type": "code",
      "source": [
        "df_new7['Full Service Type_1'] = None\n",
        "df_new7['Full Service Type_2'] = None\n",
        "df_new7['Full Service Type_3'] = None\n",
        "df_new7['Full Service Type_4'] = None\n",
        "df_new7['Full Service Type_5'] = None\n",
        "df_new7['Full Service Type_6'] = None\n",
        "df_new7['Full Service Type_7'] = None\n"
      ],
      "metadata": {
        "id": "cpZa5S-IKBQH"
      },
      "execution_count": null,
      "outputs": []
    },
    {
      "cell_type": "code",
      "source": [
        "for index, value in my_list_19:\n",
        "  df_new7.at[index, 'Full Service Type_1'] = value\n",
        "for index, value in my_list_20:\n",
        "  df_new7.at[index, 'Full Service Type_2'] = value\n",
        "for index, value in my_list_21:\n",
        "  df_new7.at[index, 'Full Service Type_3'] = value\n",
        "for index, value in my_list_22:\n",
        "  df_new7.at[index, 'Full Service Type_4'] = value\n",
        "for index, value in my_list_23:\n",
        "  df_new7.at[index, 'Full Service Type_5'] = value\n",
        "for index, value in my_list_24:\n",
        "  df_new7.at[index, 'Full Service Type_6'] = value\n",
        "for index, value in my_list_25:\n",
        "  df_new7.at[index, 'Full Service Type_7'] = value"
      ],
      "metadata": {
        "id": "5rCULy0YKS1y"
      },
      "execution_count": null,
      "outputs": []
    },
    {
      "cell_type": "code",
      "source": [
        "df_new7['Full Service Type_1'] = df_new7['Full Service Type_1'].replace({'\\n': None})\n",
        "df_new7['Full Service Type_1'] = df_new7['Full Service Type_1'].str.strip()\n",
        "df_new7['Full Service Type_2'] = df_new7['Full Service Type_2'].replace({'\\n': None})\n",
        "df_new7['Full Service Type_2'] = df_new7['Full Service Type_2'].str.strip()\n",
        "df_new7['Full Service Type_3'] = df_new7['Full Service Type_3'].replace({'\\n': None})\n",
        "df_new7['Full Service Type_3'] = df_new7['Full Service Type_3'].str.strip()\n",
        "df_new7['Full Service Type_4'] = df_new7['Full Service Type_4'].replace({'\\n': None})\n",
        "df_new7['Full Service Type_4'] = df_new7['Full Service Type_4'].str.strip()\n",
        "df_new7['Full Service Type_5'] = df_new7['Full Service Type_5'].replace({'\\n': None})\n",
        "df_new7['Full Service Type_5'] = df_new7['Full Service Type_5'].str.strip()\n",
        "df_new7['Full Service Type_6'] = df_new7['Full Service Type_6'].replace({'\\n': None})\n",
        "df_new7['Full Service Type_6'] = df_new7['Full Service Type_6'].str.strip()\n",
        "df_new7['Full Service Type_7'] = df_new7['Full Service Type_7'].replace({'\\n': None})\n",
        "df_new7['Full Service Type_7'] = df_new7['Full Service Type_7'].str.strip()"
      ],
      "metadata": {
        "id": "5Xa5qIC3KS9X"
      },
      "execution_count": null,
      "outputs": []
    },
    {
      "cell_type": "code",
      "source": [
        "df_new7.loc[12757][['Full Service', 'Full Service Type_1', 'Full Service Type_2', 'Full Service Type_3', 'Full Service Type_4', 'Full Service Type_5', 'Full Service Type_6', 'Full Service Type_7']]"
      ],
      "metadata": {
        "id": "9Iy8znqcKBgV"
      },
      "execution_count": null,
      "outputs": []
    },
    {
      "cell_type": "code",
      "source": [
        "df_new7['Non-smoking Vehicle'].value_counts()"
      ],
      "metadata": {
        "id": "eC6wczTLKBkU"
      },
      "execution_count": null,
      "outputs": []
    },
    {
      "cell_type": "code",
      "source": [
        "my_list_26 = []\n",
        "for sublist in df_new7['Non-smoking Vehicle']:\n",
        "  if isinstance(sublist, list):\n",
        "    my_list_26.append(len(sublist))\n",
        "  if isinstance(sublist, str):\n",
        "    my_list_26.append(sublist.strip())\n",
        "len(my_list_26), np.unique(my_list_26)"
      ],
      "metadata": {
        "id": "Dyd6s1ZiKBsp"
      },
      "execution_count": null,
      "outputs": []
    },
    {
      "cell_type": "code",
      "source": [
        "my_list_27 = []\n",
        "for sublist in df_new7['Non-smoking Vehicle']:\n",
        "  if isinstance(sublist, list):\n",
        "    if len(sublist) > 1:\n",
        "      sublist = [item for item in sublist if item != '\\n']\n",
        "      my_list_27.append(len(sublist))\n",
        "len(my_list_27), np.unique(my_list_27)"
      ],
      "metadata": {
        "id": "7ymDo-orKBvr"
      },
      "execution_count": null,
      "outputs": []
    },
    {
      "cell_type": "code",
      "source": [
        "my_list_28 = []\n",
        "my_list_29 = []\n",
        "my_list_30 = []\n",
        "my_list_31 = []\n",
        "my_list_32 = []\n",
        "my_list_33 = []\n",
        "my_list_34 = []\n"
      ],
      "metadata": {
        "id": "Z6wha1RQctpg"
      },
      "execution_count": null,
      "outputs": []
    },
    {
      "cell_type": "code",
      "source": [
        "for index, sublist in df_new7['Non-smoking Vehicle'].items():\n",
        "  if isinstance(sublist, list):\n",
        "    if len(sublist) == 2:\n",
        "      my_list_28.append((index, sublist[0]))\n",
        "      my_list_29.append((index, sublist[1]))\n",
        "    if len(sublist) > 2:\n",
        "      sublist = [item for item in sublist if item != '\\n']\n",
        "      if len(sublist) == 1:\n",
        "        my_list_30.append((index, sublist[0]))\n",
        "      if len(sublist) == 3:\n",
        "        my_list_31.append((index, sublist[0]))\n",
        "        my_list_32.append((index, sublist[1]))\n",
        "        my_list_33.append((index, sublist[2]))\n",
        "  if isinstance(sublist, str):\n",
        "    my_list_34.append((index, sublist))\n",
        "\n",
        "print(len(my_list_28), len(my_list_29), len(my_list_30), len(my_list_31), len(my_list_32), len(my_list_33), len(my_list_34))\n",
        "\n",
        "my_list_31"
      ],
      "metadata": {
        "id": "8zE5YwtRk9lX"
      },
      "execution_count": null,
      "outputs": []
    },
    {
      "cell_type": "code",
      "source": [
        "for i in range(1,8):\n",
        "  df_new7[f'Non-smoking Vehicle {i}'] = None\n",
        "\n",
        "lists = [my_list_28, my_list_29, my_list_30, my_list_31, my_list_32, my_list_33, my_list_34]\n",
        "\n",
        "for j, lst in enumerate(lists, start = 1):\n",
        "  for index, value in lst:\n",
        "    df_new7.at[index, f'Non-smoking Vehicle {j}'] = value\n",
        "\n",
        "for k in range(1,8):\n",
        "  df_new7[f'Non-smoking Vehicle {k}'] = df_new7[f'Non-smoking Vehicle {k}'].replace({'\\n' : None}).str.strip()\n"
      ],
      "metadata": {
        "id": "CZeGTuxgeRkw"
      },
      "execution_count": null,
      "outputs": []
    },
    {
      "cell_type": "code",
      "source": [
        "df_new7[['Non-smoking Vehicle', 'Non-smoking Vehicle 1', 'Non-smoking Vehicle 2', 'Non-smoking Vehicle 3', 'Non-smoking Vehicle 4', 'Non-smoking Vehicle 5', 'Non-smoking Vehicle 6', 'Non-smoking Vehicle 7']].head(50)"
      ],
      "metadata": {
        "id": "OReJvQh5hKcw"
      },
      "execution_count": null,
      "outputs": []
    },
    {
      "cell_type": "code",
      "source": [
        "df_new7.loc[5148][['Non-smoking Vehicle', 'Non-smoking Vehicle 1', 'Non-smoking Vehicle 2', 'Non-smoking Vehicle 3', 'Non-smoking Vehicle 4', 'Non-smoking Vehicle 5', 'Non-smoking Vehicle 6', 'Non-smoking Vehicle 7']]"
      ],
      "metadata": {
        "id": "PEwsEW3reR5S"
      },
      "execution_count": null,
      "outputs": []
    },
    {
      "cell_type": "code",
      "source": [
        "df_new8 = df_new7.drop('null', axis = 1)"
      ],
      "metadata": {
        "id": "7wcKR0QLeR-6"
      },
      "execution_count": null,
      "outputs": []
    },
    {
      "cell_type": "code",
      "source": [
        "df_new8['Make'].unique()"
      ],
      "metadata": {
        "id": "n9T8SwQgeSD0"
      },
      "execution_count": null,
      "outputs": []
    },
    {
      "cell_type": "code",
      "source": [
        "df_new8['Make'] = df_new8['Make'].str.strip()\n",
        "df_new8['Make'].unique()"
      ],
      "metadata": {
        "id": "kTQJu-7AeSH9"
      },
      "execution_count": null,
      "outputs": []
    },
    {
      "cell_type": "code",
      "source": [
        "df_new8['Model'].value_counts()"
      ],
      "metadata": {
        "id": "YAk7-mDaeSLn"
      },
      "execution_count": null,
      "outputs": []
    },
    {
      "cell_type": "code",
      "source": [
        "my_list_35 = []\n",
        "my_list_36 = []\n",
        "for sublist in df_new8['Model']:\n",
        "  if isinstance(sublist, list):\n",
        "    my_list_35.append(len(sublist))\n",
        "    sublist = [item for item in sublist if item != '\\n']\n",
        "    my_list_36.append(len(sublist))\n",
        "print(len(my_list_35), np.unique(my_list_35), len(my_list_36), np.unique(my_list_36))"
      ],
      "metadata": {
        "id": "Nq1MfaSQeSQD"
      },
      "execution_count": null,
      "outputs": []
    },
    {
      "cell_type": "code",
      "source": [
        "my_list_37 = []\n",
        "for index, sublist in df_new8['Model'].items():\n",
        "  if isinstance(sublist, list):\n",
        "    sublist = [item for item in sublist if item != '\\n']\n",
        "    my_list_37.append((index, sublist[0]))"
      ],
      "metadata": {
        "id": "S2pZQGIteSX1"
      },
      "execution_count": null,
      "outputs": []
    },
    {
      "cell_type": "code",
      "source": [
        "df_new8['Model Type'] = None\n",
        "for index, value in my_list_37:\n",
        "  df_new8.at[index, 'Model Type'] = value\n",
        "df_new8['Model Type'] = df_new8['Model Type'].str.strip()"
      ],
      "metadata": {
        "id": "ZpwPy44zeSbT"
      },
      "execution_count": null,
      "outputs": []
    },
    {
      "cell_type": "code",
      "source": [
        "df_new8[['Make', 'Model', 'Model Type']].head(50)"
      ],
      "metadata": {
        "id": "6aHqrJOfeSfL"
      },
      "execution_count": null,
      "outputs": []
    },
    {
      "cell_type": "code",
      "source": [
        "df_new9 = df_new8.drop('Model', axis = 1)"
      ],
      "metadata": {
        "id": "y0cDd2h6eSio"
      },
      "execution_count": null,
      "outputs": []
    },
    {
      "cell_type": "code",
      "source": [
        "df_new9['Offer Number'].value_counts()"
      ],
      "metadata": {
        "id": "TRj-VsP0mRhU"
      },
      "execution_count": null,
      "outputs": []
    },
    {
      "cell_type": "code",
      "source": [
        "my_list_38 = []\n",
        "for sublist in df_new9['Offer Number']:\n",
        "  if isinstance(sublist, list):\n",
        "    my_list_38.append(len(sublist))\n",
        "print(len(my_list_38), np.unique(my_list_38))"
      ],
      "metadata": {
        "id": "oxXw6nxOm-FA"
      },
      "execution_count": null,
      "outputs": []
    },
    {
      "cell_type": "code",
      "source": [
        "my_list_39 = []\n",
        "for index, sublist in df_new9['Offer Number'].items():\n",
        "  if isinstance(sublist, list):\n",
        "    my_list_39.append((index, sublist[0].strip()))\n",
        "len(my_list_39)"
      ],
      "metadata": {
        "id": "DkrJSjAEm-KK"
      },
      "execution_count": null,
      "outputs": []
    },
    {
      "cell_type": "code",
      "source": [
        "df_new9['Offer Number 1'] = None\n",
        "for index, value in my_list_39:\n",
        "  df_new9.at[index, 'Offer Number 1'] = value\n",
        "df_new9[['Offer Number', 'Offer Number 1']].head(50)"
      ],
      "metadata": {
        "id": "Q0qpw81Wm-Oe"
      },
      "execution_count": null,
      "outputs": []
    },
    {
      "cell_type": "code",
      "source": [
        "df_new9.info()"
      ],
      "metadata": {
        "id": "ADp_LK1youOA"
      },
      "execution_count": null,
      "outputs": []
    },
    {
      "cell_type": "code",
      "source": [
        "df_new9['First Registration'].value_counts()"
      ],
      "metadata": {
        "id": "BIAj1A4rm-SO"
      },
      "execution_count": null,
      "outputs": []
    },
    {
      "cell_type": "code",
      "source": [
        "my_list_40 = []\n",
        "for sublist in df_new9['First Registration']:\n",
        "  if isinstance(sublist, list):\n",
        "    my_list_40.append(len(sublist))\n",
        "print(len(my_list_40), np.unique(my_list_40))"
      ],
      "metadata": {
        "id": "rlnMbJ8-m-V8"
      },
      "execution_count": null,
      "outputs": []
    },
    {
      "cell_type": "code",
      "source": [
        "my_list_41 = []\n",
        "for sublist in df_new9['First Registration']:\n",
        "  if isinstance(sublist, list):\n",
        "    sublist = [item for item in sublist if item != '\\n']\n",
        "    my_list_41.append(len(sublist))\n",
        "print(len(my_list_41), np.unique(my_list_41))"
      ],
      "metadata": {
        "id": "wOqV6HVgm-Zm"
      },
      "execution_count": null,
      "outputs": []
    },
    {
      "cell_type": "code",
      "source": [
        "my_list_42 = []\n",
        "for index, sublist in df_new9['First Registration'].items():\n",
        "  if isinstance(sublist, list):\n",
        "    sublist = [item for item in sublist if item != '\\n']\n",
        "    my_list_42.append((index, sublist[0].strip()))\n",
        "my_list_42"
      ],
      "metadata": {
        "id": "MmvNfX0rm-di"
      },
      "execution_count": null,
      "outputs": []
    },
    {
      "cell_type": "code",
      "source": [
        "df_new9['First Registration 1'] = None\n",
        "for index, value in my_list_42:\n",
        "  df_new9.at[index, 'First Registration 1'] = value\n",
        "df_new9[['First Registration', 'First Registration 1']].head(50)"
      ],
      "metadata": {
        "id": "pi7H7x2cm-g-"
      },
      "execution_count": null,
      "outputs": []
    },
    {
      "cell_type": "code",
      "source": [
        "df_new9['Body Color'].info()"
      ],
      "metadata": {
        "id": "Bqz52xibm-kw"
      },
      "execution_count": null,
      "outputs": []
    },
    {
      "cell_type": "code",
      "source": [
        "my_list_43 = []\n",
        "for sublist in df_new9['Body Color']:\n",
        "  if isinstance(sublist, list):\n",
        "    my_list_43.append(len(sublist))\n",
        "print(len(my_list_43), np.unique(my_list_43))"
      ],
      "metadata": {
        "id": "gZ2XIjb_m-oD"
      },
      "execution_count": null,
      "outputs": []
    },
    {
      "cell_type": "code",
      "source": [
        "my_list_44 = []\n",
        "for sublist in df_new9['Body Color']:\n",
        "  if isinstance(sublist, list):\n",
        "    sublist = [item for item in sublist if item != '\\n']\n",
        "    my_list_44.append(len(sublist))\n",
        "print(len(my_list_44), np.unique(my_list_44))"
      ],
      "metadata": {
        "id": "AuUs_xHEm-rd"
      },
      "execution_count": null,
      "outputs": []
    },
    {
      "cell_type": "code",
      "source": [
        "my_list_45 = []\n",
        "for index, sublist in df_new9['Body Color'].items():\n",
        "  if isinstance(sublist, list):\n",
        "    sublist = [item.strip() for item in sublist if item != '\\n']\n",
        "    my_list_45.append((index, sublist[0]))\n",
        "len(my_list_45)"
      ],
      "metadata": {
        "id": "LB97iT1cm-t9"
      },
      "execution_count": null,
      "outputs": []
    },
    {
      "cell_type": "code",
      "source": [
        "df_new9['Body Color 1'] = None\n",
        "for index, value in my_list_45:\n",
        "  df_new9.at[index, 'Body Color 1'] = value\n",
        "print(len(df_new9['Body Color']))\n",
        "df_new9[['Body Color', 'Body Color 1']].head(50)"
      ],
      "metadata": {
        "id": "nrYzur75qvfu"
      },
      "execution_count": null,
      "outputs": []
    },
    {
      "cell_type": "code",
      "source": [
        "df_new9.info()"
      ],
      "metadata": {
        "id": "33V_oosFqvkz"
      },
      "execution_count": null,
      "outputs": []
    },
    {
      "cell_type": "code",
      "source": [
        "df_new9['Paint Type'].value_counts()"
      ],
      "metadata": {
        "id": "NaUSawIaqvpE"
      },
      "execution_count": null,
      "outputs": []
    },
    {
      "cell_type": "code",
      "source": [
        "my_list_46 = []\n",
        "for index, sublist in df_new9['Paint Type'].items():\n",
        "  if isinstance(sublist, list):\n",
        "    sublist = [item for item in sublist if item != '\\n']\n",
        "    my_list_46.append((index, sublist[0].strip()))\n",
        "print(len(my_list_46))"
      ],
      "metadata": {
        "id": "eaw4EkbQqvtU"
      },
      "execution_count": null,
      "outputs": []
    },
    {
      "cell_type": "code",
      "source": [
        "df_new9['Paint Type 1'] = None\n",
        "for index, value in my_list_46:\n",
        "  df_new9.at[index, 'Paint Type 1'] = value\n",
        "print(len(df_new9['Paint Type']), len(df_new9['Paint Type 1']))\n",
        "df_new9[['Paint Type', 'Paint Type 1']].head(50)\n"
      ],
      "metadata": {
        "id": "D2jb9HAtqvxE"
      },
      "execution_count": null,
      "outputs": []
    },
    {
      "cell_type": "code",
      "source": [
        "df_new9.info()"
      ],
      "metadata": {
        "id": "xjT8OS4Zqv1L"
      },
      "execution_count": null,
      "outputs": []
    },
    {
      "cell_type": "code",
      "source": [
        "df_new9['Body Color Original'].value_counts()"
      ],
      "metadata": {
        "id": "2WGzAm-wqv45"
      },
      "execution_count": null,
      "outputs": []
    },
    {
      "cell_type": "code",
      "source": [
        "my_list_47 = []\n",
        "for sublist in df_new9['Body Color Original']:\n",
        "  if isinstance(sublist, list):\n",
        "    my_list_47.append(len(sublist))\n",
        "print(len(my_list_47), np.unique(my_list_47))"
      ],
      "metadata": {
        "id": "raNV6kf4qv8g"
      },
      "execution_count": null,
      "outputs": []
    },
    {
      "cell_type": "code",
      "source": [
        "my_list_48 = []\n",
        "for index, sublist in df_new9['Body Color Original'].items():\n",
        "  if isinstance(sublist, list):\n",
        "    sublist = [item for item in sublist if item != '\\n']\n",
        "    my_list_48.append((index, sublist[0].strip()))\n",
        "print(len(my_list_48))"
      ],
      "metadata": {
        "id": "I3ofamAsqwAW"
      },
      "execution_count": null,
      "outputs": []
    },
    {
      "cell_type": "code",
      "source": [
        "df_new9['Body Color Original 1'] = None\n",
        "for index, value in my_list_48:\n",
        "  df_new9.at[index, 'Body Color Original 1'] = value\n",
        "print(len(df_new9['Body Color Original']), len(df_new9['Body Color Original 1']))\n",
        "df_new9[['Body Color Original', 'Body Color Original 1']].head(50)"
      ],
      "metadata": {
        "id": "5Fi6DT7OqwDf"
      },
      "execution_count": null,
      "outputs": []
    },
    {
      "cell_type": "code",
      "source": [
        "df_new9.info()"
      ],
      "metadata": {
        "id": "OMvXWsYsuPP4"
      },
      "execution_count": null,
      "outputs": []
    },
    {
      "cell_type": "code",
      "source": [
        "df_new9['Upholstery'].value_counts()"
      ],
      "metadata": {
        "id": "X2BGUHQwuPat"
      },
      "execution_count": null,
      "outputs": []
    },
    {
      "cell_type": "code",
      "source": [
        "my_list_49 = []\n",
        "for sublist in df_new9['Upholstery']:\n",
        "  if isinstance(sublist, list):\n",
        "    my_list_49.append(len(sublist))\n",
        "print(len(my_list_49), np.unique(my_list_49))"
      ],
      "metadata": {
        "id": "VOSU_IKSuPjF"
      },
      "execution_count": null,
      "outputs": []
    },
    {
      "cell_type": "code",
      "source": [
        "my_list_50 = []\n",
        "for sublist in df_new9['Upholstery']:\n",
        "  if isinstance(sublist, list):\n",
        "    sublist = sublist[0].strip().split(',')\n",
        "    my_list_50.append(len(sublist))\n",
        "print(len(my_list_50), np.unique(my_list_50))"
      ],
      "metadata": {
        "id": "lpjEJcc6w8VZ"
      },
      "execution_count": null,
      "outputs": []
    },
    {
      "cell_type": "code",
      "source": [
        "my_list_51 = []\n",
        "my_list_52 = []\n",
        "my_list_53 = []\n",
        "for sublist in df_new9['Upholstery']:\n",
        "  if isinstance(sublist, list):\n",
        "    sublist = sublist[0].strip().split(',')\n",
        "    if len(sublist) == 1:\n",
        "      my_list_51.append(sublist[0])\n",
        "    if len(sublist) == 2:\n",
        "      my_list_52.append(sublist[0])\n",
        "      my_list_53.append(sublist[1])\n",
        "print(len(my_list_51), len(my_list_52), len(my_list_53))\n",
        "np.unique(my_list_51), np.unique(my_list_52), np.unique(my_list_53)\n"
      ],
      "metadata": {
        "id": "HgFlnaPruPol"
      },
      "execution_count": null,
      "outputs": []
    },
    {
      "cell_type": "code",
      "source": [
        "my_list_54 = []\n",
        "my_list_55 = []\n",
        "my_list_56 = []\n",
        "my_list_57 = []\n",
        "\n",
        "valid_values = ['Cloth', 'Full leather', 'Other', 'Part leather', 'Velour', 'alcantara']\n",
        "for index, sublist in df_new9['Upholstery'].items():\n",
        "  if isinstance(sublist, list):\n",
        "    sublist = sublist[0].strip().split(',')\n",
        "    if len(sublist) == 1:\n",
        "      if sublist[0] in valid_values:\n",
        "        my_list_54.append((index, sublist[0]))\n",
        "      else:\n",
        "        my_list_55.append((index, sublist[0]))\n",
        "    if len(sublist) == 2:\n",
        "      my_list_56.append((index, sublist[0]))\n",
        "      my_list_57.append((index, sublist[1]))\n",
        "print(len(my_list_54), len(my_list_55), len(my_list_56), len(my_list_57))\n",
        "\n"
      ],
      "metadata": {
        "id": "w_iHiqg_uP4Z"
      },
      "execution_count": null,
      "outputs": []
    },
    {
      "cell_type": "code",
      "source": [
        "df_new9['Upholstery 1'] = None\n",
        "df_new9['Upholstery 2'] = None\n",
        "df_new9['Upholstery 3'] = None\n",
        "df_new9['Upholstery 4'] = None"
      ],
      "metadata": {
        "id": "8kR0z_fX0IXE"
      },
      "execution_count": null,
      "outputs": []
    },
    {
      "cell_type": "code",
      "source": [
        "for index, value in my_list_54:\n",
        "  df_new9.at[index, 'Upholstery 1'] = value\n",
        "for index, value in my_list_55:\n",
        "  df_new9.at[index, 'Upholstery 2'] = value\n",
        "for index, value in my_list_56:\n",
        "  df_new9.at[index, 'Upholstery 3'] = value\n",
        "for index, value in my_list_57:\n",
        "  df_new9.at[index, 'Upholstery 4'] = value\n",
        "\n",
        "print(len(df_new9['Upholstery']), len(df_new9['Upholstery 1']), len(df_new9['Upholstery 2']), len(df_new9['Upholstery 3']), len(df_new9['Upholstery 4']))\n",
        "print(df_new9['Upholstery'].isnull().sum()), print(df_new9['Upholstery 1'].isnull().sum()), print(df_new9['Upholstery 2'].isnull().sum())\n",
        "print(df_new9['Upholstery 3'].isnull().sum()), print(df_new9['Upholstery 4'].isnull().sum())"
      ],
      "metadata": {
        "id": "tz4AAlMNuP-7"
      },
      "execution_count": null,
      "outputs": []
    },
    {
      "cell_type": "code",
      "source": [
        "df_new9[['Upholstery', 'Upholstery 1', 'Upholstery 2', 'Upholstery 3', 'Upholstery 4']].head(50)"
      ],
      "metadata": {
        "id": "o9aI7z_bHg-I"
      },
      "execution_count": null,
      "outputs": []
    },
    {
      "cell_type": "code",
      "source": [
        "df_new9['Upholstery 3'] = df_new9['Upholstery 3'].fillna(df_new9['Upholstery 1'])\n",
        "df_new9['Upholstery 4'] = df_new9['Upholstery 4'].fillna(df_new9['Upholstery 2'])"
      ],
      "metadata": {
        "id": "fgFUH4L0Hqox"
      },
      "execution_count": null,
      "outputs": []
    },
    {
      "cell_type": "code",
      "source": [
        "print(df_new9['Upholstery'].isnull().sum()), print(df_new9['Upholstery 1'].isnull().sum()), print(df_new9['Upholstery 2'].isnull().sum())\n",
        "print(df_new9['Upholstery 3'].isnull().sum()), print(df_new9['Upholstery 4'].isnull().sum())"
      ],
      "metadata": {
        "id": "GGZVzWvFH2PZ"
      },
      "execution_count": null,
      "outputs": []
    },
    {
      "cell_type": "code",
      "source": [
        "df_new10 = df_new9.drop(['Upholstery 1', 'Upholstery 2'], axis = 1)"
      ],
      "metadata": {
        "id": "IO7hZZPPKEHB"
      },
      "execution_count": null,
      "outputs": []
    },
    {
      "cell_type": "code",
      "source": [
        "df_new10.info()"
      ],
      "metadata": {
        "id": "2WkfhdDpKQWe"
      },
      "execution_count": null,
      "outputs": []
    },
    {
      "cell_type": "code",
      "source": [
        "df_new10['Body'].value_counts()"
      ],
      "metadata": {
        "id": "RvbH9PHoKaGt"
      },
      "execution_count": null,
      "outputs": []
    },
    {
      "cell_type": "code",
      "source": [
        "my_list_58 = []\n",
        "for sublist in df_new10['Body']:\n",
        "  if isinstance(sublist, list):\n",
        "    my_list_58.append(len(sublist))\n",
        "print(len(my_list_58), np.unique(my_list_58))"
      ],
      "metadata": {
        "id": "X-lJ-0rkKQbT"
      },
      "execution_count": null,
      "outputs": []
    },
    {
      "cell_type": "code",
      "source": [
        "my_list_59 = []\n",
        "for index, sublist in df_new10['Body'].items():\n",
        "  if isinstance(sublist, list):\n",
        "    sublist = [item for item in sublist if item != '\\n']\n",
        "    my_list_59.append((index, sublist[0].strip()))"
      ],
      "metadata": {
        "id": "fZfxs8OlKQf8"
      },
      "execution_count": null,
      "outputs": []
    },
    {
      "cell_type": "code",
      "source": [
        "df_new10['Body 1'] = None\n",
        "for index, value in my_list_59:\n",
        "  df_new10.at[index, 'Body 1'] = value\n",
        "\n",
        "df_new10[['Body', 'Body 1']].head(50)"
      ],
      "metadata": {
        "id": "lcIFYNs6KQjw"
      },
      "execution_count": null,
      "outputs": []
    },
    {
      "cell_type": "code",
      "source": [
        "print(len(df_new10['Body']), len(df_new10['Body 1']))\n",
        "print(df_new10['Body'].isnull().sum()), print(df_new10['Body 1'].isnull().sum())"
      ],
      "metadata": {
        "id": "2ticeAG9KQnj"
      },
      "execution_count": null,
      "outputs": []
    },
    {
      "cell_type": "code",
      "source": [
        "df_new10.info()"
      ],
      "metadata": {
        "id": "88a62Xr8KQrT"
      },
      "execution_count": null,
      "outputs": []
    },
    {
      "cell_type": "code",
      "source": [
        "df_new10['Nr. of Doors'].value_counts()"
      ],
      "metadata": {
        "id": "gF7l_C_rKQu1"
      },
      "execution_count": null,
      "outputs": []
    },
    {
      "cell_type": "code",
      "source": [
        "my_list_60 = []\n",
        "for sublist in df_new10['Nr. of Doors']:\n",
        "  if isinstance(sublist, list):\n",
        "    my_list_60.append(len(sublist))\n",
        "print(len(my_list_60), np.unique(my_list_60))"
      ],
      "metadata": {
        "id": "gp_1aazoKQyU"
      },
      "execution_count": null,
      "outputs": []
    },
    {
      "cell_type": "code",
      "source": [
        "my_list_61 = []\n",
        "for index, sublist in df_new10['Nr. of Doors'].items():\n",
        "  if isinstance(sublist, list):\n",
        "    my_list_61.append((index, sublist[0].strip()))\n",
        "len(my_list_61)"
      ],
      "metadata": {
        "id": "tdfiteD9KQ1j"
      },
      "execution_count": null,
      "outputs": []
    },
    {
      "cell_type": "code",
      "source": [
        "df_new10['Nr. of Doors 1'] = None\n",
        "for index, value in my_list_61:\n",
        "  df_new10.at[index, 'Nr. of Doors 1'] = value\n",
        "\n",
        "print(len(df_new10['Nr. of Doors']), len(df_new10['Nr. of Doors 1']))\n",
        "print(df_new10['Nr. of Doors'].isnull().sum()), print(df_new10['Nr. of Doors 1'].isnull().sum())"
      ],
      "metadata": {
        "id": "meq7dQk-KQ4t"
      },
      "execution_count": null,
      "outputs": []
    },
    {
      "cell_type": "code",
      "source": [
        "df_new10[['Nr. of Doors', 'Nr. of Doors 1']].head(50)"
      ],
      "metadata": {
        "id": "YgGMgAoHKQ8o"
      },
      "execution_count": null,
      "outputs": []
    },
    {
      "cell_type": "code",
      "source": [
        "df_new10.info()"
      ],
      "metadata": {
        "id": "CHhjR2GJeVvv"
      },
      "execution_count": null,
      "outputs": []
    },
    {
      "cell_type": "code",
      "source": [
        "df_new10['Nr. of Seats'].value_counts()"
      ],
      "metadata": {
        "id": "deMR5BYSeV1A"
      },
      "execution_count": null,
      "outputs": []
    },
    {
      "cell_type": "code",
      "source": [
        "my_list_62 = []\n",
        "for sublist in df_new10['Nr. of Seats']:\n",
        "  if isinstance(sublist, list):\n",
        "    my_list_62.append(len(sublist))\n",
        "print(len(my_list_62), np.unique(my_list_62))"
      ],
      "metadata": {
        "id": "bZxI7OqPeV6S"
      },
      "execution_count": null,
      "outputs": []
    },
    {
      "cell_type": "code",
      "source": [
        "my_list_63 = []\n",
        "for index, sublist in df_new10['Nr. of Seats'].items():\n",
        "  if isinstance(sublist, list):\n",
        "    my_list_63.append((index, sublist[0].strip()))\n",
        "print(len(my_list_63))"
      ],
      "metadata": {
        "id": "XiqDoAhjeV-0"
      },
      "execution_count": null,
      "outputs": []
    },
    {
      "cell_type": "code",
      "source": [
        "df_new10['Nr. of Seats 1'] = None\n",
        "for index, value in my_list_63:\n",
        "  df_new10.at[index, 'Nr. of Seats 1'] = value\n",
        "\n",
        "print(len(df_new10['Nr. of Seats']), len(df_new10['Nr. of Seats 1']))\n",
        "print(df_new10['Nr. of Seats'].isnull().sum()), print(df_new10['Nr. of Seats 1'].isnull().sum())"
      ],
      "metadata": {
        "id": "H2U0UFq8eWDk"
      },
      "execution_count": null,
      "outputs": []
    },
    {
      "cell_type": "code",
      "source": [
        "df_new10[['Nr. of Seats', 'Nr. of Seats 1']].head(50)"
      ],
      "metadata": {
        "id": "wfvh5y9NeWHu"
      },
      "execution_count": null,
      "outputs": []
    },
    {
      "cell_type": "code",
      "source": [
        "df_new10.info()"
      ],
      "metadata": {
        "id": "cSGR_wyreWL9"
      },
      "execution_count": null,
      "outputs": []
    },
    {
      "cell_type": "code",
      "source": [
        "df_new10['Model Code'].value_counts()"
      ],
      "metadata": {
        "id": "payGvMxWeWPy"
      },
      "execution_count": null,
      "outputs": []
    },
    {
      "cell_type": "code",
      "source": [
        "my_list_64 = []\n",
        "for sublist in df_new10['Model Code']:\n",
        "  if isinstance(sublist, list):\n",
        "    my_list_64.append(len(sublist))\n",
        "print(len(my_list_64), np.unique(my_list_64))"
      ],
      "metadata": {
        "id": "mPTB1AXfeWTL"
      },
      "execution_count": null,
      "outputs": []
    },
    {
      "cell_type": "code",
      "source": [
        "my_list_65 = []\n",
        "for index, sublist in df_new10['Model Code'].items():\n",
        "  if isinstance(sublist, list):\n",
        "    my_list_65.append((index, sublist[0].strip()))\n",
        "print(len(my_list_65))"
      ],
      "metadata": {
        "id": "w334L68ceWWQ"
      },
      "execution_count": null,
      "outputs": []
    },
    {
      "cell_type": "code",
      "source": [
        "df_new10['Model Code 1'] = None\n",
        "for index, value in my_list_65:\n",
        "  df_new10.at[index, 'Model Code 1'] = value\n",
        "print(len(df_new10['Model Code']), len(df_new10['Model Code 1']))\n",
        "print(df_new10['Model Code'].isnull().sum()), print(df_new10['Model Code 1'].isnull().sum())"
      ],
      "metadata": {
        "id": "4LDZNGlDgH33"
      },
      "execution_count": null,
      "outputs": []
    },
    {
      "cell_type": "code",
      "source": [
        "df_new10[['Model Code', 'Model Code 1']].head(50)"
      ],
      "metadata": {
        "id": "avnWhx4VgH9M"
      },
      "execution_count": null,
      "outputs": []
    },
    {
      "cell_type": "code",
      "source": [
        "df_new10.info()"
      ],
      "metadata": {
        "id": "f2CJGsDQgICR"
      },
      "execution_count": null,
      "outputs": []
    },
    {
      "cell_type": "code",
      "source": [
        "df_new10['Gearing Type'].value_counts()"
      ],
      "metadata": {
        "id": "StGklijtgIG1"
      },
      "execution_count": null,
      "outputs": []
    },
    {
      "cell_type": "code",
      "source": [
        "my_list_66 = []\n",
        "for sublist in df_new10['Gearing Type']:\n",
        "  if isinstance(sublist, list):\n",
        "    my_list_66.append(len(sublist))\n",
        "print(len(my_list_66), np.unique(my_list_66))"
      ],
      "metadata": {
        "id": "z4dA114ogILC"
      },
      "execution_count": null,
      "outputs": []
    },
    {
      "cell_type": "code",
      "source": [
        "my_list_67 = []\n",
        "for sublist in df_new10['Gearing Type']:\n",
        "  if isinstance(sublist, list):\n",
        "    sublist = [item for item in sublist if item != '\\n']\n",
        "    my_list_67.append(len(sublist))\n",
        "print(len(my_list_67), np.unique(my_list_67))"
      ],
      "metadata": {
        "id": "n2v6kR4KgIO4"
      },
      "execution_count": null,
      "outputs": []
    },
    {
      "cell_type": "code",
      "source": [
        "my_list_68 = []\n",
        "for index, sublist in df_new10['Gearing Type'].items():\n",
        "  if isinstance(sublist, list):\n",
        "    sublist = [item for item in sublist if item != '\\n']\n",
        "    my_list_68.append((index, sublist[0].strip()))\n",
        "print(len(my_list_68))\n"
      ],
      "metadata": {
        "id": "vKjLFTpygISK"
      },
      "execution_count": null,
      "outputs": []
    },
    {
      "cell_type": "code",
      "source": [
        "df_new10['Gearing Type 1'] = None\n",
        "for index, value in my_list_68:\n",
        "  df_new10.at[index, 'Gearing Type 1'] = value\n",
        "\n",
        "print(len(df_new10['Gearing Type']), len(df_new10['Gearing Type 1']))\n",
        "print(df_new10['Gearing Type'].isnull().sum()), print(df_new10['Gearing Type 1'].isnull().sum())"
      ],
      "metadata": {
        "id": "bV97KWSgeWZb"
      },
      "execution_count": null,
      "outputs": []
    },
    {
      "cell_type": "code",
      "source": [
        "df_new10[['Gearing Type', 'Gearing Type 1']].head(50)"
      ],
      "metadata": {
        "id": "pf36rmb7hQAE"
      },
      "execution_count": null,
      "outputs": []
    },
    {
      "cell_type": "code",
      "source": [
        "df_new10.info()"
      ],
      "metadata": {
        "id": "6hNWDHxLhQFQ"
      },
      "execution_count": null,
      "outputs": []
    },
    {
      "cell_type": "code",
      "source": [
        "df_new10['Displacement'].value_counts()"
      ],
      "metadata": {
        "id": "qIj3L0IphQJz"
      },
      "execution_count": null,
      "outputs": []
    },
    {
      "cell_type": "code",
      "source": [
        "my_list_69 = []\n",
        "for sublist in df_new10['Displacement']:\n",
        "  if isinstance(sublist, list):\n",
        "    my_list_69.append(len(sublist))\n",
        "print(len(my_list_69), np.unique(my_list_69))"
      ],
      "metadata": {
        "id": "adB2iouPhQOD"
      },
      "execution_count": null,
      "outputs": []
    },
    {
      "cell_type": "code",
      "source": [
        "my_list_70 = []\n",
        "for index, sublist in df_new10['Displacement'].items():\n",
        "  if isinstance(sublist, list):\n",
        "    my_list_70.append((index, sublist[0].strip()))\n",
        "print(len(my_list_70))"
      ],
      "metadata": {
        "id": "FaZAzL4hhQec"
      },
      "execution_count": null,
      "outputs": []
    },
    {
      "cell_type": "code",
      "source": [
        "df_new10['Displacement 1'] = None\n",
        "for index, value in my_list_70:\n",
        "  df_new10.at[index, 'Displacement 1'] = value\n",
        "\n",
        "print(len(df_new10['Displacement']), len(df_new10['Displacement 1']))\n",
        "print(df_new10['Displacement'].isnull().sum()), print(df_new10['Displacement 1'].isnull().sum())"
      ],
      "metadata": {
        "id": "4l69O0u4hQh2"
      },
      "execution_count": null,
      "outputs": []
    },
    {
      "cell_type": "code",
      "source": [
        "df_new10[['Displacement', 'Displacement 1']].head(50)"
      ],
      "metadata": {
        "id": "1ndCRYHBhQlC"
      },
      "execution_count": null,
      "outputs": []
    },
    {
      "cell_type": "code",
      "source": [
        "df_new10.info()"
      ],
      "metadata": {
        "id": "qAAJ3vb_hQsR"
      },
      "execution_count": null,
      "outputs": []
    },
    {
      "cell_type": "code",
      "source": [
        "df_new10['Cylinders'].value_counts()"
      ],
      "metadata": {
        "id": "x-dVBX4piL10"
      },
      "execution_count": null,
      "outputs": []
    },
    {
      "cell_type": "code",
      "source": [
        "my_list_71 = []\n",
        "for sublist in df_new10['Cylinders']:\n",
        "  if isinstance(sublist, list):\n",
        "    my_list_71.append(len(sublist))\n",
        "print(len(my_list_71), np.unique(my_list_71))"
      ],
      "metadata": {
        "id": "cZ2wWv46iL68"
      },
      "execution_count": null,
      "outputs": []
    },
    {
      "cell_type": "code",
      "source": [
        "my_list_72 = []\n",
        "for index, sublist in df_new10['Cylinders'].items():\n",
        "  if isinstance(sublist, list):\n",
        "    my_list_72.append((index, sublist[0].strip()))\n",
        "print(len(my_list_72))"
      ],
      "metadata": {
        "id": "eJG0LAniiL_N"
      },
      "execution_count": null,
      "outputs": []
    },
    {
      "cell_type": "code",
      "source": [
        "df_new10['Cylinders 1'] = None\n",
        "for index, value in my_list_72:\n",
        "  df_new10.at[index, 'Cylinders 1'] = value\n",
        "\n",
        "print(len(df_new10['Cylinders']), len(df_new10['Cylinders 1']))\n",
        "print(df_new10['Cylinders'].isnull().sum()), print(df_new10['Cylinders 1'].isnull().sum())"
      ],
      "metadata": {
        "id": "4nhT1yQUiMDb"
      },
      "execution_count": null,
      "outputs": []
    },
    {
      "cell_type": "code",
      "source": [
        "df_new10[['Cylinders', 'Cylinders 1']].head(50)"
      ],
      "metadata": {
        "id": "qvN6e-HPiMHf"
      },
      "execution_count": null,
      "outputs": []
    },
    {
      "cell_type": "code",
      "source": [
        "df_new10.info()"
      ],
      "metadata": {
        "id": "G-IDj2xKiMLO"
      },
      "execution_count": null,
      "outputs": []
    },
    {
      "cell_type": "code",
      "source": [
        "df_new10['Weight'].value_counts()"
      ],
      "metadata": {
        "id": "RMTf21v4iMO4"
      },
      "execution_count": null,
      "outputs": []
    },
    {
      "cell_type": "code",
      "source": [
        "my_list_73 = []\n",
        "for sublist in df_new10['Weight']:\n",
        "  if isinstance(sublist, list):\n",
        "    my_list_73.append(len(sublist))\n",
        "\n",
        "print(len(my_list_73), np.unique(my_list_73))"
      ],
      "metadata": {
        "id": "GU9bMtXFiMSu"
      },
      "execution_count": null,
      "outputs": []
    },
    {
      "cell_type": "code",
      "source": [
        "my_list_74 = []\n",
        "for index, sublist in df_new10['Weight'].items():\n",
        "  if isinstance(sublist, list):\n",
        "    my_list_74.append((index, sublist[0].strip()))\n",
        "print(len(my_list_74))"
      ],
      "metadata": {
        "id": "M3f9aBUKiMW-"
      },
      "execution_count": null,
      "outputs": []
    },
    {
      "cell_type": "code",
      "source": [
        "df_new10['Weight 1'] = None\n",
        "for index, value in my_list_74:\n",
        "  df_new10.at[index, 'Weight 1'] = value\n",
        "\n",
        "print(len(df_new10['Weight']), len(df_new10['Weight 1']))\n",
        "print(df_new10['Weight'].isnull().sum()), print(df_new10['Weight 1'].isnull().sum())"
      ],
      "metadata": {
        "id": "CMQmByjMiMae"
      },
      "execution_count": null,
      "outputs": []
    },
    {
      "cell_type": "code",
      "source": [
        "df_new10[['Weight', 'Weight 1']].head(50)"
      ],
      "metadata": {
        "id": "xD20GajViMfG"
      },
      "execution_count": null,
      "outputs": []
    },
    {
      "cell_type": "code",
      "source": [
        "df_new10['Weight 1'] = df_new10['Weight 1'].str.replace('kg', '')\n",
        "df_new10[['Weight', 'Weight 1']]"
      ],
      "metadata": {
        "id": "ZL35jYPAmSqh"
      },
      "execution_count": null,
      "outputs": []
    },
    {
      "cell_type": "code",
      "source": [
        "df_new10['Weight 1'] = df_new10['Weight 1'].str.replace(',', '')\n",
        "df_new10[['Weight', 'Weight 1']]\n"
      ],
      "metadata": {
        "id": "7gwQZr-2nz7o"
      },
      "execution_count": null,
      "outputs": []
    },
    {
      "cell_type": "code",
      "source": [
        "print(df_new10['Weight'].isnull().sum()), print(df_new10['Weight 1'].isnull().sum())\n",
        "print(len(df_new10['Weight']), len(df_new10['Weight 1']))"
      ],
      "metadata": {
        "id": "gapoWueRn0K2"
      },
      "execution_count": null,
      "outputs": []
    },
    {
      "cell_type": "code",
      "source": [
        "df_new10['Weight 2'] = pd.to_numeric(df_new10['Weight 1'], errors='coerce')\n",
        "df_new10['Weight 2'] = df_new10['Weight 2'].astype('Int64')\n",
        "df_new10[['Weight', 'Weight 1', 'Weight 2']]"
      ],
      "metadata": {
        "id": "wGQf18UPn0N-"
      },
      "execution_count": null,
      "outputs": []
    },
    {
      "cell_type": "code",
      "source": [
        "print(df_new10['Weight'].isnull().sum()), print(df_new10['Weight 1'].isnull().sum()), print(df_new10['Weight 2'].isnull().sum())"
      ],
      "metadata": {
        "id": "X0J_MR0VwFB_"
      },
      "execution_count": null,
      "outputs": []
    },
    {
      "cell_type": "code",
      "source": [
        "df_new10.info()"
      ],
      "metadata": {
        "id": "TA0SoermwFHd"
      },
      "execution_count": null,
      "outputs": []
    },
    {
      "cell_type": "code",
      "source": [
        "df_new10['Drive chain'].value_counts()"
      ],
      "metadata": {
        "id": "YCrQ3BTjwFMI"
      },
      "execution_count": null,
      "outputs": []
    },
    {
      "cell_type": "code",
      "source": [
        "my_list_75 = []\n",
        "for sublist in df_new10['Drive chain']:\n",
        "  if isinstance(sublist, list):\n",
        "    my_list_75.append(len(sublist))\n",
        "print(len(my_list_75), np.unique(my_list_75))"
      ],
      "metadata": {
        "id": "wmi6Ir6JwFQo"
      },
      "execution_count": null,
      "outputs": []
    },
    {
      "cell_type": "code",
      "source": [
        "my_list_76 = []\n",
        "for index, sublist in df_new10['Drive chain'].items():\n",
        "  if isinstance(sublist, list):\n",
        "    my_list_76.append((index, sublist[0].strip()))\n",
        "\n",
        "print(len(my_list_76))"
      ],
      "metadata": {
        "id": "_w9n-snvwFTm"
      },
      "execution_count": null,
      "outputs": []
    },
    {
      "cell_type": "code",
      "source": [
        "df_new10['Drive chain 1'] = None\n",
        "for index, value in my_list_76:\n",
        "  df_new10.at[index, 'Drive chain 1'] = value\n",
        "\n",
        "print(len(df_new10['Drive chain']), len(df_new10['Drive chain 1']))\n",
        "print(df_new10['Drive chain'].isnull().sum()), print(df_new10['Drive chain 1'].isnull().sum())"
      ],
      "metadata": {
        "id": "dSLg0R01w9os"
      },
      "execution_count": null,
      "outputs": []
    },
    {
      "cell_type": "code",
      "source": [
        "df_new10[['Drive chain', 'Drive chain 1']].head(50)"
      ],
      "metadata": {
        "id": "TTSCF7XFyLaJ"
      },
      "execution_count": null,
      "outputs": []
    },
    {
      "cell_type": "code",
      "source": [
        "df_new10.info()"
      ],
      "metadata": {
        "id": "wPnhcZtpw9tq"
      },
      "execution_count": null,
      "outputs": []
    },
    {
      "cell_type": "code",
      "source": [
        "df_new10['Fuel'].value_counts()"
      ],
      "metadata": {
        "id": "DEd_xBDGw9yE"
      },
      "execution_count": null,
      "outputs": []
    },
    {
      "cell_type": "code",
      "source": [
        "my_list_77 = []\n",
        "for sublist in df_new10['Fuel']:\n",
        "  if isinstance(sublist, list):\n",
        "    my_list_77.append(len(sublist))\n",
        "print(len(my_list_77), np.unique(my_list_77))"
      ],
      "metadata": {
        "id": "X7JUWLH5w92d"
      },
      "execution_count": null,
      "outputs": []
    },
    {
      "cell_type": "code",
      "source": [
        "my_list_78 = []\n",
        "for sublist in df_new10['Fuel']:\n",
        "  if isinstance(sublist, list):\n",
        "    sublist = [item for item in sublist if item != '\\n']\n",
        "    my_list_78.append(len(sublist))\n",
        "print(len(my_list_78), np.unique(my_list_78))"
      ],
      "metadata": {
        "id": "t5FdB6Tyw96m"
      },
      "execution_count": null,
      "outputs": []
    },
    {
      "cell_type": "code",
      "source": [
        "my_list_79 = []\n",
        "for index, sublist in df_new10['Fuel'].items():\n",
        "  if isinstance(sublist, list):\n",
        "    sublist = [item for item in sublist if item != '\\n']\n",
        "    my_list_79.append((index, sublist[0].strip()))\n",
        "print(len(my_list_79))"
      ],
      "metadata": {
        "id": "93TYJG_Ww9_R"
      },
      "execution_count": null,
      "outputs": []
    },
    {
      "cell_type": "code",
      "source": [
        "df_new10['Fuel 1'] = None\n",
        "for index, value in my_list_79:\n",
        "  df_new10.at[index, 'Fuel 1'] = value\n",
        "\n",
        "print(len(df_new10['Fuel']), len(df_new10['Fuel 1']))\n",
        "print(df_new10['Fuel'].isnull().sum()), print(df_new10['Fuel 1'].isnull().sum())"
      ],
      "metadata": {
        "id": "y9V52deUw-Ci"
      },
      "execution_count": null,
      "outputs": []
    },
    {
      "cell_type": "code",
      "source": [
        "df_new10[['Fuel', 'Fuel 1']].head(50)"
      ],
      "metadata": {
        "id": "k5im0FzHySPa"
      },
      "execution_count": null,
      "outputs": []
    },
    {
      "cell_type": "code",
      "source": [
        "df_new10.info()"
      ],
      "metadata": {
        "id": "AihaXaLPyb0i"
      },
      "execution_count": null,
      "outputs": []
    },
    {
      "cell_type": "code",
      "source": [
        "df_new10['Consumption'].value_counts()"
      ],
      "metadata": {
        "id": "b-Na5wZI2vNW"
      },
      "execution_count": null,
      "outputs": []
    },
    {
      "cell_type": "code",
      "source": [
        "my_list_80 = []\n",
        "for sublist in df_new10['Consumption']:\n",
        "  if isinstance(sublist, list):\n",
        "    my_list_80.append(len(sublist))\n",
        "print(len(my_list_80), np.unique(my_list_80))"
      ],
      "metadata": {
        "id": "_RXym89m2vSL"
      },
      "execution_count": null,
      "outputs": []
    },
    {
      "cell_type": "code",
      "source": [
        "my_list_81 = []\n",
        "for sublist in df_new10['Consumption']:\n",
        "  if isinstance(sublist, list):\n",
        "    sublist = [item for item in sublist if item != '\\n']\n",
        "    my_list_81.append(len(sublist))\n",
        "print(len(my_list_81), np.unique(my_list_81))"
      ],
      "metadata": {
        "id": "LzGmeVp52vW7"
      },
      "execution_count": null,
      "outputs": []
    },
    {
      "cell_type": "code",
      "source": [
        "my_list_82 = []\n",
        "my_list_83 = []\n",
        "my_list_84 = []\n",
        "my_list_85 = []\n",
        "\n",
        "for index, sublist in df_new10['Consumption'].items():\n",
        "  if isinstance(sublist, list):\n",
        "    sublist = [item for item in sublist if item != '\\n']\n",
        "    if len(sublist) == 1:\n",
        "      my_list_82.append((index, sublist[0]))\n",
        "    if len(sublist) == 3:\n",
        "      my_list_83.append((index, sublist[0]))\n",
        "      my_list_84.append((index, sublist[1]))\n",
        "      my_list_85.append((index, sublist[2]))\n",
        "\n",
        "print(len(my_list_82), len(my_list_83), len(my_list_84), len(my_list_85))\n",
        "my_list_82"
      ],
      "metadata": {
        "id": "Z3Uznedl2vbm"
      },
      "execution_count": null,
      "outputs": []
    },
    {
      "cell_type": "code",
      "source": [
        "df_new10['Consumption 1'] = None\n",
        "df_new10['Consumption 2'] = None\n",
        "df_new10['Consumption 3'] = None\n",
        "df_new10['Consumption 4'] = None\n",
        "\n",
        "for index, value in my_list_82:\n",
        "  df_new10.at[index, 'Consumption 1'] = value\n",
        "for index, value in my_list_83:\n",
        "  df_new10.at[index, 'Consumption 2'] = value\n",
        "for index, value in my_list_84:\n",
        "  df_new10.at[index, 'Consumption 3'] = value\n",
        "for index, value in my_list_85:\n",
        "  df_new10.at[index, 'Consumption 4'] = value"
      ],
      "metadata": {
        "id": "TP9501stMeMG"
      },
      "execution_count": null,
      "outputs": []
    },
    {
      "cell_type": "code",
      "source": [
        "df_new10['Consumption 1'] = df_new10['Consumption 1'].apply(lambda x: x[0] if isinstance(x, list) and len(x) == 1 else x)\n",
        "df_new10['Consumption 2'] = df_new10['Consumption 2'].apply(lambda x: x[0] if isinstance(x, list) and len(x) == 1 else x)\n",
        "df_new10['Consumption 3'] = df_new10['Consumption 3'].apply(lambda x: x[0] if isinstance(x, list) and len(x) == 1 else x)\n",
        "df_new10['Consumption 4'] = df_new10['Consumption 4'].apply(lambda x: x[0] if isinstance(x, list) and len(x) == 1 else x)\n"
      ],
      "metadata": {
        "id": "sIFH8FrQPfOf"
      },
      "execution_count": null,
      "outputs": []
    },
    {
      "cell_type": "code",
      "source": [
        "print(len(df_new10['Consumption']), len(df_new10['Consumption 1']), len(df_new10['Consumption 2']), len(df_new10['Consumption 3']), len(df_new10['Consumption 4']))"
      ],
      "metadata": {
        "id": "leCqlGeKL3OB"
      },
      "execution_count": null,
      "outputs": []
    },
    {
      "cell_type": "code",
      "source": [
        "print(df_new10['Consumption'].isnull().sum()), print(df_new10['Consumption 1'].isnull().sum()), print(df_new10['Consumption 2'].isnull().sum())\n",
        "print(df_new10['Consumption 3'].isnull().sum()), print(df_new10['Consumption 4'].isnull().sum())"
      ],
      "metadata": {
        "id": "L0syVNYOL7BB"
      },
      "execution_count": null,
      "outputs": []
    },
    {
      "cell_type": "code",
      "source": [
        "df_new10[['Consumption', 'Consumption 1', 'Consumption 2', 'Consumption 3', 'Consumption 4']].head(50)"
      ],
      "metadata": {
        "id": "zmE7jmQtJ5u1"
      },
      "execution_count": null,
      "outputs": []
    },
    {
      "cell_type": "code",
      "source": [
        "df_new10.loc[3617][['Consumption', 'Consumption 1', 'Consumption 2', 'Consumption 3', 'Consumption 4']]"
      ],
      "metadata": {
        "id": "5DKIUfihJ5z5"
      },
      "execution_count": null,
      "outputs": []
    },
    {
      "cell_type": "code",
      "source": [
        "df_new10.info()"
      ],
      "metadata": {
        "id": "7WMV3S7OJ58d"
      },
      "execution_count": null,
      "outputs": []
    },
    {
      "cell_type": "code",
      "source": [
        "df_new10['CO2 Emission'].info()"
      ],
      "metadata": {
        "id": "GxRX8lNEJ6AL"
      },
      "execution_count": null,
      "outputs": []
    },
    {
      "cell_type": "code",
      "source": [
        "df_new10['CO2 Emission'].value_counts()"
      ],
      "metadata": {
        "id": "fU_eUMeFJ6Di"
      },
      "execution_count": null,
      "outputs": []
    },
    {
      "cell_type": "code",
      "source": [
        "my_list_86 = []\n",
        "\n",
        "for sublist in df_new10['CO2 Emission']:\n",
        "  if isinstance(sublist, list):\n",
        "    my_list_86.append(len(sublist))\n",
        "print(len(my_list_86), np.unique(my_list_86))"
      ],
      "metadata": {
        "id": "dzvNHd4xJ6GU"
      },
      "execution_count": null,
      "outputs": []
    },
    {
      "cell_type": "code",
      "source": [
        "my_list_87 = []\n",
        "my_list_88 = []\n",
        "my_list_89 = []\n",
        "my_list_90 = []\n",
        "\n",
        "for index, sublist in df_new10['CO2 Emission'].items():\n",
        "  if isinstance(sublist, list):\n",
        "    if len(sublist) == 1:\n",
        "      my_list_87.append((index, sublist[0]))\n",
        "    if len(sublist) == 3:\n",
        "      my_list_88.append((index, sublist[0]))\n",
        "      my_list_89.append((index, sublist[1]))\n",
        "      my_list_90.append((index, sublist[2]))\n",
        "\n",
        "print(len(my_list_87), len(my_list_88), len(my_list_89), len(my_list_90))\n",
        "my_list_88"
      ],
      "metadata": {
        "id": "ehru9VyjQcZX"
      },
      "execution_count": null,
      "outputs": []
    },
    {
      "cell_type": "code",
      "source": [
        "df_new10['CO2 Emission 1'] = None\n",
        "df_new10['CO2 Emission 2'] = None\n",
        "df_new10['CO2 Emission 3'] = None\n",
        "df_new10['CO2 Emission 4'] = None"
      ],
      "metadata": {
        "id": "Xwj4gL13Qcez"
      },
      "execution_count": null,
      "outputs": []
    },
    {
      "cell_type": "code",
      "source": [
        "for index, value in my_list_87:\n",
        "  df_new10.at[index, 'CO2 Emission 1'] = value\n",
        "for index, value in my_list_88:\n",
        "  df_new10.at[index, 'CO2 Emission 2'] = value\n",
        "for index, value in my_list_89:\n",
        "  df_new10.at[index, 'CO2 Emission 3'] = value\n",
        "for index, value in my_list_90:\n",
        "  df_new10.at[index, 'CO2 Emission 4'] = value\n",
        "\n",
        "print(len(df_new10['CO2 Emission']), len(df_new10['CO2 Emission 1']), len(df_new10['CO2 Emission 2']), len(df_new10['CO2 Emission 3']), len(df_new10['CO2 Emission 4']))\n",
        "print(df_new10['CO2 Emission'].isnull().sum()), print(df_new10['CO2 Emission 1'].isnull().sum()), print(df_new10['CO2 Emission 2'].isnull().sum()), print(df_new10['CO2 Emission 3'].isnull().sum()), print(df_new10['CO2 Emission 4'].isnull().sum())"
      ],
      "metadata": {
        "id": "i-53XL07QcjA"
      },
      "execution_count": null,
      "outputs": []
    },
    {
      "cell_type": "code",
      "source": [
        "df_new10['CO2 Emission 1'] = df_new10['CO2 Emission 1'].apply(lambda x: x[0] if isinstance(x, list) and len(x) == 1 else x)\n",
        "df_new10['CO2 Emission 2'] = df_new10['CO2 Emission 2'].apply(lambda x: x[0] if isinstance(x, list) and len(x) >= 1 else np.nan)\n",
        "df_new10['CO2 Emission 3'] = df_new10['CO2 Emission 3'].apply(lambda x: x[0] if isinstance(x, list) and len(x) >= 1 else np.nan)\n",
        "df_new10['CO2 Emission 4'] = df_new10['CO2 Emission 4'].apply(lambda x: x[0] if isinstance(x, list) and len(x) >= 1 else np.nan)"
      ],
      "metadata": {
        "id": "qNYuCFDqWfGV"
      },
      "execution_count": null,
      "outputs": []
    },
    {
      "cell_type": "code",
      "source": [
        "df_new10['CO2 Emission 1'] = df_new10['CO2 Emission 1'].str.strip()"
      ],
      "metadata": {
        "id": "CfFfVBoh1-xe"
      },
      "execution_count": null,
      "outputs": []
    },
    {
      "cell_type": "code",
      "source": [
        "df_new10[['CO2 Emission', 'CO2 Emission 1', 'CO2 Emission 2', 'CO2 Emission 3', 'CO2 Emission 4']].head(50)"
      ],
      "metadata": {
        "id": "Pve-ZeU0QcnG"
      },
      "execution_count": null,
      "outputs": []
    },
    {
      "cell_type": "code",
      "source": [
        "df_new10.loc[10630:10680][['CO2 Emission', 'CO2 Emission 1', 'CO2 Emission 2', 'CO2 Emission 3', 'CO2 Emission 4']]"
      ],
      "metadata": {
        "id": "wwjY5JvC3rjg"
      },
      "execution_count": null,
      "outputs": []
    },
    {
      "cell_type": "code",
      "source": [
        "df_new10['CO2 Emission 2'].unique(), df_new10['CO2 Emission 3'].unique(), df_new10['CO2 Emission 4'].unique()"
      ],
      "metadata": {
        "id": "X8WM8GH22w1I"
      },
      "execution_count": null,
      "outputs": []
    },
    {
      "cell_type": "code",
      "source": [
        "print(len(df_new10['CO2 Emission']), len(df_new10['CO2 Emission 1']), len(df_new10['CO2 Emission 2']), len(df_new10['CO2 Emission 3']), len(df_new10['CO2 Emission 4']))\n",
        "print(df_new10['CO2 Emission'].isnull().sum()), print(df_new10['CO2 Emission 1'].isnull().sum()), print(df_new10['CO2 Emission 2'].isnull().sum()), print(df_new10['CO2 Emission 3'].isnull().sum()), print(df_new10['CO2 Emission 4'].isnull().sum())"
      ],
      "metadata": {
        "id": "6bYx1xpa4tqV"
      },
      "execution_count": null,
      "outputs": []
    },
    {
      "cell_type": "code",
      "source": [
        "df_new10['CO2 Emission 2'] = pd.to_numeric(df_new10['CO2 Emission 2'], errors='coerce')\n",
        "df_new10['CO2 Emission 3'] = pd.to_numeric(df_new10['CO2 Emission 3'], errors='coerce')\n",
        "df_new10['CO2 Emission 4'] = pd.to_numeric(df_new10['CO2 Emission 4'], errors='coerce')"
      ],
      "metadata": {
        "id": "asa_SQM85Mn2"
      },
      "execution_count": null,
      "outputs": []
    },
    {
      "cell_type": "code",
      "source": [
        "df_new10['CO2 Emission 2'].dtype, df_new10['CO2 Emission 3'].dtype, df_new10['CO2 Emission 4'].dtype"
      ],
      "metadata": {
        "id": "tpDbt4sV6HLy"
      },
      "execution_count": null,
      "outputs": []
    },
    {
      "cell_type": "code",
      "source": [
        "df_new10['CO2 Emission 2'].unique(), df_new10['CO2 Emission 3'].unique(), df_new10['CO2 Emission 4'].unique()"
      ],
      "metadata": {
        "id": "Bj9ebBUt5f3g"
      },
      "execution_count": null,
      "outputs": []
    },
    {
      "cell_type": "code",
      "source": [
        "df_new10['CO2 Emission 2'].isna().sum(), df_new10['CO2 Emission 2'].notna().sum()"
      ],
      "metadata": {
        "id": "gI_Xpnqk6SPP"
      },
      "execution_count": null,
      "outputs": []
    },
    {
      "cell_type": "code",
      "source": [
        "print(len(df_new10['CO2 Emission']), len(df_new10['CO2 Emission 1']), len(df_new10['CO2 Emission 2']), len(df_new10['CO2 Emission 3']), len(df_new10['CO2 Emission 4']))\n",
        "print(df_new10['CO2 Emission'].isnull().sum()), print(df_new10['CO2 Emission 1'].isnull().sum()), print(df_new10['CO2 Emission 2'].isnull().sum()), print(df_new10['CO2 Emission 3'].isnull().sum()), print(df_new10['CO2 Emission 4'].isnull().sum())"
      ],
      "metadata": {
        "id": "sSud7Wno6An8"
      },
      "execution_count": null,
      "outputs": []
    },
    {
      "cell_type": "code",
      "source": [
        "df_new10['Emission Class'].info()"
      ],
      "metadata": {
        "id": "3KCNKGyJQc-x"
      },
      "execution_count": null,
      "outputs": []
    },
    {
      "cell_type": "code",
      "source": [
        "df_new10['Emission Class'].value_counts()"
      ],
      "metadata": {
        "id": "VyBtbnXEQdE7"
      },
      "execution_count": null,
      "outputs": []
    },
    {
      "cell_type": "code",
      "source": [
        "my_list_91 = []\n",
        "for sublist in df_new10['Emission Class']:\n",
        "  if isinstance(sublist, list):\n",
        "    my_list_91.append(len(sublist))\n",
        "print(len(my_list_91), np.unique(my_list_91)), my_list_91.count(1), my_list_91.count(3)"
      ],
      "metadata": {
        "id": "wUAj1ROHQdJV"
      },
      "execution_count": null,
      "outputs": []
    },
    {
      "cell_type": "code",
      "source": [
        "my_list_92 = []\n",
        "my_list_93 = []\n",
        "my_list_94 = []\n",
        "my_list_95 = []\n",
        "for index, sublist in df_new10['Emission Class'].items():\n",
        "  if isinstance(sublist, list):\n",
        "    if len(sublist) == 1:\n",
        "      my_list_92.append((index, sublist[0]))\n",
        "    if len(sublist) == 3:\n",
        "      my_list_93.append((index, sublist[0]))\n",
        "      my_list_94.append((index, sublist[1]))\n",
        "      my_list_95.append((index, sublist[2]))\n",
        "print(len(my_list_92), len(my_list_93), len(my_list_94), len(my_list_95))\n",
        "my_list_93, my_list_94, my_list_95"
      ],
      "metadata": {
        "id": "W7lvxvUCQdNF"
      },
      "execution_count": null,
      "outputs": []
    },
    {
      "cell_type": "code",
      "source": [
        "df_new10['Emission Class 1'] = None\n",
        "df_new10['Emission Class 2'] = None\n",
        "df_new10['Emission Class 3'] = None\n",
        "df_new10['Emission Class 4'] = None\n",
        "\n",
        "for index, value in my_list_92:\n",
        "  df_new10.at[index, 'Emission Class 1'] = value\n",
        "for index, value in my_list_93:\n",
        "  df_new10.at[index, 'Emission Class 2'] = value\n",
        "for index, value in my_list_94:\n",
        "  df_new10.at[index, 'Emission Class 3'] = value\n",
        "for index, value in my_list_95:\n",
        "  df_new10.at[index, 'Emission Class 4'] = value\n",
        "\n",
        "print(len(df_new10['Emission Class']), len(df_new10['Emission Class 1']), len(df_new10['Emission Class 2']), len(df_new10['Emission Class 3']), len(df_new10['Emission Class 4']))\n",
        "print(df_new10['Emission Class'].isnull().sum()), print(df_new10['Emission Class 1'].isnull().sum()), print(df_new10['Emission Class 2'].isnull().sum()), print(df_new10['Emission Class 3'].isnull().sum()), print(df_new10['Emission Class 4'].isnull().sum())"
      ],
      "metadata": {
        "id": "x47kqvedQdQW"
      },
      "execution_count": null,
      "outputs": []
    },
    {
      "cell_type": "code",
      "source": [
        "df_new10['Emission Class 1'] = df_new10['Emission Class 1'].apply(lambda x: x[0] if isinstance(x, list) and len(x) == 1 else x)\n",
        "df_new10['Emission Class 2'] = df_new10['Emission Class 2'].apply(lambda x: x[0] if isinstance(x, list) and len(x) >= 1 else np.nan)\n",
        "df_new10['Emission Class 3'] = df_new10['Emission Class 3'].apply(lambda x: x[0] if isinstance(x, list) and len(x) >= 1 else np.nan)\n",
        "df_new10['Emission Class 4'] = df_new10['Emission Class 4'].apply(lambda x: x[0] if isinstance(x, list) and len(x) >= 1 else np.nan)"
      ],
      "metadata": {
        "id": "OKZTUN4w1oRr"
      },
      "execution_count": null,
      "outputs": []
    },
    {
      "cell_type": "code",
      "source": [
        "df_new10['Emission Class 1'] = df_new10['Emission Class 1'].str.strip()"
      ],
      "metadata": {
        "id": "2kYfBSQR2TMg"
      },
      "execution_count": null,
      "outputs": []
    },
    {
      "cell_type": "code",
      "source": [
        "df_new10[['Emission Class', 'Emission Class 1', 'Emission Class 2', 'Emission Class 3', 'Emission Class 4']].head(50)"
      ],
      "metadata": {
        "id": "gr1-9y58QdT4"
      },
      "execution_count": null,
      "outputs": []
    },
    {
      "cell_type": "code",
      "source": [
        "df_new10[['Emission Class', 'Emission Class 1', 'Emission Class 2', 'Emission Class 3', 'Emission Class 4']].info()"
      ],
      "metadata": {
        "id": "HbVl21NkQdXv"
      },
      "execution_count": null,
      "outputs": []
    },
    {
      "cell_type": "code",
      "source": [
        "df_new10['Emission Label'].value_counts()"
      ],
      "metadata": {
        "id": "cjAwJTSaQdbP"
      },
      "execution_count": null,
      "outputs": []
    },
    {
      "cell_type": "code",
      "source": [
        "df_new10['Emission Label'].info()"
      ],
      "metadata": {
        "id": "HfmvCaiGQde2"
      },
      "execution_count": null,
      "outputs": []
    },
    {
      "cell_type": "code",
      "source": [
        "my_list_96 = []\n",
        "for sublist in df_new10['Emission Label']:\n",
        "  if isinstance(sublist, list):\n",
        "    my_list_96.append(len(sublist))\n",
        "print(len(my_list_96), np.unique(my_list_96))"
      ],
      "metadata": {
        "id": "CiDaFFxwQdh-"
      },
      "execution_count": null,
      "outputs": []
    },
    {
      "cell_type": "code",
      "source": [
        "my_list_97 = []\n",
        "\n",
        "for index, sublist in df_new10['Emission Label'].items():\n",
        "  if isinstance(sublist, list):\n",
        "    if len(sublist) == 1:\n",
        "      my_list_97.append((index, sublist[0]))\n",
        "print(len(my_list_97))"
      ],
      "metadata": {
        "id": "cQJOLOd1Qdlb"
      },
      "execution_count": null,
      "outputs": []
    },
    {
      "cell_type": "code",
      "source": [
        "df_new10['Emission Label 1'] = None\n",
        "\n",
        "for index, value in my_list_97:\n",
        "  df_new10.at[index, 'Emission Label 1'] = value.strip()\n",
        "\n",
        "print(len(df_new10['Emission Label']), len(df_new10['Emission Label 1']))\n",
        "print(df_new10['Emission Label'].isnull().sum()), print(df_new10['Emission Label 1'].isnull().sum())"
      ],
      "metadata": {
        "id": "MZnz5d-8QdsX"
      },
      "execution_count": null,
      "outputs": []
    },
    {
      "cell_type": "code",
      "source": [
        "df_new10[['Emission Label', 'Emission Label 1']].head(50)"
      ],
      "metadata": {
        "id": "JHzuQPkAQfBK"
      },
      "execution_count": null,
      "outputs": []
    },
    {
      "cell_type": "code",
      "source": [
        "df_new9.info()"
      ],
      "metadata": {
        "id": "ENp5vYhhQfGB"
      },
      "execution_count": null,
      "outputs": []
    },
    {
      "cell_type": "code",
      "source": [
        "df_new10['Gears'].value_counts()"
      ],
      "metadata": {
        "id": "gngrKTavQfKG"
      },
      "execution_count": null,
      "outputs": []
    },
    {
      "cell_type": "code",
      "source": [
        "df_new10['Gears'].info()"
      ],
      "metadata": {
        "id": "8uU908irQfNy"
      },
      "execution_count": null,
      "outputs": []
    },
    {
      "cell_type": "code",
      "source": [
        "my_list_98 = []\n",
        "for sublist in df_new10['Gears']:\n",
        "  if isinstance(sublist, list):\n",
        "    my_list_98.append(len(sublist))\n",
        "print(len(my_list_98), np.unique(my_list_98))"
      ],
      "metadata": {
        "id": "R34JEoZPQfRU"
      },
      "execution_count": null,
      "outputs": []
    },
    {
      "cell_type": "code",
      "source": [
        "my_list_99 = []\n",
        "for index, sublist in df_new10['Gears'].items():\n",
        "  if isinstance(sublist, list):\n",
        "    my_list_99.append((index, sublist[0].strip()))\n",
        "\n",
        "print(len(my_list_99))"
      ],
      "metadata": {
        "id": "pNYwLnp2QfUh"
      },
      "execution_count": null,
      "outputs": []
    },
    {
      "cell_type": "code",
      "source": [
        "df_new10['Gears 1'] = None\n",
        "for index, value in my_list_99:\n",
        "  df_new10.at[index, 'Gears 1'] = value\n",
        "\n",
        "print(len(df_new10['Gears']), len(df_new10['Gears 1'])), print(df_new10['Gears'].isnull().sum()), print(df_new10['Gears 1'].isnull().sum())"
      ],
      "metadata": {
        "id": "fFESvPXnQfX6"
      },
      "execution_count": null,
      "outputs": []
    },
    {
      "cell_type": "code",
      "source": [
        "df_new10[['Gears', 'Gears 1']].head(50)"
      ],
      "metadata": {
        "id": "tTfwPEs1Mens"
      },
      "execution_count": null,
      "outputs": []
    },
    {
      "cell_type": "code",
      "source": [
        "df_new10['Country version'].value_counts()"
      ],
      "metadata": {
        "id": "AkQOQUFyMexy"
      },
      "execution_count": null,
      "outputs": []
    },
    {
      "cell_type": "code",
      "source": [
        "df_new10['Country version'].info()"
      ],
      "metadata": {
        "id": "i1E9IXMxMe1x"
      },
      "execution_count": null,
      "outputs": []
    },
    {
      "cell_type": "code",
      "source": [
        "my_list_100 = []\n",
        "for sublist in df_new10['Country version']:\n",
        "  if isinstance(sublist, list):\n",
        "    my_list_100.append(len(sublist))\n",
        "print(len(my_list_100), np.unique(my_list_100))"
      ],
      "metadata": {
        "id": "lBfxlghpMe5q"
      },
      "execution_count": null,
      "outputs": []
    },
    {
      "cell_type": "code",
      "source": [
        "my_list_101 = []\n",
        "\n",
        "for index, sublist in df_new10['Country version'].items():\n",
        "  if isinstance(sublist, list):\n",
        "    my_list_101.append((index, sublist[0].strip()))\n",
        "\n",
        "print(len(my_list_101))\n",
        "my_list_101"
      ],
      "metadata": {
        "id": "Mq7ZxLFYMe9_"
      },
      "execution_count": null,
      "outputs": []
    },
    {
      "cell_type": "code",
      "source": [
        "df_new10['Country version 1'] = None\n",
        "\n",
        "for index, value in my_list_101:\n",
        "  df_new10.at[index, 'Country version 1'] = value\n",
        "\n",
        "\n"
      ],
      "metadata": {
        "id": "kvsl4D_dPjll"
      },
      "execution_count": null,
      "outputs": []
    },
    {
      "cell_type": "code",
      "source": [
        "print(len(df_new10['Country version']), len(df_new10['Country version 1']))\n",
        "print(df_new10['Country version'].isnull().sum()), print(df_new10['Country version 1'].isnull().sum())"
      ],
      "metadata": {
        "id": "dn7usi5UPj8J"
      },
      "execution_count": null,
      "outputs": []
    },
    {
      "cell_type": "code",
      "source": [
        "df_new10[['Country version', 'Country version 1']].head(50)"
      ],
      "metadata": {
        "id": "KmArqMYGPkBb"
      },
      "execution_count": null,
      "outputs": []
    },
    {
      "cell_type": "code",
      "source": [
        "df_new9.info()"
      ],
      "metadata": {
        "id": "TmwwZo61PkGG"
      },
      "execution_count": null,
      "outputs": []
    },
    {
      "cell_type": "code",
      "source": [
        "df_new10['Electricity consumption'].value_counts()"
      ],
      "metadata": {
        "id": "pa20KpRNPkLF"
      },
      "execution_count": null,
      "outputs": []
    },
    {
      "cell_type": "code",
      "source": [
        "my_lisit_102 = []\n",
        "for sublist in df_new10['Electricity consumption']:\n",
        "  if isinstance(sublist, list):\n",
        "    my_lisit_102.append(len(sublist))\n",
        "print(len(my_lisit_102), np.unique(my_lisit_102))"
      ],
      "metadata": {
        "id": "uaETaSFePkPE"
      },
      "execution_count": null,
      "outputs": []
    },
    {
      "cell_type": "code",
      "source": [
        "my_list_103 = []\n",
        "for index, sublist in df_new10['Electricity consumption'].items():\n",
        "  if isinstance(sublist, list):\n",
        "    my_list_103.append((index, sublist[0].strip()))\n",
        "print(len(my_list_103))"
      ],
      "metadata": {
        "id": "oBO8cb9LPkTt"
      },
      "execution_count": null,
      "outputs": []
    },
    {
      "cell_type": "code",
      "source": [
        "df_new10['Electricity consumption 1'] = None\n",
        "for index, value in my_list_103:\n",
        "  df_new10.at[index, 'Electricity consumption 1'] = value\n",
        "\n",
        "print(len(df_new10['Electricity consumption']), len(df_new10['Electricity consumption 1']))\n",
        "print(df_new10['Electricity consumption'].isnull().sum()), print(df_new10['Electricity consumption 1'].isnull().sum())"
      ],
      "metadata": {
        "id": "TLZ64tp1PkXt"
      },
      "execution_count": null,
      "outputs": []
    },
    {
      "cell_type": "code",
      "source": [
        "df_new10[['Electricity consumption', 'Electricity consumption 1']].head(50)"
      ],
      "metadata": {
        "id": "TBTORoiBPkcX"
      },
      "execution_count": null,
      "outputs": []
    },
    {
      "cell_type": "code",
      "source": [
        "df_new10['Last Service Date'].info()"
      ],
      "metadata": {
        "id": "_hASx9NgW4jl"
      },
      "execution_count": null,
      "outputs": []
    },
    {
      "cell_type": "code",
      "source": [
        "df_new10['Last Service Date'].value_counts()"
      ],
      "metadata": {
        "id": "CmaHNlQdWUnX"
      },
      "execution_count": null,
      "outputs": []
    },
    {
      "cell_type": "code",
      "source": [
        "my_list_104 = []\n",
        "for sublist in df_new10['Last Service Date']:\n",
        "  if isinstance(sublist, list):\n",
        "    my_list_104.append(len(sublist))\n",
        "  if isinstance(sublist, str):\n",
        "    my_list_104.append(sublist.strip())\n",
        "print(len(my_list_104))\n",
        "print(np.unique(my_list_104))"
      ],
      "metadata": {
        "id": "_1HvBODBWUtb"
      },
      "execution_count": null,
      "outputs": []
    },
    {
      "cell_type": "code",
      "source": [
        "my_list_105 = []\n",
        "for sublist in df_new10['Last Service Date']:\n",
        "  if isinstance(sublist, list):\n",
        "    sublist = [item for item in sublist if item != '\\n']\n",
        "    my_list_105.append(len(sublist))\n",
        "print(len(my_list_105))\n",
        "print(np.unique(my_list_105))"
      ],
      "metadata": {
        "id": "_Enyar40WUyi"
      },
      "execution_count": null,
      "outputs": []
    },
    {
      "cell_type": "code",
      "source": [
        "my_list_106 = []\n",
        "my_list_107 = []\n",
        "my_list_108 = []\n",
        "my_list_109 = []\n",
        "my_list_110 = []\n",
        "my_list_111 = []\n",
        "my_list_112 = []\n",
        "my_list_113 = []\n",
        "\n",
        "for index, sublist in df_new10['Last Service Date'].items():\n",
        "  if isinstance(sublist, list):\n",
        "    sublist = [item for item in sublist if item != '\\n']\n",
        "    if len(sublist) == 1:\n",
        "      my_list_106.append((index, sublist[0].strip()))\n",
        "    if len(sublist) == 2:\n",
        "      my_list_107.append((index, sublist[0].strip()))\n",
        "      my_list_108.append((index, sublist[1].strip()))\n",
        "    if len(sublist) == 4:\n",
        "      my_list_109.append((index, sublist[0]))\n",
        "      my_list_110.append((index, sublist[1]))\n",
        "      my_list_111.append((index, sublist[2]))\n",
        "      my_list_112.append((index, sublist[3]))\n",
        "  if isinstance(sublist, str):\n",
        "    my_list_113.append((index, sublist.strip()))\n",
        "\n",
        "\n",
        "print(len(my_list_106), len(my_list_107), len(my_list_108), len(my_list_109), len(my_list_110), len(my_list_111), len(my_list_112), len(my_list_113))\n",
        "my_list_106"
      ],
      "metadata": {
        "id": "JhiOjn3KWU3K"
      },
      "execution_count": null,
      "outputs": []
    },
    {
      "cell_type": "code",
      "source": [
        "df_new10['Last Service Date 1'] = None\n",
        "df_new10['Last Service Date 2'] = None\n",
        "df_new10['Last Service Date 3'] = None\n",
        "df_new10['Last Service Date 4'] = None\n",
        "\n",
        "for index, value in my_list_106:\n",
        "  df_new10.at[index, 'Last Service Date 1'] = value\n",
        "for index, value in my_list_107:\n",
        "  df_new10.at[index, 'Last Service Date 2'] = value\n",
        "for index, value in my_list_108:\n",
        "  df_new10.at[index, 'Last Service Date 3'] = value\n",
        "for index, value in my_list_113:\n",
        "  df_new10.at[index, 'Last Service Date 4'] = value\n",
        "\n",
        "print(len(df_new10['Last Service Date']), len(df_new10['Last Service Date 1']), len(df_new10['Last Service Date 2']), len(df_new10['Last Service Date 3']), len(df_new10['Last Service Date 4']))\n",
        "print(df_new10['Last Service Date'].isnull().sum()), print(df_new10['Last Service Date 1'].isnull().sum()), print(df_new10['Last Service Date 2'].isnull().sum()), print(df_new10['Last Service Date 3'].isnull().sum()), print(df_new10['Last Service Date 4'].isnull().sum())\n",
        "\n",
        "# I did not make columns for the lists with only 2 rows my_list_109, my_list_110, my_list_111, my_list_112. Therefore there is a discrepancy of 2 in non-null values"
      ],
      "metadata": {
        "id": "YENYae8iWU7K"
      },
      "execution_count": null,
      "outputs": []
    },
    {
      "cell_type": "code",
      "source": [
        "df_new10[['Last Service Date', 'Last Service Date 1', 'Last Service Date 2', 'Last Service Date 3', 'Last Service Date 4']].head(50)"
      ],
      "metadata": {
        "id": "jrkp2LzjWVBN"
      },
      "execution_count": null,
      "outputs": []
    },
    {
      "cell_type": "code",
      "source": [
        "df_new10.loc[3500:3550][['Last Service Date', 'Last Service Date 1', 'Last Service Date 2', 'Last Service Date 3', 'Last Service Date 4']]"
      ],
      "metadata": {
        "id": "O7kTrx6YWVFm"
      },
      "execution_count": null,
      "outputs": []
    },
    {
      "cell_type": "code",
      "source": [
        "df_new10['Last Service Date 1'].unique()"
      ],
      "metadata": {
        "id": "MxhsVEUaWVJ7"
      },
      "execution_count": null,
      "outputs": []
    },
    {
      "cell_type": "code",
      "source": [
        "df_new10['Last Service Date 2'].unique()"
      ],
      "metadata": {
        "id": "sCRgdqx9WVNe"
      },
      "execution_count": null,
      "outputs": []
    },
    {
      "cell_type": "code",
      "source": [
        "df_new10['Last Service Date 3'].unique()"
      ],
      "metadata": {
        "id": "aH6PXVIPWVRq"
      },
      "execution_count": null,
      "outputs": []
    },
    {
      "cell_type": "code",
      "source": [
        "df_new10['Last Service Date 4'].unique()"
      ],
      "metadata": {
        "id": "9qwYfMuoWVVN"
      },
      "execution_count": null,
      "outputs": []
    },
    {
      "cell_type": "code",
      "source": [
        "df_new10['Last Service Date 2'] = df_new10['Last Service Date 2'].fillna(df_new10['Last Service Date 1'])"
      ],
      "metadata": {
        "id": "aG2VifC0WVZ-"
      },
      "execution_count": null,
      "outputs": []
    },
    {
      "cell_type": "code",
      "source": [
        "df_new10['Last Service Date 2'] = df_new10['Last Service Date 2'].fillna(df_new10['Last Service Date 4'])"
      ],
      "metadata": {
        "id": "lCRfsz2KWVdk"
      },
      "execution_count": null,
      "outputs": []
    },
    {
      "cell_type": "code",
      "source": [
        "print(len(df_new10['Last Service Date']), len(df_new10['Last Service Date 1']), len(df_new10['Last Service Date 2']), len(df_new10['Last Service Date 3']), len(df_new10['Last Service Date 4']))\n",
        "print(df_new10['Last Service Date'].isnull().sum()), print(df_new10['Last Service Date 1'].isnull().sum()), print(df_new10['Last Service Date 2'].isnull().sum()), print(df_new10['Last Service Date 3'].isnull().sum()), print(df_new10['Last Service Date 4'].isnull().sum())"
      ],
      "metadata": {
        "id": "xeQER7t_WVh0"
      },
      "execution_count": null,
      "outputs": []
    },
    {
      "cell_type": "code",
      "source": [
        "df_new11 = df_new10.drop(['Last Service Date 1', 'Last Service Date 4'], axis = 1)"
      ],
      "metadata": {
        "id": "FmOGZqP6WVlW"
      },
      "execution_count": null,
      "outputs": []
    },
    {
      "cell_type": "code",
      "source": [
        "print(len(df_new11['Last Service Date']), len(df_new11['Last Service Date 2']), len(df_new11['Last Service Date 3']))\n",
        "print(df_new11['Last Service Date'].isnull().sum()), print(df_new11['Last Service Date 2'].isnull().sum()), print(df_new11['Last Service Date 3'].isnull().sum())"
      ],
      "metadata": {
        "id": "5SI_ZXSDfLuY"
      },
      "execution_count": null,
      "outputs": []
    },
    {
      "cell_type": "code",
      "source": [
        "df_new11[['Last Service Date', 'Last Service Date 2', 'Last Service Date 3']].head(50)"
      ],
      "metadata": {
        "id": "z0QOv47QfL09"
      },
      "execution_count": null,
      "outputs": []
    },
    {
      "cell_type": "code",
      "source": [
        "df_new11['Other Fuel Types'].value_counts()"
      ],
      "metadata": {
        "id": "b0lnd0HwfL7y"
      },
      "execution_count": null,
      "outputs": []
    },
    {
      "cell_type": "code",
      "source": [
        "df_new11['Other Fuel Types'].info()"
      ],
      "metadata": {
        "id": "lh8WfHXifMAw"
      },
      "execution_count": null,
      "outputs": []
    },
    {
      "cell_type": "code",
      "source": [
        "df_new12 = df_new11.drop(['Other Fuel Types'], axis = 1)"
      ],
      "metadata": {
        "id": "Zh2rdGYJfMHE"
      },
      "execution_count": null,
      "outputs": []
    },
    {
      "cell_type": "code",
      "source": [
        "df_new12['Availability'].value_counts()"
      ],
      "metadata": {
        "id": "b7IX4mTqgUbQ"
      },
      "execution_count": null,
      "outputs": []
    },
    {
      "cell_type": "code",
      "source": [
        "df_new12['Availability'].unique()"
      ],
      "metadata": {
        "id": "8ylvl4CggUiq"
      },
      "execution_count": null,
      "outputs": []
    },
    {
      "cell_type": "code",
      "source": [
        "df_new12['Availability'].info()"
      ],
      "metadata": {
        "id": "2vGVieEpgUnv"
      },
      "execution_count": null,
      "outputs": []
    },
    {
      "cell_type": "code",
      "source": [
        "df_new12['Availability'] = df_new12['Availability'].str.strip()"
      ],
      "metadata": {
        "id": "PmVHQDaogUtL"
      },
      "execution_count": null,
      "outputs": []
    },
    {
      "cell_type": "code",
      "source": [
        "df_new12['Availability'].value_counts()"
      ],
      "metadata": {
        "id": "vv20bg7EgUyg"
      },
      "execution_count": null,
      "outputs": []
    },
    {
      "cell_type": "code",
      "source": [
        "df_new12['Availability'].unique()"
      ],
      "metadata": {
        "id": "lfwT2WCfgVEv"
      },
      "execution_count": null,
      "outputs": []
    },
    {
      "cell_type": "code",
      "source": [
        "df_new12['Availability'].info()"
      ],
      "metadata": {
        "id": "NjXUNoDegVJA"
      },
      "execution_count": null,
      "outputs": []
    },
    {
      "cell_type": "code",
      "source": [
        "df_new9.info()"
      ],
      "metadata": {
        "id": "HhoLigBpgVOR"
      },
      "execution_count": null,
      "outputs": []
    },
    {
      "cell_type": "code",
      "source": [
        "df_new12['Last Timing Belt Service Date'].value_counts()"
      ],
      "metadata": {
        "id": "SJrF5ohJhZY_"
      },
      "execution_count": null,
      "outputs": []
    },
    {
      "cell_type": "code",
      "source": [
        "df_new12['Last Timing Belt Service Date'].isnull().sum()"
      ],
      "metadata": {
        "id": "lJ7P31cfhpOQ"
      },
      "execution_count": null,
      "outputs": []
    },
    {
      "cell_type": "code",
      "source": [
        "df_new13 = df_new12.drop(['Last Timing Belt Service Date'], axis = 1)"
      ],
      "metadata": {
        "id": "gKRHePdVgVS3"
      },
      "execution_count": null,
      "outputs": []
    },
    {
      "cell_type": "code",
      "source": [
        "df_new13['Available from'].info()"
      ],
      "metadata": {
        "id": "g1JY3VdCgVYO"
      },
      "execution_count": null,
      "outputs": []
    },
    {
      "cell_type": "code",
      "source": [
        "df_new13['Available from'].value_counts()"
      ],
      "metadata": {
        "id": "-JYfXXy5hv3S"
      },
      "execution_count": null,
      "outputs": []
    },
    {
      "cell_type": "code",
      "source": [
        "df_new13['Available from'].unique()"
      ],
      "metadata": {
        "id": "QF_ZS-LVhv_x"
      },
      "execution_count": null,
      "outputs": []
    },
    {
      "cell_type": "code",
      "source": [
        "df_new13['Available from'] = df_new13['Available from'].str.strip()"
      ],
      "metadata": {
        "id": "gU0UA0c2hwHQ"
      },
      "execution_count": null,
      "outputs": []
    },
    {
      "cell_type": "code",
      "source": [
        "df_new13['Available from'].unique()"
      ],
      "metadata": {
        "id": "uSwVFuK8hwO0"
      },
      "execution_count": null,
      "outputs": []
    },
    {
      "cell_type": "code",
      "source": [
        "df_new13['Available from'].info()"
      ],
      "metadata": {
        "id": "5HKhIV6XhwV9"
      },
      "execution_count": null,
      "outputs": []
    },
    {
      "cell_type": "code",
      "source": [
        "df_new13['Available from'] = pd.to_datetime(df_new13['Available from'], format = '%d/%m/%y')"
      ],
      "metadata": {
        "id": "EPuBqKo2hwcj"
      },
      "execution_count": null,
      "outputs": []
    },
    {
      "cell_type": "code",
      "source": [
        "df_new13['Available from'].unique()"
      ],
      "metadata": {
        "id": "OFa5wH7Lhwjk"
      },
      "execution_count": null,
      "outputs": []
    },
    {
      "cell_type": "code",
      "source": [
        "df_new13['Available from'].info()"
      ],
      "metadata": {
        "id": "286KXjcujAri"
      },
      "execution_count": null,
      "outputs": []
    },
    {
      "cell_type": "code",
      "source": [
        "df_new9.info()"
      ],
      "metadata": {
        "id": "n1YCN5P6jWYR"
      },
      "execution_count": null,
      "outputs": []
    },
    {
      "cell_type": "code",
      "source": [
        "df_new14 = df_new13.drop(['Warranty Type_4', 'Warranty Type_5', 'Full Service Type_1', 'Full Service Type_2', 'Full Service Type_7',\n",
        "                          'Non-smoking Vehicle 1', 'Non-smoking Vehicle 2', 'Non-smoking Vehicle 7'], axis = 1)"
      ],
      "metadata": {
        "id": "GoRMRjVLjWrT"
      },
      "execution_count": null,
      "outputs": []
    },
    {
      "cell_type": "code",
      "source": [
        "df_new14.describe(include='all')"
      ],
      "metadata": {
        "id": "ufT5TDFAUYwQ"
      },
      "execution_count": null,
      "outputs": []
    },
    {
      "cell_type": "code",
      "source": [
        "df_new15 = df_new14.drop(['CO2 Emission 2', 'CO2 Emission 3', 'CO2 Emission 4', 'Emission Class 2', 'Emission Class 3', 'Emission Class 4'], axis = 1)"
      ],
      "metadata": {
        "id": "RkHDpxnzUY2I"
      },
      "execution_count": null,
      "outputs": []
    },
    {
      "cell_type": "code",
      "source": [
        "df_new15.describe(include='all')"
      ],
      "metadata": {
        "id": "YNNmSp_EUa4R"
      },
      "execution_count": null,
      "outputs": []
    },
    {
      "cell_type": "code",
      "source": [
        "sorted_columns = sorted(df_new15.columns)"
      ],
      "metadata": {
        "id": "Seg2bJDZUbBb"
      },
      "execution_count": null,
      "outputs": []
    },
    {
      "cell_type": "code",
      "source": [
        "df_new15 = df_new15[sorted_columns]"
      ],
      "metadata": {
        "id": "yxWUOcZZUbJi"
      },
      "execution_count": null,
      "outputs": []
    },
    {
      "cell_type": "code",
      "source": [
        "pd.set_option('display.max_columns', None)"
      ],
      "metadata": {
        "id": "t4MJ_yliAoLE"
      },
      "execution_count": null,
      "outputs": []
    },
    {
      "cell_type": "code",
      "source": [
        "df_new15.describe(include='all')"
      ],
      "metadata": {
        "id": "vTd2ueDDUbR4"
      },
      "execution_count": null,
      "outputs": []
    },
    {
      "cell_type": "code",
      "source": [
        "df_new16 = df_new15.drop('url', axis = 1)"
      ],
      "metadata": {
        "id": "8_6B0VoU_Tj6"
      },
      "execution_count": null,
      "outputs": []
    },
    {
      "cell_type": "code",
      "source": [
        "df_new16.describe(include='all')"
      ],
      "metadata": {
        "id": "Ap40QZKr_TtY"
      },
      "execution_count": null,
      "outputs": []
    },
    {
      "cell_type": "code",
      "source": [
        "df_new16.columns = df_new16.columns.str.lower().str.replace(' & ', '_').str.replace(' ','_').str.strip()"
      ],
      "metadata": {
        "id": "Tcm7ml0V_T1f"
      },
      "execution_count": null,
      "outputs": []
    },
    {
      "cell_type": "code",
      "source": [
        "df_new16.describe(include='all')"
      ],
      "metadata": {
        "id": "mJ4KIuwy_T8W"
      },
      "execution_count": null,
      "outputs": []
    },
    {
      "cell_type": "code",
      "source": [
        "df_new17 = df_new16.drop(['availability', 'available_from','consumption_1','electricity_consumption', 'electricity_consumption_1', 'fuel', 'fuel_1',\n",
        "                          'full_service_type_4', 'full_service_type_5', 'full_service_type_6',\n",
        "                          'non-smoking_vehicle_4', 'non-smoking_vehicle_5', 'non-smoking_vehicle_6',\n",
        "                          'warranty_type_1', 'warranty_type_10',\t'warranty_type_11',\t'warranty_type_12',\n",
        "                          'warranty_type_6',\t'warranty_type_7',\t'warranty_type_8',\t'warranty_type_9'],\n",
        "                          axis = 1)"
      ],
      "metadata": {
        "id": "1Krn7Ubd_UDu"
      },
      "execution_count": null,
      "outputs": []
    },
    {
      "cell_type": "code",
      "source": [
        "df_new17.describe(include='all')"
      ],
      "metadata": {
        "id": "h6Jy89GG_UJm"
      },
      "execution_count": null,
      "outputs": []
    },
    {
      "cell_type": "code",
      "source": [
        "df_new17['fuel_type'].value_counts()"
      ],
      "metadata": {
        "id": "RMbN6Uw__UZb"
      },
      "execution_count": null,
      "outputs": []
    },
    {
      "cell_type": "code",
      "source": [
        "diesel = df_new17['fuel_type'].str.contains('Diesel')"
      ],
      "metadata": {
        "id": "3H1U6CmU_Ufr"
      },
      "execution_count": null,
      "outputs": []
    },
    {
      "cell_type": "code",
      "source": [
        "df_new17.loc[diesel, 'fuel_type'] = 'Diesel'"
      ],
      "metadata": {
        "id": "Ql6I936y_Ulq"
      },
      "execution_count": null,
      "outputs": []
    },
    {
      "cell_type": "code",
      "source": [
        "benzine = df_new17['fuel_type'].str.contains('Benzine', regex=True)"
      ],
      "metadata": {
        "id": "OqZkaCXA_Ust"
      },
      "execution_count": null,
      "outputs": []
    },
    {
      "cell_type": "code",
      "source": [
        "df_new17.loc[benzine, 'fuel_type'] = 'Benzine'"
      ],
      "metadata": {
        "id": "bg7W2Fl5_Uyn"
      },
      "execution_count": null,
      "outputs": []
    },
    {
      "cell_type": "code",
      "source": [
        "gasoline = df_new17['fuel_type'].str.contains('Gasoline', regex=True)"
      ],
      "metadata": {
        "id": "9Z6xdQym_U3U"
      },
      "execution_count": null,
      "outputs": []
    },
    {
      "cell_type": "code",
      "source": [
        "super = df_new17['fuel_type'].str.contains('Super', regex=True)"
      ],
      "metadata": {
        "id": "03yftotW_U7f"
      },
      "execution_count": null,
      "outputs": []
    },
    {
      "cell_type": "code",
      "source": [
        "df_new17.loc[gasoline, 'fule_type'] = 'Benzine'"
      ],
      "metadata": {
        "id": "SXZ0ZlZMg4HS"
      },
      "execution_count": null,
      "outputs": []
    },
    {
      "cell_type": "code",
      "source": [
        "df_new17.loc[super, 'fuel_type'] = 'Benzine'"
      ],
      "metadata": {
        "id": "FKKMV3LLg4Nl"
      },
      "execution_count": null,
      "outputs": []
    },
    {
      "cell_type": "code",
      "source": [
        "df_new17['fuel_type'].value_counts()"
      ],
      "metadata": {
        "id": "XcDLZudRg4TV"
      },
      "execution_count": null,
      "outputs": []
    },
    {
      "cell_type": "code",
      "source": [
        "gas = ['CNG', 'LPG', 'Liquid petroleum gas (LPG)', 'CNG (Particulate Filter)', 'Biogas', 'Domestic gas H' ]"
      ],
      "metadata": {
        "id": "IA3sqiZtg4ZI"
      },
      "execution_count": null,
      "outputs": []
    },
    {
      "cell_type": "code",
      "source": [
        "gas_1 = df_new17['fuel_type'].isin(gas)\n",
        "gas_1"
      ],
      "metadata": {
        "id": "11DFvJxOg4ei"
      },
      "execution_count": null,
      "outputs": []
    },
    {
      "cell_type": "code",
      "source": [
        "df_new17.loc[gas_1, 'fuel_type'] = 'Gas'"
      ],
      "metadata": {
        "id": "Lmu_MkXdg4ir"
      },
      "execution_count": null,
      "outputs": []
    },
    {
      "cell_type": "code",
      "source": [
        "gasoline_1 = ['Gasoline', 'Gasoline (Particulate Filter)', 'Electric/Gasoline']\n",
        "gasoline_2 = df_new17['fuel_type'].isin(gasoline_1)\n",
        "df_new17.loc[gasoline_2, 'fuel_type'] = 'Benzine'"
      ],
      "metadata": {
        "id": "v1inwc7Fg4mO"
      },
      "execution_count": null,
      "outputs": []
    },
    {
      "cell_type": "code",
      "source": [
        "df_new17['fuel_type'].value_counts()"
      ],
      "metadata": {
        "id": "B-b_ITt8imBx"
      },
      "execution_count": null,
      "outputs": []
    },
    {
      "cell_type": "code",
      "source": [
        "others = df_new17['fuel_type'].isin(['Others', 'Others (Particulate Filter)', 'Electric'])\n",
        "df_new17.loc[others, 'fuel_type'] = 'Others'"
      ],
      "metadata": {
        "id": "_Ac3UE1eimH4"
      },
      "execution_count": null,
      "outputs": []
    },
    {
      "cell_type": "code",
      "source": [
        "df_new17['fuel_type'].value_counts()"
      ],
      "metadata": {
        "id": "Rwnx82znimNu"
      },
      "execution_count": null,
      "outputs": []
    },
    {
      "cell_type": "code",
      "source": [
        "df_new17.describe(include='all')"
      ],
      "metadata": {
        "colab": {
          "base_uri": "https://localhost:8080/",
          "height": 483
        },
        "id": "dxL7VxAPjwpT",
        "outputId": "3ef8c6d2-518d-4eac-d409-6b05b64324dd"
      },
      "execution_count": null,
      "outputs": [
        {
          "output_type": "execute_result",
          "data": {
            "text/plain": [
              "                                      comfort_convenience  \\\n",
              "count                                               14689   \n",
              "unique                                               6086   \n",
              "top     [Air conditioning, Electrical side mirrors, Hi...   \n",
              "freq                                                  211   \n",
              "mean                                                  NaN   \n",
              "std                                                   NaN   \n",
              "min                                                   NaN   \n",
              "25%                                                   NaN   \n",
              "50%                                                   NaN   \n",
              "75%                                                   NaN   \n",
              "max                                                   NaN   \n",
              "\n",
              "                                      entertainment_media          extras  \\\n",
              "count                                               14262           12708   \n",
              "unique                                                345             650   \n",
              "top     [Bluetooth, Hands-free equipment, On-board com...  [Alloy wheels]   \n",
              "freq                                                 1255            3188   \n",
              "mean                                                  NaN             NaN   \n",
              "std                                                   NaN             NaN   \n",
              "min                                                   NaN             NaN   \n",
              "25%                                                   NaN             NaN   \n",
              "50%                                                   NaN             NaN   \n",
              "75%                                                   NaN             NaN   \n",
              "max                                                   NaN             NaN   \n",
              "\n",
              "                                          safety_security              body  \\\n",
              "count                                               14626             15582   \n",
              "unique                                               4359                 9   \n",
              "top     [ABS, Central door lock, Daytime running light...  [\\n, Sedans, \\n]   \n",
              "freq                                                  532              7794   \n",
              "mean                                                  NaN               NaN   \n",
              "std                                                   NaN               NaN   \n",
              "min                                                   NaN               NaN   \n",
              "25%                                                   NaN               NaN   \n",
              "50%                                                   NaN               NaN   \n",
              "75%                                                   NaN               NaN   \n",
              "max                                                   NaN               NaN   \n",
              "\n",
              "        body_1       body_color body_color_1 body_color_original  \\\n",
              "count    15582            14988        14988               11901   \n",
              "unique       9               14           14                1904   \n",
              "top     Sedans  [\\n, Black, \\n]        Black  [\\nOnyx Schwarz\\n]   \n",
              "freq      7794             3682         3682                 328   \n",
              "mean       NaN              NaN          NaN                 NaN   \n",
              "std        NaN              NaN          NaN                 NaN   \n",
              "min        NaN              NaN          NaN                 NaN   \n",
              "25%        NaN              NaN          NaN                 NaN   \n",
              "50%        NaN              NaN          NaN                 NaN   \n",
              "75%        NaN              NaN          NaN                 NaN   \n",
              "max        NaN              NaN          NaN                 NaN   \n",
              "\n",
              "       body_color_original_1               co2_emission       co2_emission_1  \\\n",
              "count                  11901                      13813                13205   \n",
              "unique                  1904                        122                  121   \n",
              "top             Onyx Schwarz  [\\n120 g CO2/km (comb)\\n]  120 g CO2/km (comb)   \n",
              "freq                     328                        716                  716   \n",
              "mean                     NaN                        NaN                  NaN   \n",
              "std                      NaN                        NaN                  NaN   \n",
              "min                      NaN                        NaN                  NaN   \n",
              "25%                      NaN                        NaN                  NaN   \n",
              "50%                      NaN                        NaN                  NaN   \n",
              "75%                      NaN                        NaN                  NaN   \n",
              "max                      NaN                        NaN                  NaN   \n",
              "\n",
              "                                              consumption  \\\n",
              "count                                               13733   \n",
              "unique                                                873   \n",
              "top     [[3.9 l/100 km (comb)], [4.1 l/100 km (city)],...   \n",
              "freq                                                  302   \n",
              "mean                                                  NaN   \n",
              "std                                                   NaN   \n",
              "min                                                   NaN   \n",
              "25%                                                   NaN   \n",
              "50%                                                   NaN   \n",
              "75%                                                   NaN   \n",
              "max                                                   NaN   \n",
              "\n",
              "              consumption_2      consumption_3           consumption_4  \\\n",
              "count                 13719              13719                   13719   \n",
              "unique                   80                 93                      64   \n",
              "top     5.4 l/100 km (comb)  5 l/100 km (city)  4.2 l/100 km (country)   \n",
              "freq                    741                654                    1144   \n",
              "mean                    NaN                NaN                     NaN   \n",
              "std                     NaN                NaN                     NaN   \n",
              "min                     NaN                NaN                     NaN   \n",
              "25%                     NaN                NaN                     NaN   \n",
              "50%                     NaN                NaN                     NaN   \n",
              "75%                     NaN                NaN                     NaN   \n",
              "max                     NaN                NaN                     NaN   \n",
              "\n",
              "       country_version country_version_1 cylinders cylinders_1  \\\n",
              "count             7375              7375     10038       10038   \n",
              "unique              23                23         7           7   \n",
              "top      [\\nGermany\\n]           Germany   [\\n4\\n]           4   \n",
              "freq              4355              4355      7937        7937   \n",
              "mean               NaN               NaN       NaN         NaN   \n",
              "std                NaN               NaN       NaN         NaN   \n",
              "min                NaN               NaN       NaN         NaN   \n",
              "25%                NaN               NaN       NaN         NaN   \n",
              "50%                NaN               NaN       NaN         NaN   \n",
              "75%                NaN               NaN       NaN         NaN   \n",
              "max                NaN               NaN       NaN         NaN   \n",
              "\n",
              "          displacement displacement_1  drive_chain drive_chain_1  \\\n",
              "count            15131          15131         8862          8862   \n",
              "unique              75             75            3             3   \n",
              "top     [\\n1,598 cc\\n]       1,598 cc  [\\nfront\\n]         front   \n",
              "freq              4713           4713         8692          8692   \n",
              "mean               NaN            NaN          NaN           NaN   \n",
              "std                NaN            NaN          NaN           NaN   \n",
              "min                NaN            NaN          NaN           NaN   \n",
              "25%                NaN            NaN          NaN           NaN   \n",
              "50%                NaN            NaN          NaN           NaN   \n",
              "75%                NaN            NaN          NaN           NaN   \n",
              "max                NaN            NaN          NaN           NaN   \n",
              "\n",
              "       emission_class emission_class_1   emission_label emission_label_1  \\\n",
              "count           12692            12101             3927             3887   \n",
              "unique              7                6                6                5   \n",
              "top      [\\nEuro 6\\n]           Euro 6  [\\n4 (Green)\\n]        4 (Green)   \n",
              "freq            10024            10024             3499             3499   \n",
              "mean              NaN              NaN              NaN              NaN   \n",
              "std               NaN              NaN              NaN              NaN   \n",
              "min               NaN              NaN              NaN              NaN   \n",
              "25%               NaN              NaN              NaN              NaN   \n",
              "50%               NaN              NaN              NaN              NaN   \n",
              "75%               NaN              NaN              NaN              NaN   \n",
              "max               NaN              NaN              NaN              NaN   \n",
              "\n",
              "       first_registration first_registration_1 fuel_type  \\\n",
              "count               14026                14026     15583   \n",
              "unique                  4                    4         4   \n",
              "top        [\\n, 2018, \\n]                 2018   Benzine   \n",
              "freq                 4450                 4450      8345   \n",
              "mean                  NaN                  NaN       NaN   \n",
              "std                   NaN                  NaN       NaN   \n",
              "min                   NaN                  NaN       NaN   \n",
              "25%                   NaN                  NaN       NaN   \n",
              "50%                   NaN                  NaN       NaN   \n",
              "75%                   NaN                  NaN       NaN   \n",
              "max                   NaN                  NaN       NaN   \n",
              "\n",
              "                   full_service full_service_type_3      gearing_type  \\\n",
              "count                      8038                6147             15582   \n",
              "unique                      122                  93                 3   \n",
              "top     [\\n, \\n, \\n4 (Green)\\n]           4 (Green)  [\\n, Manual, \\n]   \n",
              "freq                       2204                2204              8014   \n",
              "mean                        NaN                 NaN               NaN   \n",
              "std                         NaN                 NaN               NaN   \n",
              "min                         NaN                 NaN               NaN   \n",
              "25%                         NaN                 NaN               NaN   \n",
              "50%                         NaN                 NaN               NaN   \n",
              "75%                         NaN                 NaN               NaN   \n",
              "max                         NaN                 NaN               NaN   \n",
              "\n",
              "       gearing_type_1    gears gears_1         inspection_new  \\\n",
              "count           15582    10959   10959                   3793   \n",
              "unique              3       10      10                    202   \n",
              "top            Manual  [\\n6\\n]       6  [\\nYes\\n, \\nEuro 6\\n]   \n",
              "freq             8014     5673    5673                    490   \n",
              "mean              NaN      NaN     NaN                    NaN   \n",
              "std               NaN      NaN     NaN                    NaN   \n",
              "min               NaN      NaN     NaN                    NaN   \n",
              "25%               NaN      NaN     NaN                    NaN   \n",
              "50%               NaN      NaN     NaN                    NaN   \n",
              "75%               NaN      NaN     NaN                    NaN   \n",
              "max               NaN      NaN     NaN                    NaN   \n",
              "\n",
              "        inspection_new_city inspection_new_comb  inspection_new_country  \\\n",
              "count                   331                3361                     331   \n",
              "unique                   36                 129                      24   \n",
              "top     6.7 l/100 km (city)              Euro 6  4.6 l/100 km (country)   \n",
              "freq                     35                 490                      37   \n",
              "mean                    NaN                 NaN                     NaN   \n",
              "std                     NaN                 NaN                     NaN   \n",
              "min                     NaN                 NaN                     NaN   \n",
              "25%                     NaN                 NaN                     NaN   \n",
              "50%                     NaN                 NaN                     NaN   \n",
              "75%                     NaN                 NaN                     NaN   \n",
              "max                     NaN                 NaN                     NaN   \n",
              "\n",
              "       inspection_new_done          last_service_date last_service_date_2  \\\n",
              "count                 3793                        558                 556   \n",
              "unique                   1                        265                  37   \n",
              "top                    Yes  [\\n02/2019\\n, \\nEuro 6\\n]             05/2019   \n",
              "freq                  3793                         23                  61   \n",
              "mean                   NaN                        NaN                 NaN   \n",
              "std                    NaN                        NaN                 NaN   \n",
              "min                    NaN                        NaN                 NaN   \n",
              "25%                    NaN                        NaN                 NaN   \n",
              "50%                    NaN                        NaN                 NaN   \n",
              "75%                    NaN                        NaN                 NaN   \n",
              "max                    NaN                        NaN                 NaN   \n",
              "\n",
              "       last_service_date_3   make mileage_(km)      model_code model_code_1  \\\n",
              "count                  474  15582        15582            4842         4842   \n",
              "unique                  58      3         6614             226          226   \n",
              "top                 Euro 6   Opel          10   [\\n0035/BCB\\n]     0035/BCB   \n",
              "freq                   176   7194         1019             261          261   \n",
              "mean                   NaN    NaN          NaN             NaN          NaN   \n",
              "std                    NaN    NaN          NaN             NaN          NaN   \n",
              "min                    NaN    NaN          NaN             NaN          NaN   \n",
              "25%                    NaN    NaN          NaN             NaN          NaN   \n",
              "50%                    NaN    NaN          NaN             NaN          NaN   \n",
              "75%                    NaN    NaN          NaN             NaN          NaN   \n",
              "max                    NaN    NaN          NaN             NaN          NaN   \n",
              "\n",
              "       model_type next_inspection next_inspection_date non-smoking_vehicle  \\\n",
              "count       15582            3433                 3433                7009   \n",
              "unique          9            1366                   77                  94   \n",
              "top            A3     \\n04/2022\\n              2021-06            [\\n, \\n]   \n",
              "freq         3061              62                  433                3499   \n",
              "mean          NaN             NaN                  NaN                 NaN   \n",
              "std           NaN             NaN                  NaN                 NaN   \n",
              "min           NaN             NaN                  NaN                 NaN   \n",
              "25%           NaN             NaN                  NaN                 NaN   \n",
              "50%           NaN             NaN                  NaN                 NaN   \n",
              "75%           NaN             NaN                  NaN                 NaN   \n",
              "max           NaN             NaN                  NaN                 NaN   \n",
              "\n",
              "       non-smoking_vehicle_3 nr._of_doors nr._of_doors_1 nr._of_seats  \\\n",
              "count                   3428        15379          15379        14677   \n",
              "unique                    81            6              6            6   \n",
              "top                4 (Green)      [\\n5\\n]              5      [\\n5\\n]   \n",
              "freq                    1230        11308          11308        13111   \n",
              "mean                     NaN          NaN            NaN          NaN   \n",
              "std                      NaN          NaN            NaN          NaN   \n",
              "min                      NaN          NaN            NaN          NaN   \n",
              "25%                      NaN          NaN            NaN          NaN   \n",
              "50%                      NaN          NaN            NaN          NaN   \n",
              "75%                      NaN          NaN            NaN          NaN   \n",
              "max                      NaN          NaN            NaN          NaN   \n",
              "\n",
              "       nr._of_seats_1   offer_number offer_number_1      paint_type  \\\n",
              "count           14677          12515          12515            9975   \n",
              "unique              6          11220          11220               3   \n",
              "top                 5  [\\nTA76392\\n]        TA76392  [\\nMetallic\\n]   \n",
              "freq            13111             27             27            9627   \n",
              "mean              NaN            NaN            NaN             NaN   \n",
              "std               NaN            NaN            NaN             NaN   \n",
              "min               NaN            NaN            NaN             NaN   \n",
              "25%               NaN            NaN            NaN             NaN   \n",
              "50%               NaN            NaN            NaN             NaN   \n",
              "75%               NaN            NaN            NaN             NaN   \n",
              "max               NaN            NaN            NaN             NaN   \n",
              "\n",
              "       paint_type_1  previous_owners          upholstery upholstery_3  \\\n",
              "count          9975           9014.0               11940        11158   \n",
              "unique            3             <NA>                  46            6   \n",
              "top        Metallic             <NA>  [\\nCloth, Black\\n]        Cloth   \n",
              "freq           9627             <NA>                5698         8257   \n",
              "mean            NaN         1.070668                 NaN          NaN   \n",
              "std             NaN          0.32704                 NaN          NaN   \n",
              "min             NaN              0.0                 NaN          NaN   \n",
              "25%             NaN              1.0                 NaN          NaN   \n",
              "50%             NaN              1.0                 NaN          NaN   \n",
              "75%             NaN              1.0                 NaN          NaN   \n",
              "max             NaN              4.0                 NaN          NaN   \n",
              "\n",
              "       upholstery_4 vehicle_type              warranty warranty_time  \\\n",
              "count         10608        15582                 10297          4770   \n",
              "unique           16            5                   512            41   \n",
              "top           Black         Used  [\\n, \\n, \\nEuro 6\\n]     12 months   \n",
              "freq           7524        10888                  1858          2554   \n",
              "mean            NaN          NaN                   NaN           NaN   \n",
              "std             NaN          NaN                   NaN           NaN   \n",
              "min             NaN          NaN                   NaN           NaN   \n",
              "25%             NaN          NaN                   NaN           NaN   \n",
              "50%             NaN          NaN                   NaN           NaN   \n",
              "75%             NaN          NaN                   NaN           NaN   \n",
              "max             NaN          NaN                   NaN           NaN   \n",
              "\n",
              "       warranty_type_2 warranty_type_3          weight weight_1    weight_2  \\\n",
              "count             2465            4197            8801     8801      8801.0   \n",
              "unique              93              92             433      433        <NA>   \n",
              "top             Euro 6          Euro 6  [\\n1,163 kg\\n]    1163         <NA>   \n",
              "freq               614            1858             569      569        <NA>   \n",
              "mean               NaN             NaN             NaN      NaN  1351.36939   \n",
              "std                NaN             NaN             NaN      NaN  220.819426   \n",
              "min                NaN             NaN             NaN      NaN         1.0   \n",
              "25%                NaN             NaN             NaN      NaN      1167.0   \n",
              "50%                NaN             NaN             NaN      NaN      1288.0   \n",
              "75%                NaN             NaN             NaN      NaN      1487.0   \n",
              "max                NaN             NaN             NaN      NaN      2471.0   \n",
              "\n",
              "       body_type description hp_(kw)   make  model         price registration  \\\n",
              "count      15582       15582   15582  15582  15582  15582.000000        14026   \n",
              "unique         9       12594      79      3      9           NaN           47   \n",
              "top       Sedans          []     85    Opel     A3           NaN      2018-03   \n",
              "freq        7794         626    2511   7194   3061           NaN          687   \n",
              "mean         NaN         NaN     NaN    NaN    NaN  17967.031254          NaN   \n",
              "std          NaN         NaN     NaN    NaN    NaN   7346.733274          NaN   \n",
              "min          NaN         NaN     NaN    NaN    NaN     13.000000          NaN   \n",
              "25%          NaN         NaN     NaN    NaN    NaN  12799.250000          NaN   \n",
              "50%          NaN         NaN     NaN    NaN    NaN  16890.000000          NaN   \n",
              "75%          NaN         NaN     NaN    NaN    NaN  21900.000000          NaN   \n",
              "max          NaN         NaN     NaN    NaN    NaN  74600.000000          NaN   \n",
              "\n",
              "                        short_description             vat fule_type  \n",
              "count                               15582           11163      3217  \n",
              "unique                               9820               2         1  \n",
              "top     SPB 1.6 TDI 116 CV S tronic Sport  VAT deductible   Benzine  \n",
              "freq                                   64           10751      3217  \n",
              "mean                                  NaN             NaN       NaN  \n",
              "std                                   NaN             NaN       NaN  \n",
              "min                                   NaN             NaN       NaN  \n",
              "25%                                   NaN             NaN       NaN  \n",
              "50%                                   NaN             NaN       NaN  \n",
              "75%                                   NaN             NaN       NaN  \n",
              "max                                   NaN             NaN       NaN  "
            ],
            "text/html": [
              "\n",
              "  <div id=\"df-2df90f86-3eb0-4fcf-9d2c-f12f7164d264\" class=\"colab-df-container\">\n",
              "    <div>\n",
              "<style scoped>\n",
              "    .dataframe tbody tr th:only-of-type {\n",
              "        vertical-align: middle;\n",
              "    }\n",
              "\n",
              "    .dataframe tbody tr th {\n",
              "        vertical-align: top;\n",
              "    }\n",
              "\n",
              "    .dataframe thead th {\n",
              "        text-align: right;\n",
              "    }\n",
              "</style>\n",
              "<table border=\"1\" class=\"dataframe\">\n",
              "  <thead>\n",
              "    <tr style=\"text-align: right;\">\n",
              "      <th></th>\n",
              "      <th>comfort_convenience</th>\n",
              "      <th>entertainment_media</th>\n",
              "      <th>extras</th>\n",
              "      <th>safety_security</th>\n",
              "      <th>body</th>\n",
              "      <th>body_1</th>\n",
              "      <th>body_color</th>\n",
              "      <th>body_color_1</th>\n",
              "      <th>body_color_original</th>\n",
              "      <th>body_color_original_1</th>\n",
              "      <th>co2_emission</th>\n",
              "      <th>co2_emission_1</th>\n",
              "      <th>consumption</th>\n",
              "      <th>consumption_2</th>\n",
              "      <th>consumption_3</th>\n",
              "      <th>consumption_4</th>\n",
              "      <th>country_version</th>\n",
              "      <th>country_version_1</th>\n",
              "      <th>cylinders</th>\n",
              "      <th>cylinders_1</th>\n",
              "      <th>displacement</th>\n",
              "      <th>displacement_1</th>\n",
              "      <th>drive_chain</th>\n",
              "      <th>drive_chain_1</th>\n",
              "      <th>emission_class</th>\n",
              "      <th>emission_class_1</th>\n",
              "      <th>emission_label</th>\n",
              "      <th>emission_label_1</th>\n",
              "      <th>first_registration</th>\n",
              "      <th>first_registration_1</th>\n",
              "      <th>fuel_type</th>\n",
              "      <th>full_service</th>\n",
              "      <th>full_service_type_3</th>\n",
              "      <th>gearing_type</th>\n",
              "      <th>gearing_type_1</th>\n",
              "      <th>gears</th>\n",
              "      <th>gears_1</th>\n",
              "      <th>inspection_new</th>\n",
              "      <th>inspection_new_city</th>\n",
              "      <th>inspection_new_comb</th>\n",
              "      <th>inspection_new_country</th>\n",
              "      <th>inspection_new_done</th>\n",
              "      <th>last_service_date</th>\n",
              "      <th>last_service_date_2</th>\n",
              "      <th>last_service_date_3</th>\n",
              "      <th>make</th>\n",
              "      <th>mileage_(km)</th>\n",
              "      <th>model_code</th>\n",
              "      <th>model_code_1</th>\n",
              "      <th>model_type</th>\n",
              "      <th>next_inspection</th>\n",
              "      <th>next_inspection_date</th>\n",
              "      <th>non-smoking_vehicle</th>\n",
              "      <th>non-smoking_vehicle_3</th>\n",
              "      <th>nr._of_doors</th>\n",
              "      <th>nr._of_doors_1</th>\n",
              "      <th>nr._of_seats</th>\n",
              "      <th>nr._of_seats_1</th>\n",
              "      <th>offer_number</th>\n",
              "      <th>offer_number_1</th>\n",
              "      <th>paint_type</th>\n",
              "      <th>paint_type_1</th>\n",
              "      <th>previous_owners</th>\n",
              "      <th>upholstery</th>\n",
              "      <th>upholstery_3</th>\n",
              "      <th>upholstery_4</th>\n",
              "      <th>vehicle_type</th>\n",
              "      <th>warranty</th>\n",
              "      <th>warranty_time</th>\n",
              "      <th>warranty_type_2</th>\n",
              "      <th>warranty_type_3</th>\n",
              "      <th>weight</th>\n",
              "      <th>weight_1</th>\n",
              "      <th>weight_2</th>\n",
              "      <th>body_type</th>\n",
              "      <th>description</th>\n",
              "      <th>hp_(kw)</th>\n",
              "      <th>make</th>\n",
              "      <th>model</th>\n",
              "      <th>price</th>\n",
              "      <th>registration</th>\n",
              "      <th>short_description</th>\n",
              "      <th>vat</th>\n",
              "      <th>fule_type</th>\n",
              "    </tr>\n",
              "  </thead>\n",
              "  <tbody>\n",
              "    <tr>\n",
              "      <th>count</th>\n",
              "      <td>14689</td>\n",
              "      <td>14262</td>\n",
              "      <td>12708</td>\n",
              "      <td>14626</td>\n",
              "      <td>15582</td>\n",
              "      <td>15582</td>\n",
              "      <td>14988</td>\n",
              "      <td>14988</td>\n",
              "      <td>11901</td>\n",
              "      <td>11901</td>\n",
              "      <td>13813</td>\n",
              "      <td>13205</td>\n",
              "      <td>13733</td>\n",
              "      <td>13719</td>\n",
              "      <td>13719</td>\n",
              "      <td>13719</td>\n",
              "      <td>7375</td>\n",
              "      <td>7375</td>\n",
              "      <td>10038</td>\n",
              "      <td>10038</td>\n",
              "      <td>15131</td>\n",
              "      <td>15131</td>\n",
              "      <td>8862</td>\n",
              "      <td>8862</td>\n",
              "      <td>12692</td>\n",
              "      <td>12101</td>\n",
              "      <td>3927</td>\n",
              "      <td>3887</td>\n",
              "      <td>14026</td>\n",
              "      <td>14026</td>\n",
              "      <td>15583</td>\n",
              "      <td>8038</td>\n",
              "      <td>6147</td>\n",
              "      <td>15582</td>\n",
              "      <td>15582</td>\n",
              "      <td>10959</td>\n",
              "      <td>10959</td>\n",
              "      <td>3793</td>\n",
              "      <td>331</td>\n",
              "      <td>3361</td>\n",
              "      <td>331</td>\n",
              "      <td>3793</td>\n",
              "      <td>558</td>\n",
              "      <td>556</td>\n",
              "      <td>474</td>\n",
              "      <td>15582</td>\n",
              "      <td>15582</td>\n",
              "      <td>4842</td>\n",
              "      <td>4842</td>\n",
              "      <td>15582</td>\n",
              "      <td>3433</td>\n",
              "      <td>3433</td>\n",
              "      <td>7009</td>\n",
              "      <td>3428</td>\n",
              "      <td>15379</td>\n",
              "      <td>15379</td>\n",
              "      <td>14677</td>\n",
              "      <td>14677</td>\n",
              "      <td>12515</td>\n",
              "      <td>12515</td>\n",
              "      <td>9975</td>\n",
              "      <td>9975</td>\n",
              "      <td>9014.0</td>\n",
              "      <td>11940</td>\n",
              "      <td>11158</td>\n",
              "      <td>10608</td>\n",
              "      <td>15582</td>\n",
              "      <td>10297</td>\n",
              "      <td>4770</td>\n",
              "      <td>2465</td>\n",
              "      <td>4197</td>\n",
              "      <td>8801</td>\n",
              "      <td>8801</td>\n",
              "      <td>8801.0</td>\n",
              "      <td>15582</td>\n",
              "      <td>15582</td>\n",
              "      <td>15582</td>\n",
              "      <td>15582</td>\n",
              "      <td>15582</td>\n",
              "      <td>15582.000000</td>\n",
              "      <td>14026</td>\n",
              "      <td>15582</td>\n",
              "      <td>11163</td>\n",
              "      <td>3217</td>\n",
              "    </tr>\n",
              "    <tr>\n",
              "      <th>unique</th>\n",
              "      <td>6086</td>\n",
              "      <td>345</td>\n",
              "      <td>650</td>\n",
              "      <td>4359</td>\n",
              "      <td>9</td>\n",
              "      <td>9</td>\n",
              "      <td>14</td>\n",
              "      <td>14</td>\n",
              "      <td>1904</td>\n",
              "      <td>1904</td>\n",
              "      <td>122</td>\n",
              "      <td>121</td>\n",
              "      <td>873</td>\n",
              "      <td>80</td>\n",
              "      <td>93</td>\n",
              "      <td>64</td>\n",
              "      <td>23</td>\n",
              "      <td>23</td>\n",
              "      <td>7</td>\n",
              "      <td>7</td>\n",
              "      <td>75</td>\n",
              "      <td>75</td>\n",
              "      <td>3</td>\n",
              "      <td>3</td>\n",
              "      <td>7</td>\n",
              "      <td>6</td>\n",
              "      <td>6</td>\n",
              "      <td>5</td>\n",
              "      <td>4</td>\n",
              "      <td>4</td>\n",
              "      <td>4</td>\n",
              "      <td>122</td>\n",
              "      <td>93</td>\n",
              "      <td>3</td>\n",
              "      <td>3</td>\n",
              "      <td>10</td>\n",
              "      <td>10</td>\n",
              "      <td>202</td>\n",
              "      <td>36</td>\n",
              "      <td>129</td>\n",
              "      <td>24</td>\n",
              "      <td>1</td>\n",
              "      <td>265</td>\n",
              "      <td>37</td>\n",
              "      <td>58</td>\n",
              "      <td>3</td>\n",
              "      <td>6614</td>\n",
              "      <td>226</td>\n",
              "      <td>226</td>\n",
              "      <td>9</td>\n",
              "      <td>1366</td>\n",
              "      <td>77</td>\n",
              "      <td>94</td>\n",
              "      <td>81</td>\n",
              "      <td>6</td>\n",
              "      <td>6</td>\n",
              "      <td>6</td>\n",
              "      <td>6</td>\n",
              "      <td>11220</td>\n",
              "      <td>11220</td>\n",
              "      <td>3</td>\n",
              "      <td>3</td>\n",
              "      <td>&lt;NA&gt;</td>\n",
              "      <td>46</td>\n",
              "      <td>6</td>\n",
              "      <td>16</td>\n",
              "      <td>5</td>\n",
              "      <td>512</td>\n",
              "      <td>41</td>\n",
              "      <td>93</td>\n",
              "      <td>92</td>\n",
              "      <td>433</td>\n",
              "      <td>433</td>\n",
              "      <td>&lt;NA&gt;</td>\n",
              "      <td>9</td>\n",
              "      <td>12594</td>\n",
              "      <td>79</td>\n",
              "      <td>3</td>\n",
              "      <td>9</td>\n",
              "      <td>NaN</td>\n",
              "      <td>47</td>\n",
              "      <td>9820</td>\n",
              "      <td>2</td>\n",
              "      <td>1</td>\n",
              "    </tr>\n",
              "    <tr>\n",
              "      <th>top</th>\n",
              "      <td>[Air conditioning, Electrical side mirrors, Hi...</td>\n",
              "      <td>[Bluetooth, Hands-free equipment, On-board com...</td>\n",
              "      <td>[Alloy wheels]</td>\n",
              "      <td>[ABS, Central door lock, Daytime running light...</td>\n",
              "      <td>[\\n, Sedans, \\n]</td>\n",
              "      <td>Sedans</td>\n",
              "      <td>[\\n, Black, \\n]</td>\n",
              "      <td>Black</td>\n",
              "      <td>[\\nOnyx Schwarz\\n]</td>\n",
              "      <td>Onyx Schwarz</td>\n",
              "      <td>[\\n120 g CO2/km (comb)\\n]</td>\n",
              "      <td>120 g CO2/km (comb)</td>\n",
              "      <td>[[3.9 l/100 km (comb)], [4.1 l/100 km (city)],...</td>\n",
              "      <td>5.4 l/100 km (comb)</td>\n",
              "      <td>5 l/100 km (city)</td>\n",
              "      <td>4.2 l/100 km (country)</td>\n",
              "      <td>[\\nGermany\\n]</td>\n",
              "      <td>Germany</td>\n",
              "      <td>[\\n4\\n]</td>\n",
              "      <td>4</td>\n",
              "      <td>[\\n1,598 cc\\n]</td>\n",
              "      <td>1,598 cc</td>\n",
              "      <td>[\\nfront\\n]</td>\n",
              "      <td>front</td>\n",
              "      <td>[\\nEuro 6\\n]</td>\n",
              "      <td>Euro 6</td>\n",
              "      <td>[\\n4 (Green)\\n]</td>\n",
              "      <td>4 (Green)</td>\n",
              "      <td>[\\n, 2018, \\n]</td>\n",
              "      <td>2018</td>\n",
              "      <td>Benzine</td>\n",
              "      <td>[\\n, \\n, \\n4 (Green)\\n]</td>\n",
              "      <td>4 (Green)</td>\n",
              "      <td>[\\n, Manual, \\n]</td>\n",
              "      <td>Manual</td>\n",
              "      <td>[\\n6\\n]</td>\n",
              "      <td>6</td>\n",
              "      <td>[\\nYes\\n, \\nEuro 6\\n]</td>\n",
              "      <td>6.7 l/100 km (city)</td>\n",
              "      <td>Euro 6</td>\n",
              "      <td>4.6 l/100 km (country)</td>\n",
              "      <td>Yes</td>\n",
              "      <td>[\\n02/2019\\n, \\nEuro 6\\n]</td>\n",
              "      <td>05/2019</td>\n",
              "      <td>Euro 6</td>\n",
              "      <td>Opel</td>\n",
              "      <td>10</td>\n",
              "      <td>[\\n0035/BCB\\n]</td>\n",
              "      <td>0035/BCB</td>\n",
              "      <td>A3</td>\n",
              "      <td>\\n04/2022\\n</td>\n",
              "      <td>2021-06</td>\n",
              "      <td>[\\n, \\n]</td>\n",
              "      <td>4 (Green)</td>\n",
              "      <td>[\\n5\\n]</td>\n",
              "      <td>5</td>\n",
              "      <td>[\\n5\\n]</td>\n",
              "      <td>5</td>\n",
              "      <td>[\\nTA76392\\n]</td>\n",
              "      <td>TA76392</td>\n",
              "      <td>[\\nMetallic\\n]</td>\n",
              "      <td>Metallic</td>\n",
              "      <td>&lt;NA&gt;</td>\n",
              "      <td>[\\nCloth, Black\\n]</td>\n",
              "      <td>Cloth</td>\n",
              "      <td>Black</td>\n",
              "      <td>Used</td>\n",
              "      <td>[\\n, \\n, \\nEuro 6\\n]</td>\n",
              "      <td>12 months</td>\n",
              "      <td>Euro 6</td>\n",
              "      <td>Euro 6</td>\n",
              "      <td>[\\n1,163 kg\\n]</td>\n",
              "      <td>1163</td>\n",
              "      <td>&lt;NA&gt;</td>\n",
              "      <td>Sedans</td>\n",
              "      <td>[]</td>\n",
              "      <td>85</td>\n",
              "      <td>Opel</td>\n",
              "      <td>A3</td>\n",
              "      <td>NaN</td>\n",
              "      <td>2018-03</td>\n",
              "      <td>SPB 1.6 TDI 116 CV S tronic Sport</td>\n",
              "      <td>VAT deductible</td>\n",
              "      <td>Benzine</td>\n",
              "    </tr>\n",
              "    <tr>\n",
              "      <th>freq</th>\n",
              "      <td>211</td>\n",
              "      <td>1255</td>\n",
              "      <td>3188</td>\n",
              "      <td>532</td>\n",
              "      <td>7794</td>\n",
              "      <td>7794</td>\n",
              "      <td>3682</td>\n",
              "      <td>3682</td>\n",
              "      <td>328</td>\n",
              "      <td>328</td>\n",
              "      <td>716</td>\n",
              "      <td>716</td>\n",
              "      <td>302</td>\n",
              "      <td>741</td>\n",
              "      <td>654</td>\n",
              "      <td>1144</td>\n",
              "      <td>4355</td>\n",
              "      <td>4355</td>\n",
              "      <td>7937</td>\n",
              "      <td>7937</td>\n",
              "      <td>4713</td>\n",
              "      <td>4713</td>\n",
              "      <td>8692</td>\n",
              "      <td>8692</td>\n",
              "      <td>10024</td>\n",
              "      <td>10024</td>\n",
              "      <td>3499</td>\n",
              "      <td>3499</td>\n",
              "      <td>4450</td>\n",
              "      <td>4450</td>\n",
              "      <td>8345</td>\n",
              "      <td>2204</td>\n",
              "      <td>2204</td>\n",
              "      <td>8014</td>\n",
              "      <td>8014</td>\n",
              "      <td>5673</td>\n",
              "      <td>5673</td>\n",
              "      <td>490</td>\n",
              "      <td>35</td>\n",
              "      <td>490</td>\n",
              "      <td>37</td>\n",
              "      <td>3793</td>\n",
              "      <td>23</td>\n",
              "      <td>61</td>\n",
              "      <td>176</td>\n",
              "      <td>7194</td>\n",
              "      <td>1019</td>\n",
              "      <td>261</td>\n",
              "      <td>261</td>\n",
              "      <td>3061</td>\n",
              "      <td>62</td>\n",
              "      <td>433</td>\n",
              "      <td>3499</td>\n",
              "      <td>1230</td>\n",
              "      <td>11308</td>\n",
              "      <td>11308</td>\n",
              "      <td>13111</td>\n",
              "      <td>13111</td>\n",
              "      <td>27</td>\n",
              "      <td>27</td>\n",
              "      <td>9627</td>\n",
              "      <td>9627</td>\n",
              "      <td>&lt;NA&gt;</td>\n",
              "      <td>5698</td>\n",
              "      <td>8257</td>\n",
              "      <td>7524</td>\n",
              "      <td>10888</td>\n",
              "      <td>1858</td>\n",
              "      <td>2554</td>\n",
              "      <td>614</td>\n",
              "      <td>1858</td>\n",
              "      <td>569</td>\n",
              "      <td>569</td>\n",
              "      <td>&lt;NA&gt;</td>\n",
              "      <td>7794</td>\n",
              "      <td>626</td>\n",
              "      <td>2511</td>\n",
              "      <td>7194</td>\n",
              "      <td>3061</td>\n",
              "      <td>NaN</td>\n",
              "      <td>687</td>\n",
              "      <td>64</td>\n",
              "      <td>10751</td>\n",
              "      <td>3217</td>\n",
              "    </tr>\n",
              "    <tr>\n",
              "      <th>mean</th>\n",
              "      <td>NaN</td>\n",
              "      <td>NaN</td>\n",
              "      <td>NaN</td>\n",
              "      <td>NaN</td>\n",
              "      <td>NaN</td>\n",
              "      <td>NaN</td>\n",
              "      <td>NaN</td>\n",
              "      <td>NaN</td>\n",
              "      <td>NaN</td>\n",
              "      <td>NaN</td>\n",
              "      <td>NaN</td>\n",
              "      <td>NaN</td>\n",
              "      <td>NaN</td>\n",
              "      <td>NaN</td>\n",
              "      <td>NaN</td>\n",
              "      <td>NaN</td>\n",
              "      <td>NaN</td>\n",
              "      <td>NaN</td>\n",
              "      <td>NaN</td>\n",
              "      <td>NaN</td>\n",
              "      <td>NaN</td>\n",
              "      <td>NaN</td>\n",
              "      <td>NaN</td>\n",
              "      <td>NaN</td>\n",
              "      <td>NaN</td>\n",
              "      <td>NaN</td>\n",
              "      <td>NaN</td>\n",
              "      <td>NaN</td>\n",
              "      <td>NaN</td>\n",
              "      <td>NaN</td>\n",
              "      <td>NaN</td>\n",
              "      <td>NaN</td>\n",
              "      <td>NaN</td>\n",
              "      <td>NaN</td>\n",
              "      <td>NaN</td>\n",
              "      <td>NaN</td>\n",
              "      <td>NaN</td>\n",
              "      <td>NaN</td>\n",
              "      <td>NaN</td>\n",
              "      <td>NaN</td>\n",
              "      <td>NaN</td>\n",
              "      <td>NaN</td>\n",
              "      <td>NaN</td>\n",
              "      <td>NaN</td>\n",
              "      <td>NaN</td>\n",
              "      <td>NaN</td>\n",
              "      <td>NaN</td>\n",
              "      <td>NaN</td>\n",
              "      <td>NaN</td>\n",
              "      <td>NaN</td>\n",
              "      <td>NaN</td>\n",
              "      <td>NaN</td>\n",
              "      <td>NaN</td>\n",
              "      <td>NaN</td>\n",
              "      <td>NaN</td>\n",
              "      <td>NaN</td>\n",
              "      <td>NaN</td>\n",
              "      <td>NaN</td>\n",
              "      <td>NaN</td>\n",
              "      <td>NaN</td>\n",
              "      <td>NaN</td>\n",
              "      <td>NaN</td>\n",
              "      <td>1.070668</td>\n",
              "      <td>NaN</td>\n",
              "      <td>NaN</td>\n",
              "      <td>NaN</td>\n",
              "      <td>NaN</td>\n",
              "      <td>NaN</td>\n",
              "      <td>NaN</td>\n",
              "      <td>NaN</td>\n",
              "      <td>NaN</td>\n",
              "      <td>NaN</td>\n",
              "      <td>NaN</td>\n",
              "      <td>1351.36939</td>\n",
              "      <td>NaN</td>\n",
              "      <td>NaN</td>\n",
              "      <td>NaN</td>\n",
              "      <td>NaN</td>\n",
              "      <td>NaN</td>\n",
              "      <td>17967.031254</td>\n",
              "      <td>NaN</td>\n",
              "      <td>NaN</td>\n",
              "      <td>NaN</td>\n",
              "      <td>NaN</td>\n",
              "    </tr>\n",
              "    <tr>\n",
              "      <th>std</th>\n",
              "      <td>NaN</td>\n",
              "      <td>NaN</td>\n",
              "      <td>NaN</td>\n",
              "      <td>NaN</td>\n",
              "      <td>NaN</td>\n",
              "      <td>NaN</td>\n",
              "      <td>NaN</td>\n",
              "      <td>NaN</td>\n",
              "      <td>NaN</td>\n",
              "      <td>NaN</td>\n",
              "      <td>NaN</td>\n",
              "      <td>NaN</td>\n",
              "      <td>NaN</td>\n",
              "      <td>NaN</td>\n",
              "      <td>NaN</td>\n",
              "      <td>NaN</td>\n",
              "      <td>NaN</td>\n",
              "      <td>NaN</td>\n",
              "      <td>NaN</td>\n",
              "      <td>NaN</td>\n",
              "      <td>NaN</td>\n",
              "      <td>NaN</td>\n",
              "      <td>NaN</td>\n",
              "      <td>NaN</td>\n",
              "      <td>NaN</td>\n",
              "      <td>NaN</td>\n",
              "      <td>NaN</td>\n",
              "      <td>NaN</td>\n",
              "      <td>NaN</td>\n",
              "      <td>NaN</td>\n",
              "      <td>NaN</td>\n",
              "      <td>NaN</td>\n",
              "      <td>NaN</td>\n",
              "      <td>NaN</td>\n",
              "      <td>NaN</td>\n",
              "      <td>NaN</td>\n",
              "      <td>NaN</td>\n",
              "      <td>NaN</td>\n",
              "      <td>NaN</td>\n",
              "      <td>NaN</td>\n",
              "      <td>NaN</td>\n",
              "      <td>NaN</td>\n",
              "      <td>NaN</td>\n",
              "      <td>NaN</td>\n",
              "      <td>NaN</td>\n",
              "      <td>NaN</td>\n",
              "      <td>NaN</td>\n",
              "      <td>NaN</td>\n",
              "      <td>NaN</td>\n",
              "      <td>NaN</td>\n",
              "      <td>NaN</td>\n",
              "      <td>NaN</td>\n",
              "      <td>NaN</td>\n",
              "      <td>NaN</td>\n",
              "      <td>NaN</td>\n",
              "      <td>NaN</td>\n",
              "      <td>NaN</td>\n",
              "      <td>NaN</td>\n",
              "      <td>NaN</td>\n",
              "      <td>NaN</td>\n",
              "      <td>NaN</td>\n",
              "      <td>NaN</td>\n",
              "      <td>0.32704</td>\n",
              "      <td>NaN</td>\n",
              "      <td>NaN</td>\n",
              "      <td>NaN</td>\n",
              "      <td>NaN</td>\n",
              "      <td>NaN</td>\n",
              "      <td>NaN</td>\n",
              "      <td>NaN</td>\n",
              "      <td>NaN</td>\n",
              "      <td>NaN</td>\n",
              "      <td>NaN</td>\n",
              "      <td>220.819426</td>\n",
              "      <td>NaN</td>\n",
              "      <td>NaN</td>\n",
              "      <td>NaN</td>\n",
              "      <td>NaN</td>\n",
              "      <td>NaN</td>\n",
              "      <td>7346.733274</td>\n",
              "      <td>NaN</td>\n",
              "      <td>NaN</td>\n",
              "      <td>NaN</td>\n",
              "      <td>NaN</td>\n",
              "    </tr>\n",
              "    <tr>\n",
              "      <th>min</th>\n",
              "      <td>NaN</td>\n",
              "      <td>NaN</td>\n",
              "      <td>NaN</td>\n",
              "      <td>NaN</td>\n",
              "      <td>NaN</td>\n",
              "      <td>NaN</td>\n",
              "      <td>NaN</td>\n",
              "      <td>NaN</td>\n",
              "      <td>NaN</td>\n",
              "      <td>NaN</td>\n",
              "      <td>NaN</td>\n",
              "      <td>NaN</td>\n",
              "      <td>NaN</td>\n",
              "      <td>NaN</td>\n",
              "      <td>NaN</td>\n",
              "      <td>NaN</td>\n",
              "      <td>NaN</td>\n",
              "      <td>NaN</td>\n",
              "      <td>NaN</td>\n",
              "      <td>NaN</td>\n",
              "      <td>NaN</td>\n",
              "      <td>NaN</td>\n",
              "      <td>NaN</td>\n",
              "      <td>NaN</td>\n",
              "      <td>NaN</td>\n",
              "      <td>NaN</td>\n",
              "      <td>NaN</td>\n",
              "      <td>NaN</td>\n",
              "      <td>NaN</td>\n",
              "      <td>NaN</td>\n",
              "      <td>NaN</td>\n",
              "      <td>NaN</td>\n",
              "      <td>NaN</td>\n",
              "      <td>NaN</td>\n",
              "      <td>NaN</td>\n",
              "      <td>NaN</td>\n",
              "      <td>NaN</td>\n",
              "      <td>NaN</td>\n",
              "      <td>NaN</td>\n",
              "      <td>NaN</td>\n",
              "      <td>NaN</td>\n",
              "      <td>NaN</td>\n",
              "      <td>NaN</td>\n",
              "      <td>NaN</td>\n",
              "      <td>NaN</td>\n",
              "      <td>NaN</td>\n",
              "      <td>NaN</td>\n",
              "      <td>NaN</td>\n",
              "      <td>NaN</td>\n",
              "      <td>NaN</td>\n",
              "      <td>NaN</td>\n",
              "      <td>NaN</td>\n",
              "      <td>NaN</td>\n",
              "      <td>NaN</td>\n",
              "      <td>NaN</td>\n",
              "      <td>NaN</td>\n",
              "      <td>NaN</td>\n",
              "      <td>NaN</td>\n",
              "      <td>NaN</td>\n",
              "      <td>NaN</td>\n",
              "      <td>NaN</td>\n",
              "      <td>NaN</td>\n",
              "      <td>0.0</td>\n",
              "      <td>NaN</td>\n",
              "      <td>NaN</td>\n",
              "      <td>NaN</td>\n",
              "      <td>NaN</td>\n",
              "      <td>NaN</td>\n",
              "      <td>NaN</td>\n",
              "      <td>NaN</td>\n",
              "      <td>NaN</td>\n",
              "      <td>NaN</td>\n",
              "      <td>NaN</td>\n",
              "      <td>1.0</td>\n",
              "      <td>NaN</td>\n",
              "      <td>NaN</td>\n",
              "      <td>NaN</td>\n",
              "      <td>NaN</td>\n",
              "      <td>NaN</td>\n",
              "      <td>13.000000</td>\n",
              "      <td>NaN</td>\n",
              "      <td>NaN</td>\n",
              "      <td>NaN</td>\n",
              "      <td>NaN</td>\n",
              "    </tr>\n",
              "    <tr>\n",
              "      <th>25%</th>\n",
              "      <td>NaN</td>\n",
              "      <td>NaN</td>\n",
              "      <td>NaN</td>\n",
              "      <td>NaN</td>\n",
              "      <td>NaN</td>\n",
              "      <td>NaN</td>\n",
              "      <td>NaN</td>\n",
              "      <td>NaN</td>\n",
              "      <td>NaN</td>\n",
              "      <td>NaN</td>\n",
              "      <td>NaN</td>\n",
              "      <td>NaN</td>\n",
              "      <td>NaN</td>\n",
              "      <td>NaN</td>\n",
              "      <td>NaN</td>\n",
              "      <td>NaN</td>\n",
              "      <td>NaN</td>\n",
              "      <td>NaN</td>\n",
              "      <td>NaN</td>\n",
              "      <td>NaN</td>\n",
              "      <td>NaN</td>\n",
              "      <td>NaN</td>\n",
              "      <td>NaN</td>\n",
              "      <td>NaN</td>\n",
              "      <td>NaN</td>\n",
              "      <td>NaN</td>\n",
              "      <td>NaN</td>\n",
              "      <td>NaN</td>\n",
              "      <td>NaN</td>\n",
              "      <td>NaN</td>\n",
              "      <td>NaN</td>\n",
              "      <td>NaN</td>\n",
              "      <td>NaN</td>\n",
              "      <td>NaN</td>\n",
              "      <td>NaN</td>\n",
              "      <td>NaN</td>\n",
              "      <td>NaN</td>\n",
              "      <td>NaN</td>\n",
              "      <td>NaN</td>\n",
              "      <td>NaN</td>\n",
              "      <td>NaN</td>\n",
              "      <td>NaN</td>\n",
              "      <td>NaN</td>\n",
              "      <td>NaN</td>\n",
              "      <td>NaN</td>\n",
              "      <td>NaN</td>\n",
              "      <td>NaN</td>\n",
              "      <td>NaN</td>\n",
              "      <td>NaN</td>\n",
              "      <td>NaN</td>\n",
              "      <td>NaN</td>\n",
              "      <td>NaN</td>\n",
              "      <td>NaN</td>\n",
              "      <td>NaN</td>\n",
              "      <td>NaN</td>\n",
              "      <td>NaN</td>\n",
              "      <td>NaN</td>\n",
              "      <td>NaN</td>\n",
              "      <td>NaN</td>\n",
              "      <td>NaN</td>\n",
              "      <td>NaN</td>\n",
              "      <td>NaN</td>\n",
              "      <td>1.0</td>\n",
              "      <td>NaN</td>\n",
              "      <td>NaN</td>\n",
              "      <td>NaN</td>\n",
              "      <td>NaN</td>\n",
              "      <td>NaN</td>\n",
              "      <td>NaN</td>\n",
              "      <td>NaN</td>\n",
              "      <td>NaN</td>\n",
              "      <td>NaN</td>\n",
              "      <td>NaN</td>\n",
              "      <td>1167.0</td>\n",
              "      <td>NaN</td>\n",
              "      <td>NaN</td>\n",
              "      <td>NaN</td>\n",
              "      <td>NaN</td>\n",
              "      <td>NaN</td>\n",
              "      <td>12799.250000</td>\n",
              "      <td>NaN</td>\n",
              "      <td>NaN</td>\n",
              "      <td>NaN</td>\n",
              "      <td>NaN</td>\n",
              "    </tr>\n",
              "    <tr>\n",
              "      <th>50%</th>\n",
              "      <td>NaN</td>\n",
              "      <td>NaN</td>\n",
              "      <td>NaN</td>\n",
              "      <td>NaN</td>\n",
              "      <td>NaN</td>\n",
              "      <td>NaN</td>\n",
              "      <td>NaN</td>\n",
              "      <td>NaN</td>\n",
              "      <td>NaN</td>\n",
              "      <td>NaN</td>\n",
              "      <td>NaN</td>\n",
              "      <td>NaN</td>\n",
              "      <td>NaN</td>\n",
              "      <td>NaN</td>\n",
              "      <td>NaN</td>\n",
              "      <td>NaN</td>\n",
              "      <td>NaN</td>\n",
              "      <td>NaN</td>\n",
              "      <td>NaN</td>\n",
              "      <td>NaN</td>\n",
              "      <td>NaN</td>\n",
              "      <td>NaN</td>\n",
              "      <td>NaN</td>\n",
              "      <td>NaN</td>\n",
              "      <td>NaN</td>\n",
              "      <td>NaN</td>\n",
              "      <td>NaN</td>\n",
              "      <td>NaN</td>\n",
              "      <td>NaN</td>\n",
              "      <td>NaN</td>\n",
              "      <td>NaN</td>\n",
              "      <td>NaN</td>\n",
              "      <td>NaN</td>\n",
              "      <td>NaN</td>\n",
              "      <td>NaN</td>\n",
              "      <td>NaN</td>\n",
              "      <td>NaN</td>\n",
              "      <td>NaN</td>\n",
              "      <td>NaN</td>\n",
              "      <td>NaN</td>\n",
              "      <td>NaN</td>\n",
              "      <td>NaN</td>\n",
              "      <td>NaN</td>\n",
              "      <td>NaN</td>\n",
              "      <td>NaN</td>\n",
              "      <td>NaN</td>\n",
              "      <td>NaN</td>\n",
              "      <td>NaN</td>\n",
              "      <td>NaN</td>\n",
              "      <td>NaN</td>\n",
              "      <td>NaN</td>\n",
              "      <td>NaN</td>\n",
              "      <td>NaN</td>\n",
              "      <td>NaN</td>\n",
              "      <td>NaN</td>\n",
              "      <td>NaN</td>\n",
              "      <td>NaN</td>\n",
              "      <td>NaN</td>\n",
              "      <td>NaN</td>\n",
              "      <td>NaN</td>\n",
              "      <td>NaN</td>\n",
              "      <td>NaN</td>\n",
              "      <td>1.0</td>\n",
              "      <td>NaN</td>\n",
              "      <td>NaN</td>\n",
              "      <td>NaN</td>\n",
              "      <td>NaN</td>\n",
              "      <td>NaN</td>\n",
              "      <td>NaN</td>\n",
              "      <td>NaN</td>\n",
              "      <td>NaN</td>\n",
              "      <td>NaN</td>\n",
              "      <td>NaN</td>\n",
              "      <td>1288.0</td>\n",
              "      <td>NaN</td>\n",
              "      <td>NaN</td>\n",
              "      <td>NaN</td>\n",
              "      <td>NaN</td>\n",
              "      <td>NaN</td>\n",
              "      <td>16890.000000</td>\n",
              "      <td>NaN</td>\n",
              "      <td>NaN</td>\n",
              "      <td>NaN</td>\n",
              "      <td>NaN</td>\n",
              "    </tr>\n",
              "    <tr>\n",
              "      <th>75%</th>\n",
              "      <td>NaN</td>\n",
              "      <td>NaN</td>\n",
              "      <td>NaN</td>\n",
              "      <td>NaN</td>\n",
              "      <td>NaN</td>\n",
              "      <td>NaN</td>\n",
              "      <td>NaN</td>\n",
              "      <td>NaN</td>\n",
              "      <td>NaN</td>\n",
              "      <td>NaN</td>\n",
              "      <td>NaN</td>\n",
              "      <td>NaN</td>\n",
              "      <td>NaN</td>\n",
              "      <td>NaN</td>\n",
              "      <td>NaN</td>\n",
              "      <td>NaN</td>\n",
              "      <td>NaN</td>\n",
              "      <td>NaN</td>\n",
              "      <td>NaN</td>\n",
              "      <td>NaN</td>\n",
              "      <td>NaN</td>\n",
              "      <td>NaN</td>\n",
              "      <td>NaN</td>\n",
              "      <td>NaN</td>\n",
              "      <td>NaN</td>\n",
              "      <td>NaN</td>\n",
              "      <td>NaN</td>\n",
              "      <td>NaN</td>\n",
              "      <td>NaN</td>\n",
              "      <td>NaN</td>\n",
              "      <td>NaN</td>\n",
              "      <td>NaN</td>\n",
              "      <td>NaN</td>\n",
              "      <td>NaN</td>\n",
              "      <td>NaN</td>\n",
              "      <td>NaN</td>\n",
              "      <td>NaN</td>\n",
              "      <td>NaN</td>\n",
              "      <td>NaN</td>\n",
              "      <td>NaN</td>\n",
              "      <td>NaN</td>\n",
              "      <td>NaN</td>\n",
              "      <td>NaN</td>\n",
              "      <td>NaN</td>\n",
              "      <td>NaN</td>\n",
              "      <td>NaN</td>\n",
              "      <td>NaN</td>\n",
              "      <td>NaN</td>\n",
              "      <td>NaN</td>\n",
              "      <td>NaN</td>\n",
              "      <td>NaN</td>\n",
              "      <td>NaN</td>\n",
              "      <td>NaN</td>\n",
              "      <td>NaN</td>\n",
              "      <td>NaN</td>\n",
              "      <td>NaN</td>\n",
              "      <td>NaN</td>\n",
              "      <td>NaN</td>\n",
              "      <td>NaN</td>\n",
              "      <td>NaN</td>\n",
              "      <td>NaN</td>\n",
              "      <td>NaN</td>\n",
              "      <td>1.0</td>\n",
              "      <td>NaN</td>\n",
              "      <td>NaN</td>\n",
              "      <td>NaN</td>\n",
              "      <td>NaN</td>\n",
              "      <td>NaN</td>\n",
              "      <td>NaN</td>\n",
              "      <td>NaN</td>\n",
              "      <td>NaN</td>\n",
              "      <td>NaN</td>\n",
              "      <td>NaN</td>\n",
              "      <td>1487.0</td>\n",
              "      <td>NaN</td>\n",
              "      <td>NaN</td>\n",
              "      <td>NaN</td>\n",
              "      <td>NaN</td>\n",
              "      <td>NaN</td>\n",
              "      <td>21900.000000</td>\n",
              "      <td>NaN</td>\n",
              "      <td>NaN</td>\n",
              "      <td>NaN</td>\n",
              "      <td>NaN</td>\n",
              "    </tr>\n",
              "    <tr>\n",
              "      <th>max</th>\n",
              "      <td>NaN</td>\n",
              "      <td>NaN</td>\n",
              "      <td>NaN</td>\n",
              "      <td>NaN</td>\n",
              "      <td>NaN</td>\n",
              "      <td>NaN</td>\n",
              "      <td>NaN</td>\n",
              "      <td>NaN</td>\n",
              "      <td>NaN</td>\n",
              "      <td>NaN</td>\n",
              "      <td>NaN</td>\n",
              "      <td>NaN</td>\n",
              "      <td>NaN</td>\n",
              "      <td>NaN</td>\n",
              "      <td>NaN</td>\n",
              "      <td>NaN</td>\n",
              "      <td>NaN</td>\n",
              "      <td>NaN</td>\n",
              "      <td>NaN</td>\n",
              "      <td>NaN</td>\n",
              "      <td>NaN</td>\n",
              "      <td>NaN</td>\n",
              "      <td>NaN</td>\n",
              "      <td>NaN</td>\n",
              "      <td>NaN</td>\n",
              "      <td>NaN</td>\n",
              "      <td>NaN</td>\n",
              "      <td>NaN</td>\n",
              "      <td>NaN</td>\n",
              "      <td>NaN</td>\n",
              "      <td>NaN</td>\n",
              "      <td>NaN</td>\n",
              "      <td>NaN</td>\n",
              "      <td>NaN</td>\n",
              "      <td>NaN</td>\n",
              "      <td>NaN</td>\n",
              "      <td>NaN</td>\n",
              "      <td>NaN</td>\n",
              "      <td>NaN</td>\n",
              "      <td>NaN</td>\n",
              "      <td>NaN</td>\n",
              "      <td>NaN</td>\n",
              "      <td>NaN</td>\n",
              "      <td>NaN</td>\n",
              "      <td>NaN</td>\n",
              "      <td>NaN</td>\n",
              "      <td>NaN</td>\n",
              "      <td>NaN</td>\n",
              "      <td>NaN</td>\n",
              "      <td>NaN</td>\n",
              "      <td>NaN</td>\n",
              "      <td>NaN</td>\n",
              "      <td>NaN</td>\n",
              "      <td>NaN</td>\n",
              "      <td>NaN</td>\n",
              "      <td>NaN</td>\n",
              "      <td>NaN</td>\n",
              "      <td>NaN</td>\n",
              "      <td>NaN</td>\n",
              "      <td>NaN</td>\n",
              "      <td>NaN</td>\n",
              "      <td>NaN</td>\n",
              "      <td>4.0</td>\n",
              "      <td>NaN</td>\n",
              "      <td>NaN</td>\n",
              "      <td>NaN</td>\n",
              "      <td>NaN</td>\n",
              "      <td>NaN</td>\n",
              "      <td>NaN</td>\n",
              "      <td>NaN</td>\n",
              "      <td>NaN</td>\n",
              "      <td>NaN</td>\n",
              "      <td>NaN</td>\n",
              "      <td>2471.0</td>\n",
              "      <td>NaN</td>\n",
              "      <td>NaN</td>\n",
              "      <td>NaN</td>\n",
              "      <td>NaN</td>\n",
              "      <td>NaN</td>\n",
              "      <td>74600.000000</td>\n",
              "      <td>NaN</td>\n",
              "      <td>NaN</td>\n",
              "      <td>NaN</td>\n",
              "      <td>NaN</td>\n",
              "    </tr>\n",
              "  </tbody>\n",
              "</table>\n",
              "</div>\n",
              "    <div class=\"colab-df-buttons\">\n",
              "\n",
              "  <div class=\"colab-df-container\">\n",
              "    <button class=\"colab-df-convert\" onclick=\"convertToInteractive('df-2df90f86-3eb0-4fcf-9d2c-f12f7164d264')\"\n",
              "            title=\"Convert this dataframe to an interactive table.\"\n",
              "            style=\"display:none;\">\n",
              "\n",
              "  <svg xmlns=\"http://www.w3.org/2000/svg\" height=\"24px\" viewBox=\"0 -960 960 960\">\n",
              "    <path d=\"M120-120v-720h720v720H120Zm60-500h600v-160H180v160Zm220 220h160v-160H400v160Zm0 220h160v-160H400v160ZM180-400h160v-160H180v160Zm440 0h160v-160H620v160ZM180-180h160v-160H180v160Zm440 0h160v-160H620v160Z\"/>\n",
              "  </svg>\n",
              "    </button>\n",
              "\n",
              "  <style>\n",
              "    .colab-df-container {\n",
              "      display:flex;\n",
              "      gap: 12px;\n",
              "    }\n",
              "\n",
              "    .colab-df-convert {\n",
              "      background-color: #E8F0FE;\n",
              "      border: none;\n",
              "      border-radius: 50%;\n",
              "      cursor: pointer;\n",
              "      display: none;\n",
              "      fill: #1967D2;\n",
              "      height: 32px;\n",
              "      padding: 0 0 0 0;\n",
              "      width: 32px;\n",
              "    }\n",
              "\n",
              "    .colab-df-convert:hover {\n",
              "      background-color: #E2EBFA;\n",
              "      box-shadow: 0px 1px 2px rgba(60, 64, 67, 0.3), 0px 1px 3px 1px rgba(60, 64, 67, 0.15);\n",
              "      fill: #174EA6;\n",
              "    }\n",
              "\n",
              "    .colab-df-buttons div {\n",
              "      margin-bottom: 4px;\n",
              "    }\n",
              "\n",
              "    [theme=dark] .colab-df-convert {\n",
              "      background-color: #3B4455;\n",
              "      fill: #D2E3FC;\n",
              "    }\n",
              "\n",
              "    [theme=dark] .colab-df-convert:hover {\n",
              "      background-color: #434B5C;\n",
              "      box-shadow: 0px 1px 3px 1px rgba(0, 0, 0, 0.15);\n",
              "      filter: drop-shadow(0px 1px 2px rgba(0, 0, 0, 0.3));\n",
              "      fill: #FFFFFF;\n",
              "    }\n",
              "  </style>\n",
              "\n",
              "    <script>\n",
              "      const buttonEl =\n",
              "        document.querySelector('#df-2df90f86-3eb0-4fcf-9d2c-f12f7164d264 button.colab-df-convert');\n",
              "      buttonEl.style.display =\n",
              "        google.colab.kernel.accessAllowed ? 'block' : 'none';\n",
              "\n",
              "      async function convertToInteractive(key) {\n",
              "        const element = document.querySelector('#df-2df90f86-3eb0-4fcf-9d2c-f12f7164d264');\n",
              "        const dataTable =\n",
              "          await google.colab.kernel.invokeFunction('convertToInteractive',\n",
              "                                                    [key], {});\n",
              "        if (!dataTable) return;\n",
              "\n",
              "        const docLinkHtml = 'Like what you see? Visit the ' +\n",
              "          '<a target=\"_blank\" href=https://colab.research.google.com/notebooks/data_table.ipynb>data table notebook</a>'\n",
              "          + ' to learn more about interactive tables.';\n",
              "        element.innerHTML = '';\n",
              "        dataTable['output_type'] = 'display_data';\n",
              "        await google.colab.output.renderOutput(dataTable, element);\n",
              "        const docLink = document.createElement('div');\n",
              "        docLink.innerHTML = docLinkHtml;\n",
              "        element.appendChild(docLink);\n",
              "      }\n",
              "    </script>\n",
              "  </div>\n",
              "\n",
              "\n",
              "    <div id=\"df-b06e49d2-4fce-43e4-b363-b33688eb970f\">\n",
              "      <button class=\"colab-df-quickchart\" onclick=\"quickchart('df-b06e49d2-4fce-43e4-b363-b33688eb970f')\"\n",
              "                title=\"Suggest charts\"\n",
              "                style=\"display:none;\">\n",
              "\n",
              "<svg xmlns=\"http://www.w3.org/2000/svg\" height=\"24px\"viewBox=\"0 0 24 24\"\n",
              "     width=\"24px\">\n",
              "    <g>\n",
              "        <path d=\"M19 3H5c-1.1 0-2 .9-2 2v14c0 1.1.9 2 2 2h14c1.1 0 2-.9 2-2V5c0-1.1-.9-2-2-2zM9 17H7v-7h2v7zm4 0h-2V7h2v10zm4 0h-2v-4h2v4z\"/>\n",
              "    </g>\n",
              "</svg>\n",
              "      </button>\n",
              "\n",
              "<style>\n",
              "  .colab-df-quickchart {\n",
              "      --bg-color: #E8F0FE;\n",
              "      --fill-color: #1967D2;\n",
              "      --hover-bg-color: #E2EBFA;\n",
              "      --hover-fill-color: #174EA6;\n",
              "      --disabled-fill-color: #AAA;\n",
              "      --disabled-bg-color: #DDD;\n",
              "  }\n",
              "\n",
              "  [theme=dark] .colab-df-quickchart {\n",
              "      --bg-color: #3B4455;\n",
              "      --fill-color: #D2E3FC;\n",
              "      --hover-bg-color: #434B5C;\n",
              "      --hover-fill-color: #FFFFFF;\n",
              "      --disabled-bg-color: #3B4455;\n",
              "      --disabled-fill-color: #666;\n",
              "  }\n",
              "\n",
              "  .colab-df-quickchart {\n",
              "    background-color: var(--bg-color);\n",
              "    border: none;\n",
              "    border-radius: 50%;\n",
              "    cursor: pointer;\n",
              "    display: none;\n",
              "    fill: var(--fill-color);\n",
              "    height: 32px;\n",
              "    padding: 0;\n",
              "    width: 32px;\n",
              "  }\n",
              "\n",
              "  .colab-df-quickchart:hover {\n",
              "    background-color: var(--hover-bg-color);\n",
              "    box-shadow: 0 1px 2px rgba(60, 64, 67, 0.3), 0 1px 3px 1px rgba(60, 64, 67, 0.15);\n",
              "    fill: var(--button-hover-fill-color);\n",
              "  }\n",
              "\n",
              "  .colab-df-quickchart-complete:disabled,\n",
              "  .colab-df-quickchart-complete:disabled:hover {\n",
              "    background-color: var(--disabled-bg-color);\n",
              "    fill: var(--disabled-fill-color);\n",
              "    box-shadow: none;\n",
              "  }\n",
              "\n",
              "  .colab-df-spinner {\n",
              "    border: 2px solid var(--fill-color);\n",
              "    border-color: transparent;\n",
              "    border-bottom-color: var(--fill-color);\n",
              "    animation:\n",
              "      spin 1s steps(1) infinite;\n",
              "  }\n",
              "\n",
              "  @keyframes spin {\n",
              "    0% {\n",
              "      border-color: transparent;\n",
              "      border-bottom-color: var(--fill-color);\n",
              "      border-left-color: var(--fill-color);\n",
              "    }\n",
              "    20% {\n",
              "      border-color: transparent;\n",
              "      border-left-color: var(--fill-color);\n",
              "      border-top-color: var(--fill-color);\n",
              "    }\n",
              "    30% {\n",
              "      border-color: transparent;\n",
              "      border-left-color: var(--fill-color);\n",
              "      border-top-color: var(--fill-color);\n",
              "      border-right-color: var(--fill-color);\n",
              "    }\n",
              "    40% {\n",
              "      border-color: transparent;\n",
              "      border-right-color: var(--fill-color);\n",
              "      border-top-color: var(--fill-color);\n",
              "    }\n",
              "    60% {\n",
              "      border-color: transparent;\n",
              "      border-right-color: var(--fill-color);\n",
              "    }\n",
              "    80% {\n",
              "      border-color: transparent;\n",
              "      border-right-color: var(--fill-color);\n",
              "      border-bottom-color: var(--fill-color);\n",
              "    }\n",
              "    90% {\n",
              "      border-color: transparent;\n",
              "      border-bottom-color: var(--fill-color);\n",
              "    }\n",
              "  }\n",
              "</style>\n",
              "\n",
              "      <script>\n",
              "        async function quickchart(key) {\n",
              "          const quickchartButtonEl =\n",
              "            document.querySelector('#' + key + ' button');\n",
              "          quickchartButtonEl.disabled = true;  // To prevent multiple clicks.\n",
              "          quickchartButtonEl.classList.add('colab-df-spinner');\n",
              "          try {\n",
              "            const charts = await google.colab.kernel.invokeFunction(\n",
              "                'suggestCharts', [key], {});\n",
              "          } catch (error) {\n",
              "            console.error('Error during call to suggestCharts:', error);\n",
              "          }\n",
              "          quickchartButtonEl.classList.remove('colab-df-spinner');\n",
              "          quickchartButtonEl.classList.add('colab-df-quickchart-complete');\n",
              "        }\n",
              "        (() => {\n",
              "          let quickchartButtonEl =\n",
              "            document.querySelector('#df-b06e49d2-4fce-43e4-b363-b33688eb970f button');\n",
              "          quickchartButtonEl.style.display =\n",
              "            google.colab.kernel.accessAllowed ? 'block' : 'none';\n",
              "        })();\n",
              "      </script>\n",
              "    </div>\n",
              "\n",
              "    </div>\n",
              "  </div>\n"
            ],
            "application/vnd.google.colaboratory.intrinsic+json": {
              "type": "dataframe"
            }
          },
          "metadata": {},
          "execution_count": 388
        }
      ]
    },
    {
      "cell_type": "code",
      "source": [
        "df_new18 = df_new17.drop(['body', 'body_color', 'body_color_original', 'co2_emission',\n",
        "                          'consumption', 'country_version', 'cylinders', 'displacement',\n",
        "                          'drive_chain', 'emission_class', 'emission_label', 'first_registration',\n",
        "                          'full_service', 'gearing_type', 'gears', 'inspection_new', 'inspection_new_city',\n",
        "                          'inspection_new_country', 'last_service_date', 'last_service_date_2', 'last_service_date_3',\n",
        "                          'model_code', 'next_inspection', 'non-smoking_vehicle', 'nr._of_doors', 'nr._of_seats',\n",
        "                          'offer_number', 'paint_type', 'upholstery', 'warranty', 'weight', 'description'], axis = 1)"
      ],
      "metadata": {
        "id": "wcMnTAXtjww0"
      },
      "execution_count": null,
      "outputs": []
    },
    {
      "cell_type": "code",
      "source": [
        "df_new18.describe(include='all')"
      ],
      "metadata": {
        "colab": {
          "base_uri": "https://localhost:8080/",
          "height": 466
        },
        "id": "zIaYzq_Ljw8q",
        "outputId": "9a70252d-bb3c-4620-cea2-203949c0f06e"
      },
      "execution_count": null,
      "outputs": [
        {
          "output_type": "execute_result",
          "data": {
            "text/plain": [
              "                                      comfort_convenience  \\\n",
              "count                                               14689   \n",
              "unique                                               6086   \n",
              "top     [Air conditioning, Electrical side mirrors, Hi...   \n",
              "freq                                                  211   \n",
              "mean                                                  NaN   \n",
              "std                                                   NaN   \n",
              "min                                                   NaN   \n",
              "25%                                                   NaN   \n",
              "50%                                                   NaN   \n",
              "75%                                                   NaN   \n",
              "max                                                   NaN   \n",
              "\n",
              "                                      entertainment_media          extras  \\\n",
              "count                                               14262           12708   \n",
              "unique                                                345             650   \n",
              "top     [Bluetooth, Hands-free equipment, On-board com...  [Alloy wheels]   \n",
              "freq                                                 1255            3188   \n",
              "mean                                                  NaN             NaN   \n",
              "std                                                   NaN             NaN   \n",
              "min                                                   NaN             NaN   \n",
              "25%                                                   NaN             NaN   \n",
              "50%                                                   NaN             NaN   \n",
              "75%                                                   NaN             NaN   \n",
              "max                                                   NaN             NaN   \n",
              "\n",
              "                                          safety_security  body_1  \\\n",
              "count                                               14626   15582   \n",
              "unique                                               4359       9   \n",
              "top     [ABS, Central door lock, Daytime running light...  Sedans   \n",
              "freq                                                  532    7794   \n",
              "mean                                                  NaN     NaN   \n",
              "std                                                   NaN     NaN   \n",
              "min                                                   NaN     NaN   \n",
              "25%                                                   NaN     NaN   \n",
              "50%                                                   NaN     NaN   \n",
              "75%                                                   NaN     NaN   \n",
              "max                                                   NaN     NaN   \n",
              "\n",
              "       body_color_1 body_color_original_1       co2_emission_1  \\\n",
              "count         14988                 11901                13205   \n",
              "unique           14                  1904                  121   \n",
              "top           Black          Onyx Schwarz  120 g CO2/km (comb)   \n",
              "freq           3682                   328                  716   \n",
              "mean            NaN                   NaN                  NaN   \n",
              "std             NaN                   NaN                  NaN   \n",
              "min             NaN                   NaN                  NaN   \n",
              "25%             NaN                   NaN                  NaN   \n",
              "50%             NaN                   NaN                  NaN   \n",
              "75%             NaN                   NaN                  NaN   \n",
              "max             NaN                   NaN                  NaN   \n",
              "\n",
              "              consumption_2      consumption_3           consumption_4  \\\n",
              "count                 13719              13719                   13719   \n",
              "unique                   80                 93                      64   \n",
              "top     5.4 l/100 km (comb)  5 l/100 km (city)  4.2 l/100 km (country)   \n",
              "freq                    741                654                    1144   \n",
              "mean                    NaN                NaN                     NaN   \n",
              "std                     NaN                NaN                     NaN   \n",
              "min                     NaN                NaN                     NaN   \n",
              "25%                     NaN                NaN                     NaN   \n",
              "50%                     NaN                NaN                     NaN   \n",
              "75%                     NaN                NaN                     NaN   \n",
              "max                     NaN                NaN                     NaN   \n",
              "\n",
              "       country_version_1 cylinders_1 displacement_1 drive_chain_1  \\\n",
              "count               7375       10038          15131          8862   \n",
              "unique                23           7             75             3   \n",
              "top              Germany           4       1,598 cc         front   \n",
              "freq                4355        7937           4713          8692   \n",
              "mean                 NaN         NaN            NaN           NaN   \n",
              "std                  NaN         NaN            NaN           NaN   \n",
              "min                  NaN         NaN            NaN           NaN   \n",
              "25%                  NaN         NaN            NaN           NaN   \n",
              "50%                  NaN         NaN            NaN           NaN   \n",
              "75%                  NaN         NaN            NaN           NaN   \n",
              "max                  NaN         NaN            NaN           NaN   \n",
              "\n",
              "       emission_class_1 emission_label_1 first_registration_1 fuel_type  \\\n",
              "count             12101             3887                14026     15583   \n",
              "unique                6                5                    4         4   \n",
              "top              Euro 6        4 (Green)                 2018   Benzine   \n",
              "freq              10024             3499                 4450      8345   \n",
              "mean                NaN              NaN                  NaN       NaN   \n",
              "std                 NaN              NaN                  NaN       NaN   \n",
              "min                 NaN              NaN                  NaN       NaN   \n",
              "25%                 NaN              NaN                  NaN       NaN   \n",
              "50%                 NaN              NaN                  NaN       NaN   \n",
              "75%                 NaN              NaN                  NaN       NaN   \n",
              "max                 NaN              NaN                  NaN       NaN   \n",
              "\n",
              "       full_service_type_3 gearing_type_1 gears_1 inspection_new_comb  \\\n",
              "count                 6147          15582   10959                3361   \n",
              "unique                  93              3      10                 129   \n",
              "top              4 (Green)         Manual       6              Euro 6   \n",
              "freq                  2204           8014    5673                 490   \n",
              "mean                   NaN            NaN     NaN                 NaN   \n",
              "std                    NaN            NaN     NaN                 NaN   \n",
              "min                    NaN            NaN     NaN                 NaN   \n",
              "25%                    NaN            NaN     NaN                 NaN   \n",
              "50%                    NaN            NaN     NaN                 NaN   \n",
              "75%                    NaN            NaN     NaN                 NaN   \n",
              "max                    NaN            NaN     NaN                 NaN   \n",
              "\n",
              "       inspection_new_done   make mileage_(km) model_code_1 model_type  \\\n",
              "count                 3793  15582        15582         4842      15582   \n",
              "unique                   1      3         6614          226          9   \n",
              "top                    Yes   Opel          10      0035/BCB         A3   \n",
              "freq                  3793   7194         1019          261       3061   \n",
              "mean                   NaN    NaN          NaN          NaN        NaN   \n",
              "std                    NaN    NaN          NaN          NaN        NaN   \n",
              "min                    NaN    NaN          NaN          NaN        NaN   \n",
              "25%                    NaN    NaN          NaN          NaN        NaN   \n",
              "50%                    NaN    NaN          NaN          NaN        NaN   \n",
              "75%                    NaN    NaN          NaN          NaN        NaN   \n",
              "max                    NaN    NaN          NaN          NaN        NaN   \n",
              "\n",
              "       next_inspection_date non-smoking_vehicle_3 nr._of_doors_1  \\\n",
              "count                  3433                  3428          15379   \n",
              "unique                   77                    81              6   \n",
              "top                 2021-06             4 (Green)              5   \n",
              "freq                    433                  1230          11308   \n",
              "mean                    NaN                   NaN            NaN   \n",
              "std                     NaN                   NaN            NaN   \n",
              "min                     NaN                   NaN            NaN   \n",
              "25%                     NaN                   NaN            NaN   \n",
              "50%                     NaN                   NaN            NaN   \n",
              "75%                     NaN                   NaN            NaN   \n",
              "max                     NaN                   NaN            NaN   \n",
              "\n",
              "       nr._of_seats_1 offer_number_1 paint_type_1  previous_owners  \\\n",
              "count           14677          12515         9975           9014.0   \n",
              "unique              6          11220            3             <NA>   \n",
              "top                 5        TA76392     Metallic             <NA>   \n",
              "freq            13111             27         9627             <NA>   \n",
              "mean              NaN            NaN          NaN         1.070668   \n",
              "std               NaN            NaN          NaN          0.32704   \n",
              "min               NaN            NaN          NaN              0.0   \n",
              "25%               NaN            NaN          NaN              1.0   \n",
              "50%               NaN            NaN          NaN              1.0   \n",
              "75%               NaN            NaN          NaN              1.0   \n",
              "max               NaN            NaN          NaN              4.0   \n",
              "\n",
              "       upholstery_3 upholstery_4 vehicle_type warranty_time warranty_type_2  \\\n",
              "count         11158        10608        15582          4770            2465   \n",
              "unique            6           16            5            41              93   \n",
              "top           Cloth        Black         Used     12 months          Euro 6   \n",
              "freq           8257         7524        10888          2554             614   \n",
              "mean            NaN          NaN          NaN           NaN             NaN   \n",
              "std             NaN          NaN          NaN           NaN             NaN   \n",
              "min             NaN          NaN          NaN           NaN             NaN   \n",
              "25%             NaN          NaN          NaN           NaN             NaN   \n",
              "50%             NaN          NaN          NaN           NaN             NaN   \n",
              "75%             NaN          NaN          NaN           NaN             NaN   \n",
              "max             NaN          NaN          NaN           NaN             NaN   \n",
              "\n",
              "       warranty_type_3 weight_1    weight_2 body_type hp_(kw)   make  model  \\\n",
              "count             4197     8801      8801.0     15582   15582  15582  15582   \n",
              "unique              92      433        <NA>         9      79      3      9   \n",
              "top             Euro 6    1163         <NA>    Sedans     85    Opel     A3   \n",
              "freq              1858      569        <NA>      7794    2511   7194   3061   \n",
              "mean               NaN      NaN  1351.36939       NaN     NaN    NaN    NaN   \n",
              "std                NaN      NaN  220.819426       NaN     NaN    NaN    NaN   \n",
              "min                NaN      NaN         1.0       NaN     NaN    NaN    NaN   \n",
              "25%                NaN      NaN      1167.0       NaN     NaN    NaN    NaN   \n",
              "50%                NaN      NaN      1288.0       NaN     NaN    NaN    NaN   \n",
              "75%                NaN      NaN      1487.0       NaN     NaN    NaN    NaN   \n",
              "max                NaN      NaN      2471.0       NaN     NaN    NaN    NaN   \n",
              "\n",
              "               price registration                  short_description  \\\n",
              "count   15582.000000        14026                              15582   \n",
              "unique           NaN           47                               9820   \n",
              "top              NaN      2018-03  SPB 1.6 TDI 116 CV S tronic Sport   \n",
              "freq             NaN          687                                 64   \n",
              "mean    17967.031254          NaN                                NaN   \n",
              "std      7346.733274          NaN                                NaN   \n",
              "min        13.000000          NaN                                NaN   \n",
              "25%     12799.250000          NaN                                NaN   \n",
              "50%     16890.000000          NaN                                NaN   \n",
              "75%     21900.000000          NaN                                NaN   \n",
              "max     74600.000000          NaN                                NaN   \n",
              "\n",
              "                   vat fule_type  \n",
              "count            11163      3217  \n",
              "unique               2         1  \n",
              "top     VAT deductible   Benzine  \n",
              "freq             10751      3217  \n",
              "mean               NaN       NaN  \n",
              "std                NaN       NaN  \n",
              "min                NaN       NaN  \n",
              "25%                NaN       NaN  \n",
              "50%                NaN       NaN  \n",
              "75%                NaN       NaN  \n",
              "max                NaN       NaN  "
            ],
            "text/html": [
              "\n",
              "  <div id=\"df-32b301b5-d280-4c51-95c8-699ce8cab2a2\" class=\"colab-df-container\">\n",
              "    <div>\n",
              "<style scoped>\n",
              "    .dataframe tbody tr th:only-of-type {\n",
              "        vertical-align: middle;\n",
              "    }\n",
              "\n",
              "    .dataframe tbody tr th {\n",
              "        vertical-align: top;\n",
              "    }\n",
              "\n",
              "    .dataframe thead th {\n",
              "        text-align: right;\n",
              "    }\n",
              "</style>\n",
              "<table border=\"1\" class=\"dataframe\">\n",
              "  <thead>\n",
              "    <tr style=\"text-align: right;\">\n",
              "      <th></th>\n",
              "      <th>comfort_convenience</th>\n",
              "      <th>entertainment_media</th>\n",
              "      <th>extras</th>\n",
              "      <th>safety_security</th>\n",
              "      <th>body_1</th>\n",
              "      <th>body_color_1</th>\n",
              "      <th>body_color_original_1</th>\n",
              "      <th>co2_emission_1</th>\n",
              "      <th>consumption_2</th>\n",
              "      <th>consumption_3</th>\n",
              "      <th>consumption_4</th>\n",
              "      <th>country_version_1</th>\n",
              "      <th>cylinders_1</th>\n",
              "      <th>displacement_1</th>\n",
              "      <th>drive_chain_1</th>\n",
              "      <th>emission_class_1</th>\n",
              "      <th>emission_label_1</th>\n",
              "      <th>first_registration_1</th>\n",
              "      <th>fuel_type</th>\n",
              "      <th>full_service_type_3</th>\n",
              "      <th>gearing_type_1</th>\n",
              "      <th>gears_1</th>\n",
              "      <th>inspection_new_comb</th>\n",
              "      <th>inspection_new_done</th>\n",
              "      <th>make</th>\n",
              "      <th>mileage_(km)</th>\n",
              "      <th>model_code_1</th>\n",
              "      <th>model_type</th>\n",
              "      <th>next_inspection_date</th>\n",
              "      <th>non-smoking_vehicle_3</th>\n",
              "      <th>nr._of_doors_1</th>\n",
              "      <th>nr._of_seats_1</th>\n",
              "      <th>offer_number_1</th>\n",
              "      <th>paint_type_1</th>\n",
              "      <th>previous_owners</th>\n",
              "      <th>upholstery_3</th>\n",
              "      <th>upholstery_4</th>\n",
              "      <th>vehicle_type</th>\n",
              "      <th>warranty_time</th>\n",
              "      <th>warranty_type_2</th>\n",
              "      <th>warranty_type_3</th>\n",
              "      <th>weight_1</th>\n",
              "      <th>weight_2</th>\n",
              "      <th>body_type</th>\n",
              "      <th>hp_(kw)</th>\n",
              "      <th>make</th>\n",
              "      <th>model</th>\n",
              "      <th>price</th>\n",
              "      <th>registration</th>\n",
              "      <th>short_description</th>\n",
              "      <th>vat</th>\n",
              "      <th>fule_type</th>\n",
              "    </tr>\n",
              "  </thead>\n",
              "  <tbody>\n",
              "    <tr>\n",
              "      <th>count</th>\n",
              "      <td>14689</td>\n",
              "      <td>14262</td>\n",
              "      <td>12708</td>\n",
              "      <td>14626</td>\n",
              "      <td>15582</td>\n",
              "      <td>14988</td>\n",
              "      <td>11901</td>\n",
              "      <td>13205</td>\n",
              "      <td>13719</td>\n",
              "      <td>13719</td>\n",
              "      <td>13719</td>\n",
              "      <td>7375</td>\n",
              "      <td>10038</td>\n",
              "      <td>15131</td>\n",
              "      <td>8862</td>\n",
              "      <td>12101</td>\n",
              "      <td>3887</td>\n",
              "      <td>14026</td>\n",
              "      <td>15583</td>\n",
              "      <td>6147</td>\n",
              "      <td>15582</td>\n",
              "      <td>10959</td>\n",
              "      <td>3361</td>\n",
              "      <td>3793</td>\n",
              "      <td>15582</td>\n",
              "      <td>15582</td>\n",
              "      <td>4842</td>\n",
              "      <td>15582</td>\n",
              "      <td>3433</td>\n",
              "      <td>3428</td>\n",
              "      <td>15379</td>\n",
              "      <td>14677</td>\n",
              "      <td>12515</td>\n",
              "      <td>9975</td>\n",
              "      <td>9014.0</td>\n",
              "      <td>11158</td>\n",
              "      <td>10608</td>\n",
              "      <td>15582</td>\n",
              "      <td>4770</td>\n",
              "      <td>2465</td>\n",
              "      <td>4197</td>\n",
              "      <td>8801</td>\n",
              "      <td>8801.0</td>\n",
              "      <td>15582</td>\n",
              "      <td>15582</td>\n",
              "      <td>15582</td>\n",
              "      <td>15582</td>\n",
              "      <td>15582.000000</td>\n",
              "      <td>14026</td>\n",
              "      <td>15582</td>\n",
              "      <td>11163</td>\n",
              "      <td>3217</td>\n",
              "    </tr>\n",
              "    <tr>\n",
              "      <th>unique</th>\n",
              "      <td>6086</td>\n",
              "      <td>345</td>\n",
              "      <td>650</td>\n",
              "      <td>4359</td>\n",
              "      <td>9</td>\n",
              "      <td>14</td>\n",
              "      <td>1904</td>\n",
              "      <td>121</td>\n",
              "      <td>80</td>\n",
              "      <td>93</td>\n",
              "      <td>64</td>\n",
              "      <td>23</td>\n",
              "      <td>7</td>\n",
              "      <td>75</td>\n",
              "      <td>3</td>\n",
              "      <td>6</td>\n",
              "      <td>5</td>\n",
              "      <td>4</td>\n",
              "      <td>4</td>\n",
              "      <td>93</td>\n",
              "      <td>3</td>\n",
              "      <td>10</td>\n",
              "      <td>129</td>\n",
              "      <td>1</td>\n",
              "      <td>3</td>\n",
              "      <td>6614</td>\n",
              "      <td>226</td>\n",
              "      <td>9</td>\n",
              "      <td>77</td>\n",
              "      <td>81</td>\n",
              "      <td>6</td>\n",
              "      <td>6</td>\n",
              "      <td>11220</td>\n",
              "      <td>3</td>\n",
              "      <td>&lt;NA&gt;</td>\n",
              "      <td>6</td>\n",
              "      <td>16</td>\n",
              "      <td>5</td>\n",
              "      <td>41</td>\n",
              "      <td>93</td>\n",
              "      <td>92</td>\n",
              "      <td>433</td>\n",
              "      <td>&lt;NA&gt;</td>\n",
              "      <td>9</td>\n",
              "      <td>79</td>\n",
              "      <td>3</td>\n",
              "      <td>9</td>\n",
              "      <td>NaN</td>\n",
              "      <td>47</td>\n",
              "      <td>9820</td>\n",
              "      <td>2</td>\n",
              "      <td>1</td>\n",
              "    </tr>\n",
              "    <tr>\n",
              "      <th>top</th>\n",
              "      <td>[Air conditioning, Electrical side mirrors, Hi...</td>\n",
              "      <td>[Bluetooth, Hands-free equipment, On-board com...</td>\n",
              "      <td>[Alloy wheels]</td>\n",
              "      <td>[ABS, Central door lock, Daytime running light...</td>\n",
              "      <td>Sedans</td>\n",
              "      <td>Black</td>\n",
              "      <td>Onyx Schwarz</td>\n",
              "      <td>120 g CO2/km (comb)</td>\n",
              "      <td>5.4 l/100 km (comb)</td>\n",
              "      <td>5 l/100 km (city)</td>\n",
              "      <td>4.2 l/100 km (country)</td>\n",
              "      <td>Germany</td>\n",
              "      <td>4</td>\n",
              "      <td>1,598 cc</td>\n",
              "      <td>front</td>\n",
              "      <td>Euro 6</td>\n",
              "      <td>4 (Green)</td>\n",
              "      <td>2018</td>\n",
              "      <td>Benzine</td>\n",
              "      <td>4 (Green)</td>\n",
              "      <td>Manual</td>\n",
              "      <td>6</td>\n",
              "      <td>Euro 6</td>\n",
              "      <td>Yes</td>\n",
              "      <td>Opel</td>\n",
              "      <td>10</td>\n",
              "      <td>0035/BCB</td>\n",
              "      <td>A3</td>\n",
              "      <td>2021-06</td>\n",
              "      <td>4 (Green)</td>\n",
              "      <td>5</td>\n",
              "      <td>5</td>\n",
              "      <td>TA76392</td>\n",
              "      <td>Metallic</td>\n",
              "      <td>&lt;NA&gt;</td>\n",
              "      <td>Cloth</td>\n",
              "      <td>Black</td>\n",
              "      <td>Used</td>\n",
              "      <td>12 months</td>\n",
              "      <td>Euro 6</td>\n",
              "      <td>Euro 6</td>\n",
              "      <td>1163</td>\n",
              "      <td>&lt;NA&gt;</td>\n",
              "      <td>Sedans</td>\n",
              "      <td>85</td>\n",
              "      <td>Opel</td>\n",
              "      <td>A3</td>\n",
              "      <td>NaN</td>\n",
              "      <td>2018-03</td>\n",
              "      <td>SPB 1.6 TDI 116 CV S tronic Sport</td>\n",
              "      <td>VAT deductible</td>\n",
              "      <td>Benzine</td>\n",
              "    </tr>\n",
              "    <tr>\n",
              "      <th>freq</th>\n",
              "      <td>211</td>\n",
              "      <td>1255</td>\n",
              "      <td>3188</td>\n",
              "      <td>532</td>\n",
              "      <td>7794</td>\n",
              "      <td>3682</td>\n",
              "      <td>328</td>\n",
              "      <td>716</td>\n",
              "      <td>741</td>\n",
              "      <td>654</td>\n",
              "      <td>1144</td>\n",
              "      <td>4355</td>\n",
              "      <td>7937</td>\n",
              "      <td>4713</td>\n",
              "      <td>8692</td>\n",
              "      <td>10024</td>\n",
              "      <td>3499</td>\n",
              "      <td>4450</td>\n",
              "      <td>8345</td>\n",
              "      <td>2204</td>\n",
              "      <td>8014</td>\n",
              "      <td>5673</td>\n",
              "      <td>490</td>\n",
              "      <td>3793</td>\n",
              "      <td>7194</td>\n",
              "      <td>1019</td>\n",
              "      <td>261</td>\n",
              "      <td>3061</td>\n",
              "      <td>433</td>\n",
              "      <td>1230</td>\n",
              "      <td>11308</td>\n",
              "      <td>13111</td>\n",
              "      <td>27</td>\n",
              "      <td>9627</td>\n",
              "      <td>&lt;NA&gt;</td>\n",
              "      <td>8257</td>\n",
              "      <td>7524</td>\n",
              "      <td>10888</td>\n",
              "      <td>2554</td>\n",
              "      <td>614</td>\n",
              "      <td>1858</td>\n",
              "      <td>569</td>\n",
              "      <td>&lt;NA&gt;</td>\n",
              "      <td>7794</td>\n",
              "      <td>2511</td>\n",
              "      <td>7194</td>\n",
              "      <td>3061</td>\n",
              "      <td>NaN</td>\n",
              "      <td>687</td>\n",
              "      <td>64</td>\n",
              "      <td>10751</td>\n",
              "      <td>3217</td>\n",
              "    </tr>\n",
              "    <tr>\n",
              "      <th>mean</th>\n",
              "      <td>NaN</td>\n",
              "      <td>NaN</td>\n",
              "      <td>NaN</td>\n",
              "      <td>NaN</td>\n",
              "      <td>NaN</td>\n",
              "      <td>NaN</td>\n",
              "      <td>NaN</td>\n",
              "      <td>NaN</td>\n",
              "      <td>NaN</td>\n",
              "      <td>NaN</td>\n",
              "      <td>NaN</td>\n",
              "      <td>NaN</td>\n",
              "      <td>NaN</td>\n",
              "      <td>NaN</td>\n",
              "      <td>NaN</td>\n",
              "      <td>NaN</td>\n",
              "      <td>NaN</td>\n",
              "      <td>NaN</td>\n",
              "      <td>NaN</td>\n",
              "      <td>NaN</td>\n",
              "      <td>NaN</td>\n",
              "      <td>NaN</td>\n",
              "      <td>NaN</td>\n",
              "      <td>NaN</td>\n",
              "      <td>NaN</td>\n",
              "      <td>NaN</td>\n",
              "      <td>NaN</td>\n",
              "      <td>NaN</td>\n",
              "      <td>NaN</td>\n",
              "      <td>NaN</td>\n",
              "      <td>NaN</td>\n",
              "      <td>NaN</td>\n",
              "      <td>NaN</td>\n",
              "      <td>NaN</td>\n",
              "      <td>1.070668</td>\n",
              "      <td>NaN</td>\n",
              "      <td>NaN</td>\n",
              "      <td>NaN</td>\n",
              "      <td>NaN</td>\n",
              "      <td>NaN</td>\n",
              "      <td>NaN</td>\n",
              "      <td>NaN</td>\n",
              "      <td>1351.36939</td>\n",
              "      <td>NaN</td>\n",
              "      <td>NaN</td>\n",
              "      <td>NaN</td>\n",
              "      <td>NaN</td>\n",
              "      <td>17967.031254</td>\n",
              "      <td>NaN</td>\n",
              "      <td>NaN</td>\n",
              "      <td>NaN</td>\n",
              "      <td>NaN</td>\n",
              "    </tr>\n",
              "    <tr>\n",
              "      <th>std</th>\n",
              "      <td>NaN</td>\n",
              "      <td>NaN</td>\n",
              "      <td>NaN</td>\n",
              "      <td>NaN</td>\n",
              "      <td>NaN</td>\n",
              "      <td>NaN</td>\n",
              "      <td>NaN</td>\n",
              "      <td>NaN</td>\n",
              "      <td>NaN</td>\n",
              "      <td>NaN</td>\n",
              "      <td>NaN</td>\n",
              "      <td>NaN</td>\n",
              "      <td>NaN</td>\n",
              "      <td>NaN</td>\n",
              "      <td>NaN</td>\n",
              "      <td>NaN</td>\n",
              "      <td>NaN</td>\n",
              "      <td>NaN</td>\n",
              "      <td>NaN</td>\n",
              "      <td>NaN</td>\n",
              "      <td>NaN</td>\n",
              "      <td>NaN</td>\n",
              "      <td>NaN</td>\n",
              "      <td>NaN</td>\n",
              "      <td>NaN</td>\n",
              "      <td>NaN</td>\n",
              "      <td>NaN</td>\n",
              "      <td>NaN</td>\n",
              "      <td>NaN</td>\n",
              "      <td>NaN</td>\n",
              "      <td>NaN</td>\n",
              "      <td>NaN</td>\n",
              "      <td>NaN</td>\n",
              "      <td>NaN</td>\n",
              "      <td>0.32704</td>\n",
              "      <td>NaN</td>\n",
              "      <td>NaN</td>\n",
              "      <td>NaN</td>\n",
              "      <td>NaN</td>\n",
              "      <td>NaN</td>\n",
              "      <td>NaN</td>\n",
              "      <td>NaN</td>\n",
              "      <td>220.819426</td>\n",
              "      <td>NaN</td>\n",
              "      <td>NaN</td>\n",
              "      <td>NaN</td>\n",
              "      <td>NaN</td>\n",
              "      <td>7346.733274</td>\n",
              "      <td>NaN</td>\n",
              "      <td>NaN</td>\n",
              "      <td>NaN</td>\n",
              "      <td>NaN</td>\n",
              "    </tr>\n",
              "    <tr>\n",
              "      <th>min</th>\n",
              "      <td>NaN</td>\n",
              "      <td>NaN</td>\n",
              "      <td>NaN</td>\n",
              "      <td>NaN</td>\n",
              "      <td>NaN</td>\n",
              "      <td>NaN</td>\n",
              "      <td>NaN</td>\n",
              "      <td>NaN</td>\n",
              "      <td>NaN</td>\n",
              "      <td>NaN</td>\n",
              "      <td>NaN</td>\n",
              "      <td>NaN</td>\n",
              "      <td>NaN</td>\n",
              "      <td>NaN</td>\n",
              "      <td>NaN</td>\n",
              "      <td>NaN</td>\n",
              "      <td>NaN</td>\n",
              "      <td>NaN</td>\n",
              "      <td>NaN</td>\n",
              "      <td>NaN</td>\n",
              "      <td>NaN</td>\n",
              "      <td>NaN</td>\n",
              "      <td>NaN</td>\n",
              "      <td>NaN</td>\n",
              "      <td>NaN</td>\n",
              "      <td>NaN</td>\n",
              "      <td>NaN</td>\n",
              "      <td>NaN</td>\n",
              "      <td>NaN</td>\n",
              "      <td>NaN</td>\n",
              "      <td>NaN</td>\n",
              "      <td>NaN</td>\n",
              "      <td>NaN</td>\n",
              "      <td>NaN</td>\n",
              "      <td>0.0</td>\n",
              "      <td>NaN</td>\n",
              "      <td>NaN</td>\n",
              "      <td>NaN</td>\n",
              "      <td>NaN</td>\n",
              "      <td>NaN</td>\n",
              "      <td>NaN</td>\n",
              "      <td>NaN</td>\n",
              "      <td>1.0</td>\n",
              "      <td>NaN</td>\n",
              "      <td>NaN</td>\n",
              "      <td>NaN</td>\n",
              "      <td>NaN</td>\n",
              "      <td>13.000000</td>\n",
              "      <td>NaN</td>\n",
              "      <td>NaN</td>\n",
              "      <td>NaN</td>\n",
              "      <td>NaN</td>\n",
              "    </tr>\n",
              "    <tr>\n",
              "      <th>25%</th>\n",
              "      <td>NaN</td>\n",
              "      <td>NaN</td>\n",
              "      <td>NaN</td>\n",
              "      <td>NaN</td>\n",
              "      <td>NaN</td>\n",
              "      <td>NaN</td>\n",
              "      <td>NaN</td>\n",
              "      <td>NaN</td>\n",
              "      <td>NaN</td>\n",
              "      <td>NaN</td>\n",
              "      <td>NaN</td>\n",
              "      <td>NaN</td>\n",
              "      <td>NaN</td>\n",
              "      <td>NaN</td>\n",
              "      <td>NaN</td>\n",
              "      <td>NaN</td>\n",
              "      <td>NaN</td>\n",
              "      <td>NaN</td>\n",
              "      <td>NaN</td>\n",
              "      <td>NaN</td>\n",
              "      <td>NaN</td>\n",
              "      <td>NaN</td>\n",
              "      <td>NaN</td>\n",
              "      <td>NaN</td>\n",
              "      <td>NaN</td>\n",
              "      <td>NaN</td>\n",
              "      <td>NaN</td>\n",
              "      <td>NaN</td>\n",
              "      <td>NaN</td>\n",
              "      <td>NaN</td>\n",
              "      <td>NaN</td>\n",
              "      <td>NaN</td>\n",
              "      <td>NaN</td>\n",
              "      <td>NaN</td>\n",
              "      <td>1.0</td>\n",
              "      <td>NaN</td>\n",
              "      <td>NaN</td>\n",
              "      <td>NaN</td>\n",
              "      <td>NaN</td>\n",
              "      <td>NaN</td>\n",
              "      <td>NaN</td>\n",
              "      <td>NaN</td>\n",
              "      <td>1167.0</td>\n",
              "      <td>NaN</td>\n",
              "      <td>NaN</td>\n",
              "      <td>NaN</td>\n",
              "      <td>NaN</td>\n",
              "      <td>12799.250000</td>\n",
              "      <td>NaN</td>\n",
              "      <td>NaN</td>\n",
              "      <td>NaN</td>\n",
              "      <td>NaN</td>\n",
              "    </tr>\n",
              "    <tr>\n",
              "      <th>50%</th>\n",
              "      <td>NaN</td>\n",
              "      <td>NaN</td>\n",
              "      <td>NaN</td>\n",
              "      <td>NaN</td>\n",
              "      <td>NaN</td>\n",
              "      <td>NaN</td>\n",
              "      <td>NaN</td>\n",
              "      <td>NaN</td>\n",
              "      <td>NaN</td>\n",
              "      <td>NaN</td>\n",
              "      <td>NaN</td>\n",
              "      <td>NaN</td>\n",
              "      <td>NaN</td>\n",
              "      <td>NaN</td>\n",
              "      <td>NaN</td>\n",
              "      <td>NaN</td>\n",
              "      <td>NaN</td>\n",
              "      <td>NaN</td>\n",
              "      <td>NaN</td>\n",
              "      <td>NaN</td>\n",
              "      <td>NaN</td>\n",
              "      <td>NaN</td>\n",
              "      <td>NaN</td>\n",
              "      <td>NaN</td>\n",
              "      <td>NaN</td>\n",
              "      <td>NaN</td>\n",
              "      <td>NaN</td>\n",
              "      <td>NaN</td>\n",
              "      <td>NaN</td>\n",
              "      <td>NaN</td>\n",
              "      <td>NaN</td>\n",
              "      <td>NaN</td>\n",
              "      <td>NaN</td>\n",
              "      <td>NaN</td>\n",
              "      <td>1.0</td>\n",
              "      <td>NaN</td>\n",
              "      <td>NaN</td>\n",
              "      <td>NaN</td>\n",
              "      <td>NaN</td>\n",
              "      <td>NaN</td>\n",
              "      <td>NaN</td>\n",
              "      <td>NaN</td>\n",
              "      <td>1288.0</td>\n",
              "      <td>NaN</td>\n",
              "      <td>NaN</td>\n",
              "      <td>NaN</td>\n",
              "      <td>NaN</td>\n",
              "      <td>16890.000000</td>\n",
              "      <td>NaN</td>\n",
              "      <td>NaN</td>\n",
              "      <td>NaN</td>\n",
              "      <td>NaN</td>\n",
              "    </tr>\n",
              "    <tr>\n",
              "      <th>75%</th>\n",
              "      <td>NaN</td>\n",
              "      <td>NaN</td>\n",
              "      <td>NaN</td>\n",
              "      <td>NaN</td>\n",
              "      <td>NaN</td>\n",
              "      <td>NaN</td>\n",
              "      <td>NaN</td>\n",
              "      <td>NaN</td>\n",
              "      <td>NaN</td>\n",
              "      <td>NaN</td>\n",
              "      <td>NaN</td>\n",
              "      <td>NaN</td>\n",
              "      <td>NaN</td>\n",
              "      <td>NaN</td>\n",
              "      <td>NaN</td>\n",
              "      <td>NaN</td>\n",
              "      <td>NaN</td>\n",
              "      <td>NaN</td>\n",
              "      <td>NaN</td>\n",
              "      <td>NaN</td>\n",
              "      <td>NaN</td>\n",
              "      <td>NaN</td>\n",
              "      <td>NaN</td>\n",
              "      <td>NaN</td>\n",
              "      <td>NaN</td>\n",
              "      <td>NaN</td>\n",
              "      <td>NaN</td>\n",
              "      <td>NaN</td>\n",
              "      <td>NaN</td>\n",
              "      <td>NaN</td>\n",
              "      <td>NaN</td>\n",
              "      <td>NaN</td>\n",
              "      <td>NaN</td>\n",
              "      <td>NaN</td>\n",
              "      <td>1.0</td>\n",
              "      <td>NaN</td>\n",
              "      <td>NaN</td>\n",
              "      <td>NaN</td>\n",
              "      <td>NaN</td>\n",
              "      <td>NaN</td>\n",
              "      <td>NaN</td>\n",
              "      <td>NaN</td>\n",
              "      <td>1487.0</td>\n",
              "      <td>NaN</td>\n",
              "      <td>NaN</td>\n",
              "      <td>NaN</td>\n",
              "      <td>NaN</td>\n",
              "      <td>21900.000000</td>\n",
              "      <td>NaN</td>\n",
              "      <td>NaN</td>\n",
              "      <td>NaN</td>\n",
              "      <td>NaN</td>\n",
              "    </tr>\n",
              "    <tr>\n",
              "      <th>max</th>\n",
              "      <td>NaN</td>\n",
              "      <td>NaN</td>\n",
              "      <td>NaN</td>\n",
              "      <td>NaN</td>\n",
              "      <td>NaN</td>\n",
              "      <td>NaN</td>\n",
              "      <td>NaN</td>\n",
              "      <td>NaN</td>\n",
              "      <td>NaN</td>\n",
              "      <td>NaN</td>\n",
              "      <td>NaN</td>\n",
              "      <td>NaN</td>\n",
              "      <td>NaN</td>\n",
              "      <td>NaN</td>\n",
              "      <td>NaN</td>\n",
              "      <td>NaN</td>\n",
              "      <td>NaN</td>\n",
              "      <td>NaN</td>\n",
              "      <td>NaN</td>\n",
              "      <td>NaN</td>\n",
              "      <td>NaN</td>\n",
              "      <td>NaN</td>\n",
              "      <td>NaN</td>\n",
              "      <td>NaN</td>\n",
              "      <td>NaN</td>\n",
              "      <td>NaN</td>\n",
              "      <td>NaN</td>\n",
              "      <td>NaN</td>\n",
              "      <td>NaN</td>\n",
              "      <td>NaN</td>\n",
              "      <td>NaN</td>\n",
              "      <td>NaN</td>\n",
              "      <td>NaN</td>\n",
              "      <td>NaN</td>\n",
              "      <td>4.0</td>\n",
              "      <td>NaN</td>\n",
              "      <td>NaN</td>\n",
              "      <td>NaN</td>\n",
              "      <td>NaN</td>\n",
              "      <td>NaN</td>\n",
              "      <td>NaN</td>\n",
              "      <td>NaN</td>\n",
              "      <td>2471.0</td>\n",
              "      <td>NaN</td>\n",
              "      <td>NaN</td>\n",
              "      <td>NaN</td>\n",
              "      <td>NaN</td>\n",
              "      <td>74600.000000</td>\n",
              "      <td>NaN</td>\n",
              "      <td>NaN</td>\n",
              "      <td>NaN</td>\n",
              "      <td>NaN</td>\n",
              "    </tr>\n",
              "  </tbody>\n",
              "</table>\n",
              "</div>\n",
              "    <div class=\"colab-df-buttons\">\n",
              "\n",
              "  <div class=\"colab-df-container\">\n",
              "    <button class=\"colab-df-convert\" onclick=\"convertToInteractive('df-32b301b5-d280-4c51-95c8-699ce8cab2a2')\"\n",
              "            title=\"Convert this dataframe to an interactive table.\"\n",
              "            style=\"display:none;\">\n",
              "\n",
              "  <svg xmlns=\"http://www.w3.org/2000/svg\" height=\"24px\" viewBox=\"0 -960 960 960\">\n",
              "    <path d=\"M120-120v-720h720v720H120Zm60-500h600v-160H180v160Zm220 220h160v-160H400v160Zm0 220h160v-160H400v160ZM180-400h160v-160H180v160Zm440 0h160v-160H620v160ZM180-180h160v-160H180v160Zm440 0h160v-160H620v160Z\"/>\n",
              "  </svg>\n",
              "    </button>\n",
              "\n",
              "  <style>\n",
              "    .colab-df-container {\n",
              "      display:flex;\n",
              "      gap: 12px;\n",
              "    }\n",
              "\n",
              "    .colab-df-convert {\n",
              "      background-color: #E8F0FE;\n",
              "      border: none;\n",
              "      border-radius: 50%;\n",
              "      cursor: pointer;\n",
              "      display: none;\n",
              "      fill: #1967D2;\n",
              "      height: 32px;\n",
              "      padding: 0 0 0 0;\n",
              "      width: 32px;\n",
              "    }\n",
              "\n",
              "    .colab-df-convert:hover {\n",
              "      background-color: #E2EBFA;\n",
              "      box-shadow: 0px 1px 2px rgba(60, 64, 67, 0.3), 0px 1px 3px 1px rgba(60, 64, 67, 0.15);\n",
              "      fill: #174EA6;\n",
              "    }\n",
              "\n",
              "    .colab-df-buttons div {\n",
              "      margin-bottom: 4px;\n",
              "    }\n",
              "\n",
              "    [theme=dark] .colab-df-convert {\n",
              "      background-color: #3B4455;\n",
              "      fill: #D2E3FC;\n",
              "    }\n",
              "\n",
              "    [theme=dark] .colab-df-convert:hover {\n",
              "      background-color: #434B5C;\n",
              "      box-shadow: 0px 1px 3px 1px rgba(0, 0, 0, 0.15);\n",
              "      filter: drop-shadow(0px 1px 2px rgba(0, 0, 0, 0.3));\n",
              "      fill: #FFFFFF;\n",
              "    }\n",
              "  </style>\n",
              "\n",
              "    <script>\n",
              "      const buttonEl =\n",
              "        document.querySelector('#df-32b301b5-d280-4c51-95c8-699ce8cab2a2 button.colab-df-convert');\n",
              "      buttonEl.style.display =\n",
              "        google.colab.kernel.accessAllowed ? 'block' : 'none';\n",
              "\n",
              "      async function convertToInteractive(key) {\n",
              "        const element = document.querySelector('#df-32b301b5-d280-4c51-95c8-699ce8cab2a2');\n",
              "        const dataTable =\n",
              "          await google.colab.kernel.invokeFunction('convertToInteractive',\n",
              "                                                    [key], {});\n",
              "        if (!dataTable) return;\n",
              "\n",
              "        const docLinkHtml = 'Like what you see? Visit the ' +\n",
              "          '<a target=\"_blank\" href=https://colab.research.google.com/notebooks/data_table.ipynb>data table notebook</a>'\n",
              "          + ' to learn more about interactive tables.';\n",
              "        element.innerHTML = '';\n",
              "        dataTable['output_type'] = 'display_data';\n",
              "        await google.colab.output.renderOutput(dataTable, element);\n",
              "        const docLink = document.createElement('div');\n",
              "        docLink.innerHTML = docLinkHtml;\n",
              "        element.appendChild(docLink);\n",
              "      }\n",
              "    </script>\n",
              "  </div>\n",
              "\n",
              "\n",
              "    <div id=\"df-4708c407-c448-4fc0-8095-67f589a3bd94\">\n",
              "      <button class=\"colab-df-quickchart\" onclick=\"quickchart('df-4708c407-c448-4fc0-8095-67f589a3bd94')\"\n",
              "                title=\"Suggest charts\"\n",
              "                style=\"display:none;\">\n",
              "\n",
              "<svg xmlns=\"http://www.w3.org/2000/svg\" height=\"24px\"viewBox=\"0 0 24 24\"\n",
              "     width=\"24px\">\n",
              "    <g>\n",
              "        <path d=\"M19 3H5c-1.1 0-2 .9-2 2v14c0 1.1.9 2 2 2h14c1.1 0 2-.9 2-2V5c0-1.1-.9-2-2-2zM9 17H7v-7h2v7zm4 0h-2V7h2v10zm4 0h-2v-4h2v4z\"/>\n",
              "    </g>\n",
              "</svg>\n",
              "      </button>\n",
              "\n",
              "<style>\n",
              "  .colab-df-quickchart {\n",
              "      --bg-color: #E8F0FE;\n",
              "      --fill-color: #1967D2;\n",
              "      --hover-bg-color: #E2EBFA;\n",
              "      --hover-fill-color: #174EA6;\n",
              "      --disabled-fill-color: #AAA;\n",
              "      --disabled-bg-color: #DDD;\n",
              "  }\n",
              "\n",
              "  [theme=dark] .colab-df-quickchart {\n",
              "      --bg-color: #3B4455;\n",
              "      --fill-color: #D2E3FC;\n",
              "      --hover-bg-color: #434B5C;\n",
              "      --hover-fill-color: #FFFFFF;\n",
              "      --disabled-bg-color: #3B4455;\n",
              "      --disabled-fill-color: #666;\n",
              "  }\n",
              "\n",
              "  .colab-df-quickchart {\n",
              "    background-color: var(--bg-color);\n",
              "    border: none;\n",
              "    border-radius: 50%;\n",
              "    cursor: pointer;\n",
              "    display: none;\n",
              "    fill: var(--fill-color);\n",
              "    height: 32px;\n",
              "    padding: 0;\n",
              "    width: 32px;\n",
              "  }\n",
              "\n",
              "  .colab-df-quickchart:hover {\n",
              "    background-color: var(--hover-bg-color);\n",
              "    box-shadow: 0 1px 2px rgba(60, 64, 67, 0.3), 0 1px 3px 1px rgba(60, 64, 67, 0.15);\n",
              "    fill: var(--button-hover-fill-color);\n",
              "  }\n",
              "\n",
              "  .colab-df-quickchart-complete:disabled,\n",
              "  .colab-df-quickchart-complete:disabled:hover {\n",
              "    background-color: var(--disabled-bg-color);\n",
              "    fill: var(--disabled-fill-color);\n",
              "    box-shadow: none;\n",
              "  }\n",
              "\n",
              "  .colab-df-spinner {\n",
              "    border: 2px solid var(--fill-color);\n",
              "    border-color: transparent;\n",
              "    border-bottom-color: var(--fill-color);\n",
              "    animation:\n",
              "      spin 1s steps(1) infinite;\n",
              "  }\n",
              "\n",
              "  @keyframes spin {\n",
              "    0% {\n",
              "      border-color: transparent;\n",
              "      border-bottom-color: var(--fill-color);\n",
              "      border-left-color: var(--fill-color);\n",
              "    }\n",
              "    20% {\n",
              "      border-color: transparent;\n",
              "      border-left-color: var(--fill-color);\n",
              "      border-top-color: var(--fill-color);\n",
              "    }\n",
              "    30% {\n",
              "      border-color: transparent;\n",
              "      border-left-color: var(--fill-color);\n",
              "      border-top-color: var(--fill-color);\n",
              "      border-right-color: var(--fill-color);\n",
              "    }\n",
              "    40% {\n",
              "      border-color: transparent;\n",
              "      border-right-color: var(--fill-color);\n",
              "      border-top-color: var(--fill-color);\n",
              "    }\n",
              "    60% {\n",
              "      border-color: transparent;\n",
              "      border-right-color: var(--fill-color);\n",
              "    }\n",
              "    80% {\n",
              "      border-color: transparent;\n",
              "      border-right-color: var(--fill-color);\n",
              "      border-bottom-color: var(--fill-color);\n",
              "    }\n",
              "    90% {\n",
              "      border-color: transparent;\n",
              "      border-bottom-color: var(--fill-color);\n",
              "    }\n",
              "  }\n",
              "</style>\n",
              "\n",
              "      <script>\n",
              "        async function quickchart(key) {\n",
              "          const quickchartButtonEl =\n",
              "            document.querySelector('#' + key + ' button');\n",
              "          quickchartButtonEl.disabled = true;  // To prevent multiple clicks.\n",
              "          quickchartButtonEl.classList.add('colab-df-spinner');\n",
              "          try {\n",
              "            const charts = await google.colab.kernel.invokeFunction(\n",
              "                'suggestCharts', [key], {});\n",
              "          } catch (error) {\n",
              "            console.error('Error during call to suggestCharts:', error);\n",
              "          }\n",
              "          quickchartButtonEl.classList.remove('colab-df-spinner');\n",
              "          quickchartButtonEl.classList.add('colab-df-quickchart-complete');\n",
              "        }\n",
              "        (() => {\n",
              "          let quickchartButtonEl =\n",
              "            document.querySelector('#df-4708c407-c448-4fc0-8095-67f589a3bd94 button');\n",
              "          quickchartButtonEl.style.display =\n",
              "            google.colab.kernel.accessAllowed ? 'block' : 'none';\n",
              "        })();\n",
              "      </script>\n",
              "    </div>\n",
              "\n",
              "    </div>\n",
              "  </div>\n"
            ],
            "application/vnd.google.colaboratory.intrinsic+json": {
              "type": "dataframe"
            }
          },
          "metadata": {},
          "execution_count": 392
        }
      ]
    },
    {
      "cell_type": "code",
      "source": [
        "df_new18.info()"
      ],
      "metadata": {
        "colab": {
          "base_uri": "https://localhost:8080/"
        },
        "id": "HGoOBLjLjxBu",
        "outputId": "d84a0e07-c437-42df-8887-5d0289ba1262"
      },
      "execution_count": null,
      "outputs": [
        {
          "output_type": "stream",
          "name": "stdout",
          "text": [
            "<class 'pandas.core.frame.DataFrame'>\n",
            "Index: 15583 entries, 0 to Electric/Gasoline\n",
            "Data columns (total 52 columns):\n",
            " #   Column                 Non-Null Count  Dtype    \n",
            "---  ------                 --------------  -----    \n",
            " 0   comfort_convenience    14689 non-null  object   \n",
            " 1   entertainment_media    14262 non-null  object   \n",
            " 2   extras                 12708 non-null  object   \n",
            " 3   safety_security        14626 non-null  object   \n",
            " 4   body_1                 15582 non-null  object   \n",
            " 5   body_color_1           14988 non-null  object   \n",
            " 6   body_color_original_1  11901 non-null  object   \n",
            " 7   co2_emission_1         13205 non-null  object   \n",
            " 8   consumption_2          13719 non-null  object   \n",
            " 9   consumption_3          13719 non-null  object   \n",
            " 10  consumption_4          13719 non-null  object   \n",
            " 11  country_version_1      7375 non-null   object   \n",
            " 12  cylinders_1            10038 non-null  object   \n",
            " 13  displacement_1         15131 non-null  object   \n",
            " 14  drive_chain_1          8862 non-null   object   \n",
            " 15  emission_class_1       12101 non-null  object   \n",
            " 16  emission_label_1       3887 non-null   object   \n",
            " 17  first_registration_1   14026 non-null  object   \n",
            " 18  fuel_type              15583 non-null  object   \n",
            " 19  full_service_type_3    6147 non-null   object   \n",
            " 20  gearing_type_1         15582 non-null  object   \n",
            " 21  gears_1                10959 non-null  object   \n",
            " 22  inspection_new_comb    3361 non-null   object   \n",
            " 23  inspection_new_done    3793 non-null   object   \n",
            " 24  make                   15582 non-null  object   \n",
            " 25  mileage_(km)           15582 non-null  object   \n",
            " 26  model_code_1           4842 non-null   object   \n",
            " 27  model_type             15582 non-null  object   \n",
            " 28  next_inspection_date   3433 non-null   period[M]\n",
            " 29  non-smoking_vehicle_3  3428 non-null   object   \n",
            " 30  nr._of_doors_1         15379 non-null  object   \n",
            " 31  nr._of_seats_1         14677 non-null  object   \n",
            " 32  offer_number_1         12515 non-null  object   \n",
            " 33  paint_type_1           9975 non-null   object   \n",
            " 34  previous_owners        9014 non-null   Int64    \n",
            " 35  upholstery_3           11158 non-null  object   \n",
            " 36  upholstery_4           10608 non-null  object   \n",
            " 37  vehicle_type           15582 non-null  object   \n",
            " 38  warranty_time          4770 non-null   object   \n",
            " 39  warranty_type_2        2465 non-null   object   \n",
            " 40  warranty_type_3        4197 non-null   object   \n",
            " 41  weight_1               8801 non-null   object   \n",
            " 42  weight_2               8801 non-null   Int64    \n",
            " 43  body_type              15582 non-null  object   \n",
            " 44  hp_(kw)                15582 non-null  object   \n",
            " 45  make                   15582 non-null  object   \n",
            " 46  model                  15582 non-null  object   \n",
            " 47  price                  15582 non-null  float64  \n",
            " 48  registration           14026 non-null  period[M]\n",
            " 49  short_description      15582 non-null  object   \n",
            " 50  vat                    11163 non-null  object   \n",
            " 51  fule_type              3217 non-null   object   \n",
            "dtypes: Int64(2), float64(1), object(47), period[M](2)\n",
            "memory usage: 6.8+ MB\n"
          ]
        }
      ]
    },
    {
      "cell_type": "code",
      "source": [],
      "metadata": {
        "id": "H2IdMZ4EjxGW"
      },
      "execution_count": null,
      "outputs": []
    },
    {
      "cell_type": "code",
      "source": [],
      "metadata": {
        "id": "u21pFhFUjxLF"
      },
      "execution_count": null,
      "outputs": []
    },
    {
      "cell_type": "code",
      "source": [],
      "metadata": {
        "id": "1H1szFN1jxPm"
      },
      "execution_count": null,
      "outputs": []
    },
    {
      "cell_type": "code",
      "source": [],
      "metadata": {
        "id": "NzSPJYRhjxT4"
      },
      "execution_count": null,
      "outputs": []
    }
  ]
}