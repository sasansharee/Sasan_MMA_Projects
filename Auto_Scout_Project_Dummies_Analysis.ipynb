{
  "nbformat": 4,
  "nbformat_minor": 0,
  "metadata": {
    "colab": {
      "provenance": [],
      "authorship_tag": "ABX9TyMFQ+0i1fy6mEvRB8kHpTOR",
      "include_colab_link": true
    },
    "kernelspec": {
      "name": "python3",
      "display_name": "Python 3"
    },
    "language_info": {
      "name": "python"
    }
  },
  "cells": [
    {
      "cell_type": "markdown",
      "metadata": {
        "id": "view-in-github",
        "colab_type": "text"
      },
      "source": [
        "<a href=\"https://colab.research.google.com/github/sasansharee/Sasan_MMA_Projects/blob/main/Auto_Scout_Project_Dummies_Analysis.ipynb\" target=\"_parent\"><img src=\"https://colab.research.google.com/assets/colab-badge.svg\" alt=\"Open In Colab\"/></a>"
      ]
    },
    {
      "cell_type": "code",
      "execution_count": null,
      "metadata": {
        "id": "FCGEYrBSaa7-"
      },
      "outputs": [],
      "source": [
        "import numpy as np\n",
        "import pandas as pd\n",
        "import matplotlib.pyplot as plt\n",
        "import seaborn as sns"
      ]
    },
    {
      "cell_type": "code",
      "source": [
        "df_30_org = pd.read_csv('/content/df_29_cleaned_filled_outlier.csv')"
      ],
      "metadata": {
        "id": "CGqZH0MLbQTf"
      },
      "execution_count": null,
      "outputs": []
    },
    {
      "cell_type": "code",
      "source": [
        "df_30 = df_30_org.copy()"
      ],
      "metadata": {
        "id": "_AO1t10RbQYS"
      },
      "execution_count": null,
      "outputs": []
    },
    {
      "cell_type": "code",
      "source": [
        "df_30.info()"
      ],
      "metadata": {
        "id": "ioex-V1ObQco"
      },
      "execution_count": null,
      "outputs": []
    },
    {
      "cell_type": "markdown",
      "source": [
        "**Apply get_dummies method to object columns**"
      ],
      "metadata": {
        "id": "_XQqqLCr4mOT"
      }
    },
    {
      "cell_type": "code",
      "source": [
        "object_columns = ['body_color', 'body_type', 'drive_chain', 'emission_class', 'fuel', 'gearing_type',\n",
        "                  'inspection_new', 'make_model', 'paint_type', 'type_new_used']"
      ],
      "metadata": {
        "id": "Fdkn5VnabQhH"
      },
      "execution_count": null,
      "outputs": []
    },
    {
      "cell_type": "code",
      "source": [
        "df_31 = pd.get_dummies(df_30, columns = object_columns, drop_first = True, dtype = int)"
      ],
      "metadata": {
        "id": "FEc43XhbbQlU"
      },
      "execution_count": null,
      "outputs": []
    },
    {
      "cell_type": "code",
      "source": [
        "df_31.columns"
      ],
      "metadata": {
        "id": "7Yz78BpWbQo7"
      },
      "execution_count": null,
      "outputs": []
    },
    {
      "cell_type": "markdown",
      "source": [
        "**Apply get_dummies method to columns extras, comfort_and_convenience, entertainment_and_media, and safety_and_security**"
      ],
      "metadata": {
        "id": "nzexY9cA4qy9"
      }
    },
    {
      "cell_type": "code",
      "source": [
        "df_ext = df_31['extras'].str.get_dummies(sep = ', ')"
      ],
      "metadata": {
        "id": "htRgNCbpbQsR"
      },
      "execution_count": null,
      "outputs": []
    },
    {
      "cell_type": "code",
      "source": [
        "df_comf = df_31['comfort_and_convenience'].str.get_dummies(sep = ', ')"
      ],
      "metadata": {
        "id": "_LCXjmprwiPE"
      },
      "execution_count": null,
      "outputs": []
    },
    {
      "cell_type": "code",
      "source": [
        "df_ent = df_31['entertainment_and_media'].str.get_dummies(sep = ', ')"
      ],
      "metadata": {
        "id": "C56RwR6HwiZz"
      },
      "execution_count": null,
      "outputs": []
    },
    {
      "cell_type": "code",
      "source": [
        "df_sec = df_31['safety_and_security'].str.get_dummies(sep = ', ')"
      ],
      "metadata": {
        "id": "j5qmsRUywieZ"
      },
      "execution_count": null,
      "outputs": []
    },
    {
      "cell_type": "markdown",
      "source": [
        "**Drop columns with less 1s**"
      ],
      "metadata": {
        "id": "MoeBXK4K5Ai8"
      }
    },
    {
      "cell_type": "code",
      "source": [
        "df_ext.columns = df_ext.columns.str.replace(\"'\", \"\" ).str.replace(' ', '_').str.lower()"
      ],
      "metadata": {
        "id": "tJhjf6fWwiiG"
      },
      "execution_count": null,
      "outputs": []
    },
    {
      "cell_type": "code",
      "source": [
        "df_ext.sum()"
      ],
      "metadata": {
        "id": "aMn57SvB22lp"
      },
      "execution_count": null,
      "outputs": []
    },
    {
      "cell_type": "code",
      "source": [
        "df_ext.drop(columns = ['handicapped_enabled', 'right_hand_drive', 'sliding_door', 'tuned_car'], axis = 1, inplace = True)"
      ],
      "metadata": {
        "id": "8-3PPcNU22uk"
      },
      "execution_count": null,
      "outputs": []
    },
    {
      "cell_type": "code",
      "source": [
        "df_comf.columns = df_comf.columns.str.replace(\"'\", \"\" ).str.replace(' ', '_').str.lower()"
      ],
      "metadata": {
        "id": "nxfiUjp1wilo"
      },
      "execution_count": null,
      "outputs": []
    },
    {
      "cell_type": "code",
      "source": [
        "df_comf.sum()"
      ],
      "metadata": {
        "id": "HEaUMllV3U1L"
      },
      "execution_count": null,
      "outputs": []
    },
    {
      "cell_type": "code",
      "source": [
        "df_comf.drop(columns = ['air_suspension', 'electric_starter', 'wind_deflector', 'windshield'], axis = 1, inplace = True)"
      ],
      "metadata": {
        "id": "0fg774Xv3U9y"
      },
      "execution_count": null,
      "outputs": []
    },
    {
      "cell_type": "code",
      "source": [
        "df_ent.columns = df_ent.columns.str.replace(\"'\", \"\" ).str.replace(' ', '_').str.lower()"
      ],
      "metadata": {
        "id": "B19RSSlb2MOX"
      },
      "execution_count": null,
      "outputs": []
    },
    {
      "cell_type": "code",
      "source": [
        "df_ent.sum()"
      ],
      "metadata": {
        "id": "MQi2FOuH36GY"
      },
      "execution_count": null,
      "outputs": []
    },
    {
      "cell_type": "code",
      "source": [
        "df_ent.drop(columns = ['television'], axis = 1, inplace = True)"
      ],
      "metadata": {
        "id": "xIz-Jlmx36PH"
      },
      "execution_count": null,
      "outputs": []
    },
    {
      "cell_type": "code",
      "source": [
        "df_sec.columns = df_sec.columns.str.replace(\"'\", \"\" ).str.replace(' ', '_').str.lower()"
      ],
      "metadata": {
        "id": "c7IA74gW2MTw"
      },
      "execution_count": null,
      "outputs": []
    },
    {
      "cell_type": "code",
      "source": [
        "df_sec.sum()"
      ],
      "metadata": {
        "id": "IxEtInm22MYc"
      },
      "execution_count": null,
      "outputs": []
    },
    {
      "cell_type": "code",
      "source": [
        "df_sec.drop(columns = ['night_view_assist'], axis = 1, inplace = True)"
      ],
      "metadata": {
        "id": "iEjqO6pZ2MdV"
      },
      "execution_count": null,
      "outputs": []
    },
    {
      "cell_type": "markdown",
      "source": [
        "**Fill leather_seats column with upholstery_material column**"
      ],
      "metadata": {
        "id": "zKkBWwCb5XR-"
      }
    },
    {
      "cell_type": "code",
      "source": [
        "df_31['upholstery_type'].value_counts()"
      ],
      "metadata": {
        "id": "IdpOqepc2Mhi"
      },
      "execution_count": null,
      "outputs": []
    },
    {
      "cell_type": "code",
      "source": [
        "leather_index = df_31[df_31['upholstery_type'] == 'Part/Full leather'].index"
      ],
      "metadata": {
        "id": "Bi-alLQK6nr7"
      },
      "execution_count": null,
      "outputs": []
    },
    {
      "cell_type": "code",
      "source": [
        "df_comf.loc[leather_index, 'leather_seats'] = 1"
      ],
      "metadata": {
        "id": "GY8PC9lT6y5z"
      },
      "execution_count": null,
      "outputs": []
    },
    {
      "cell_type": "code",
      "source": [
        "df_comf.sum()"
      ],
      "metadata": {
        "id": "NGqC_q8f6y_k"
      },
      "execution_count": null,
      "outputs": []
    },
    {
      "cell_type": "code",
      "source": [
        "df_31.info()"
      ],
      "metadata": {
        "id": "lLDme5V48ytc"
      },
      "execution_count": null,
      "outputs": []
    },
    {
      "cell_type": "code",
      "source": [
        "df_32 = df_31.drop(columns = ['comfort_and_convenience', 'entertainment_and_media', 'extras', 'safety_and_security', 'upholstery_type'],\n",
        "                   axis = 1)"
      ],
      "metadata": {
        "id": "ra8bej7w78X3"
      },
      "execution_count": null,
      "outputs": []
    },
    {
      "cell_type": "code",
      "source": [
        "df_32.info()"
      ],
      "metadata": {
        "id": "Rf9V2_7C9X8k"
      },
      "execution_count": null,
      "outputs": []
    },
    {
      "cell_type": "markdown",
      "source": [
        "**Concat all dummy dataframes**"
      ],
      "metadata": {
        "id": "ICkpAxAH7nlx"
      }
    },
    {
      "cell_type": "code",
      "source": [
        "df_33 = pd.concat([df_32, df_ext, df_comf, df_ent, df_sec], axis = 1)"
      ],
      "metadata": {
        "id": "RfKWJ15e6zE_"
      },
      "execution_count": null,
      "outputs": []
    },
    {
      "cell_type": "code",
      "source": [
        "df_33.info()"
      ],
      "metadata": {
        "id": "jvHOaCgt6zJ7"
      },
      "execution_count": null,
      "outputs": []
    },
    {
      "cell_type": "code",
      "source": [
        "df_33.to_csv('df_33_cleaned_filled_outlier_dummies.csv', index = False)"
      ],
      "metadata": {
        "id": "fLMjY3WZ6zNU"
      },
      "execution_count": null,
      "outputs": []
    }
  ]
}