{
  "cells": [
    {
      "cell_type": "markdown",
      "metadata": {
        "id": "view-in-github",
        "colab_type": "text"
      },
      "source": [
        "<a href=\"https://colab.research.google.com/github/sasansharee/Sasan_MMA_Projects/blob/main/Auto_Scout_Project_Linear_Regression.ipynb\" target=\"_parent\"><img src=\"https://colab.research.google.com/assets/colab-badge.svg\" alt=\"Open In Colab\"/></a>"
      ]
    },
    {
      "cell_type": "code",
      "execution_count": null,
      "metadata": {
        "id": "kUTHGR4FNNF3"
      },
      "outputs": [],
      "source": [
        "import numpy as np\n",
        "import pandas as pd\n",
        "import matplotlib.pyplot as plt\n",
        "import seaborn as sns"
      ]
    },
    {
      "cell_type": "code",
      "execution_count": null,
      "metadata": {
        "id": "mjlifF0JOjKC"
      },
      "outputs": [],
      "source": [
        "pd.set_option('display.max_rows', None)\n",
        "pd.set_option('display.max_columns', None)"
      ]
    },
    {
      "cell_type": "code",
      "execution_count": null,
      "metadata": {
        "id": "sDkD0yRROEjs"
      },
      "outputs": [],
      "source": [
        "df_org = pd.read_csv('/content/df_33_cleaned_filled_outlier_dummies.csv')"
      ]
    },
    {
      "cell_type": "code",
      "execution_count": null,
      "metadata": {
        "id": "gg36aHWDOEol"
      },
      "outputs": [],
      "source": [
        "df = df_org.copy()"
      ]
    },
    {
      "cell_type": "code",
      "execution_count": null,
      "metadata": {
        "id": "sET1MEO1OEtS"
      },
      "outputs": [],
      "source": [
        "X = df.drop(['price'], axis = 1)\n",
        "y = df['price']"
      ]
    },
    {
      "cell_type": "code",
      "execution_count": null,
      "metadata": {
        "id": "mFc7nreAOEyJ"
      },
      "outputs": [],
      "source": [
        "X.shape, y.shape"
      ]
    },
    {
      "cell_type": "markdown",
      "metadata": {
        "id": "Scg6lrGgPGeF"
      },
      "source": [
        "**Polynomia Conversion**"
      ]
    },
    {
      "cell_type": "code",
      "execution_count": null,
      "metadata": {
        "id": "5VvtN7kfOE2u"
      },
      "outputs": [],
      "source": [
        "from sklearn.preprocessing import PolynomialFeatures"
      ]
    },
    {
      "cell_type": "code",
      "execution_count": null,
      "metadata": {
        "id": "bPBSv7UkOE7S"
      },
      "outputs": [],
      "source": [
        "poly = PolynomialFeatures(degree = 3, include_bias = False)"
      ]
    },
    {
      "cell_type": "code",
      "execution_count": null,
      "metadata": {
        "id": "atSylUMoOE_z"
      },
      "outputs": [],
      "source": [
        "# X_poly = poly.fit_transform(X), Cannot run this due to the large size of the data. We will NOT run polynomial for this data"
      ]
    },
    {
      "cell_type": "markdown",
      "metadata": {
        "id": "AhF-t2PnT0rp"
      },
      "source": [
        "**Train_Test_Split**"
      ]
    },
    {
      "cell_type": "code",
      "execution_count": null,
      "metadata": {
        "id": "3yWAqyRrUGPh"
      },
      "outputs": [],
      "source": [
        "from sklearn.model_selection import train_test_split"
      ]
    },
    {
      "cell_type": "code",
      "execution_count": null,
      "metadata": {
        "id": "gS6WnqZhOFEO"
      },
      "outputs": [],
      "source": [
        "X_train, X_test, y_train, y_test = train_test_split(X, y, test_size = 0.3, random_state = 101)"
      ]
    },
    {
      "cell_type": "markdown",
      "metadata": {
        "id": "V5USOcGfUgjh"
      },
      "source": [
        "**Scaling**"
      ]
    },
    {
      "cell_type": "code",
      "execution_count": null,
      "metadata": {
        "id": "v-YGsvNQOFJD"
      },
      "outputs": [],
      "source": [
        "from sklearn.preprocessing import StandardScaler, MinMaxScaler, RobustScaler"
      ]
    },
    {
      "cell_type": "code",
      "execution_count": null,
      "metadata": {
        "id": "yUEgrucVOFQV"
      },
      "outputs": [],
      "source": [
        "scaler = StandardScaler()"
      ]
    },
    {
      "cell_type": "code",
      "execution_count": null,
      "metadata": {
        "id": "YNUhPbXjV0K4"
      },
      "outputs": [],
      "source": [
        "scaler.fit(X_train)"
      ]
    },
    {
      "cell_type": "code",
      "execution_count": null,
      "metadata": {
        "id": "2hRppyvgOFVW"
      },
      "outputs": [],
      "source": [
        "X_train_scaled = scaler.transform(X_train)"
      ]
    },
    {
      "cell_type": "code",
      "execution_count": null,
      "metadata": {
        "id": "Ci-KeXaOUuAa"
      },
      "outputs": [],
      "source": [
        "X_test_scaled = scaler.transform(X_test)"
      ]
    },
    {
      "cell_type": "code",
      "execution_count": null,
      "metadata": {
        "id": "aRnBQj4dV_17"
      },
      "outputs": [],
      "source": [
        "np.mean(X_train_scaled).round(), np.mean(X_test_scaled).round()"
      ]
    },
    {
      "cell_type": "code",
      "execution_count": null,
      "metadata": {
        "id": "ivf4NYA6WJpc"
      },
      "outputs": [],
      "source": [
        "np.std(X_train_scaled).round(), np.std(X_test_scaled).round()"
      ]
    },
    {
      "cell_type": "code",
      "execution_count": null,
      "metadata": {
        "id": "m1FFIIC7UuE1"
      },
      "outputs": [],
      "source": [
        "pd.DataFrame(X_train_scaled).agg({'mean', 'std'}).round()"
      ]
    },
    {
      "cell_type": "code",
      "execution_count": null,
      "metadata": {
        "id": "bsO-CA2IUuJB"
      },
      "outputs": [],
      "source": [
        "pd.DataFrame(X_test_scaled).agg({'mean', 'std'}).round()"
      ]
    },
    {
      "cell_type": "markdown",
      "metadata": {
        "id": "0vwX07nZW60Z"
      },
      "source": [
        "**Linear Regression**"
      ]
    },
    {
      "cell_type": "code",
      "execution_count": null,
      "metadata": {
        "id": "LBroFaOdUuNV"
      },
      "outputs": [],
      "source": [
        "from sklearn.linear_model import LinearRegression"
      ]
    },
    {
      "cell_type": "code",
      "execution_count": null,
      "metadata": {
        "id": "BrCG4q_wUuRO"
      },
      "outputs": [],
      "source": [
        "linear = LinearRegression()"
      ]
    },
    {
      "cell_type": "code",
      "execution_count": null,
      "metadata": {
        "id": "alKMWhsIUuUn"
      },
      "outputs": [],
      "source": [
        "linear.fit(X_train_scaled, y_train)"
      ]
    },
    {
      "cell_type": "code",
      "execution_count": null,
      "metadata": {
        "id": "VYJxMyT2UuY0"
      },
      "outputs": [],
      "source": [
        "y_train_pred = linear.predict(X_train_scaled)"
      ]
    },
    {
      "cell_type": "code",
      "execution_count": null,
      "metadata": {
        "id": "a-rjNxh6Uuce"
      },
      "outputs": [],
      "source": [
        "y_pred = linear.predict(X_test_scaled)"
      ]
    },
    {
      "cell_type": "code",
      "execution_count": null,
      "metadata": {
        "id": "zEfAZACGl1cm"
      },
      "outputs": [],
      "source": [
        "from sklearn.metrics import mean_absolute_error, mean_squared_error, r2_score"
      ]
    },
    {
      "cell_type": "code",
      "execution_count": null,
      "metadata": {
        "id": "oaDRDroiUugC"
      },
      "outputs": [],
      "source": [
        "def train_val(y_train, y_train_pred, y_test, y_pred, name):\n",
        "\n",
        "  scores = {\n",
        "  name + '_train' : {\n",
        "  'R2' : r2_score(y_train, y_train_pred),\n",
        "  'MAE' : mean_absolute_error(y_train, y_train_pred),\n",
        "  'MSE' : mean_squared_error(y_train, y_train_pred),\n",
        "  'rMSE' : np.sqrt(mean_squared_error(y_train, y_train_pred))},\n",
        "\n",
        "  name + '_test' : {\n",
        "  'R2' : r2_score(y_test, y_pred),\n",
        "  'MAE' : mean_absolute_error(y_test, y_pred),\n",
        "  'MSE' : mean_squared_error(y_test, y_pred),\n",
        "  'rMSE' : np.sqrt(mean_squared_error(y_test, y_pred))}\n",
        "  }\n",
        "\n",
        "  return pd.DataFrame(scores)\n"
      ]
    },
    {
      "cell_type": "code",
      "execution_count": null,
      "metadata": {
        "id": "ch9BXBh-Uujw"
      },
      "outputs": [],
      "source": [
        "score_linear = train_val(y_train, y_train_pred, y_test, y_pred, 'linear')\n",
        "score_linear"
      ]
    },
    {
      "cell_type": "markdown",
      "metadata": {
        "id": "yp8nrV0ystJ2"
      },
      "source": [
        "**Multicolinearity**"
      ]
    },
    {
      "cell_type": "code",
      "execution_count": null,
      "metadata": {
        "id": "g-w1GUpfUunr"
      },
      "outputs": [],
      "source": [
        "def color_red(val):\n",
        "  if val > 0.9 and val < 0.99:\n",
        "    color = 'red'\n",
        "  else:\n",
        "    color = 'black'\n",
        "  return f'color : {color}'"
      ]
    },
    {
      "cell_type": "code",
      "execution_count": null,
      "metadata": {
        "id": "S6RKgB3bUurC"
      },
      "outputs": [],
      "source": [
        "pd.DataFrame(X).style.applymap(color_red)"
      ]
    },
    {
      "cell_type": "markdown",
      "metadata": {
        "id": "C6FC3dbkwsgb"
      },
      "source": [
        "**Cross Validation**"
      ]
    },
    {
      "cell_type": "code",
      "execution_count": null,
      "metadata": {
        "id": "Gj7eyvQ_Uuuq"
      },
      "outputs": [],
      "source": [
        "from sklearn.model_selection import cross_validate"
      ]
    },
    {
      "cell_type": "code",
      "execution_count": null,
      "metadata": {
        "id": "eHClp43GUuyF"
      },
      "outputs": [],
      "source": [
        "score_linear_crval = cross_validate(linear, X_train_scaled, y_train, scoring = ['r2', 'neg_mean_absolute_error',\n",
        "                                                                             'neg_mean_squared_error',\n",
        "                                                                             'neg_root_mean_squared_error'], cv = 5)"
      ]
    },
    {
      "cell_type": "code",
      "execution_count": null,
      "metadata": {
        "id": "qPw1DNIlUu1_"
      },
      "outputs": [],
      "source": [
        "score_linear_crval"
      ]
    },
    {
      "cell_type": "code",
      "execution_count": null,
      "metadata": {
        "id": "4E-63hH5Uu5X"
      },
      "outputs": [],
      "source": [
        "pd.DataFrame(score_linear_crval, index = range(1, 6))"
      ]
    },
    {
      "cell_type": "code",
      "execution_count": null,
      "metadata": {
        "id": "j8zQGKsmUu84"
      },
      "outputs": [],
      "source": [
        "score_linear_crval_df = pd.DataFrame(score_linear_crval, index = range(1, 6))\n",
        "score_linear_crval_df.iloc[:, 2:].mean()"
      ]
    },
    {
      "cell_type": "code",
      "execution_count": null,
      "metadata": {
        "id": "8SdgQbOYUvHb"
      },
      "outputs": [],
      "source": [
        "linear.coef_"
      ]
    },
    {
      "cell_type": "code",
      "execution_count": null,
      "metadata": {
        "id": "26k4EHtiUvKj"
      },
      "outputs": [],
      "source": [
        "linear_coef_df = pd.DataFrame(linear.coef_, columns = ['linear_coef'])\n",
        "linear_coef_df"
      ]
    },
    {
      "cell_type": "markdown",
      "metadata": {
        "id": "TdXiLLI97ui9"
      },
      "source": [
        "**Ridge**"
      ]
    },
    {
      "cell_type": "code",
      "execution_count": null,
      "metadata": {
        "id": "-4BGcb8X7Xv2"
      },
      "outputs": [],
      "source": [
        "from sklearn.linear_model import Ridge"
      ]
    },
    {
      "cell_type": "code",
      "execution_count": null,
      "metadata": {
        "id": "OhssMONd7X1V"
      },
      "outputs": [],
      "source": [
        "ridge = Ridge(alpha = 1, random_state = 42)"
      ]
    },
    {
      "cell_type": "code",
      "execution_count": null,
      "metadata": {
        "id": "hb44XP-M7X5_"
      },
      "outputs": [],
      "source": [
        "ridge.fit(X_train_scaled, y_train)"
      ]
    },
    {
      "cell_type": "code",
      "execution_count": null,
      "metadata": {
        "id": "B5Be6pDP7X-U"
      },
      "outputs": [],
      "source": [
        "y_train_pred = ridge.predict(X_train_scaled)\n",
        "y_pred = ridge.predict(X_test_scaled)"
      ]
    },
    {
      "cell_type": "code",
      "execution_count": null,
      "metadata": {
        "id": "P7mPqcyw7YCP"
      },
      "outputs": [],
      "source": [
        "score_ridge = train_val(y_train, y_train_pred, y_test, y_pred, 'ridge')\n",
        "score_ridge"
      ]
    },
    {
      "cell_type": "code",
      "execution_count": null,
      "metadata": {
        "id": "hXQY7Rw67YGW"
      },
      "outputs": [],
      "source": [
        "pd.concat([score_linear, score_ridge], axis = 1)"
      ]
    },
    {
      "cell_type": "markdown",
      "metadata": {
        "id": "2W5m7ISpIYMi"
      },
      "source": [
        "**Ridge Cross Validation, alpha = 1**"
      ]
    },
    {
      "cell_type": "code",
      "execution_count": null,
      "metadata": {
        "id": "Qe-XwDAz7YKd"
      },
      "outputs": [],
      "source": [
        "score_ridge_crval = cross_validate(ridge, X_train_scaled, y_train, scoring = ['r2', 'neg_mean_absolute_error',\n",
        "                                                                           'neg_mean_squared_error',\n",
        "                                                                           'neg_root_mean_squared_error'], cv = 5)"
      ]
    },
    {
      "cell_type": "code",
      "execution_count": null,
      "metadata": {
        "id": "MmII34lu7YOe"
      },
      "outputs": [],
      "source": [
        "score_ridge_crval"
      ]
    },
    {
      "cell_type": "code",
      "execution_count": null,
      "metadata": {
        "id": "f135wTvE7YSv"
      },
      "outputs": [],
      "source": [
        "score_ridge_crval_df = pd.DataFrame(score_ridge_crval, index = range(1, 6))\n",
        "score_ridge_crval_df"
      ]
    },
    {
      "cell_type": "code",
      "execution_count": null,
      "metadata": {
        "id": "Qyx9jEdn7YWf"
      },
      "outputs": [],
      "source": [
        "score_ridge_crval_df.iloc[:, 2:].mean()"
      ]
    },
    {
      "cell_type": "code",
      "execution_count": null,
      "metadata": {
        "id": "174-Ev0e7Yao"
      },
      "outputs": [],
      "source": [
        "ridge.coef_"
      ]
    },
    {
      "cell_type": "code",
      "execution_count": null,
      "metadata": {
        "id": "FyCu53Cb7YeU"
      },
      "outputs": [],
      "source": [
        "ridge_coef_df = pd.DataFrame(ridge.coef_, columns = ['ridge_coef'])\n",
        "ridge_coef_df"
      ]
    },
    {
      "cell_type": "code",
      "execution_count": null,
      "metadata": {
        "id": "lugsJHDQ7YiE"
      },
      "outputs": [],
      "source": [
        "pd.concat([linear_coef_df, ridge_coef_df], axis = 1)"
      ]
    },
    {
      "cell_type": "markdown",
      "metadata": {
        "id": "DqHAFpC5LQo9"
      },
      "source": [
        "**Choosing best alpha value with Cross-Validation**"
      ]
    },
    {
      "cell_type": "code",
      "execution_count": null,
      "metadata": {
        "id": "7uKAuaBV7Yl9"
      },
      "outputs": [],
      "source": [
        "from sklearn.linear_model import RidgeCV"
      ]
    },
    {
      "cell_type": "code",
      "execution_count": null,
      "metadata": {
        "id": "CvBmKXe57Ypg"
      },
      "outputs": [],
      "source": [
        "alpha_range = np.linspace(0.01, 1, 100)"
      ]
    },
    {
      "cell_type": "code",
      "execution_count": null,
      "metadata": {
        "id": "FWpEelrW7YtW"
      },
      "outputs": [],
      "source": [
        "ridge_cv = RidgeCV(alphas = alpha_range, cv = 5, scoring = 'neg_root_mean_squared_error')"
      ]
    },
    {
      "cell_type": "code",
      "execution_count": null,
      "metadata": {
        "id": "0fWowQ4v7YxQ"
      },
      "outputs": [],
      "source": [
        "ridge_cv.fit(X_train_scaled, y_train)"
      ]
    },
    {
      "cell_type": "code",
      "execution_count": null,
      "metadata": {
        "id": "nC82fwxB7Y0t"
      },
      "outputs": [],
      "source": [
        "ridge_cv.alpha_"
      ]
    },
    {
      "cell_type": "code",
      "execution_count": null,
      "metadata": {
        "id": "qTSHNJLN7Y4o"
      },
      "outputs": [],
      "source": [
        "ridge_cv.best_score_"
      ]
    },
    {
      "cell_type": "code",
      "execution_count": null,
      "metadata": {
        "id": "4GjUCJH87Y7-"
      },
      "outputs": [],
      "source": [
        "y_train_pred = ridge_cv.predict(X_train_scaled)\n",
        "y_pred = ridge_cv.predict(X_test_scaled)"
      ]
    },
    {
      "cell_type": "code",
      "execution_count": null,
      "metadata": {
        "id": "_X7Iqmlm7Y_2"
      },
      "outputs": [],
      "source": [
        "score_ridge_cv = train_val(y_train, y_train_pred, y_test, y_pred, 'ridge_cv')\n",
        "score_ridge_cv"
      ]
    },
    {
      "cell_type": "code",
      "execution_count": null,
      "metadata": {
        "id": "rkMVoNFs7ZDy"
      },
      "outputs": [],
      "source": [
        "pd.concat([score_linear, score_ridge, score_ridge_cv], axis = 1)"
      ]
    },
    {
      "cell_type": "code",
      "source": [
        "ridge_cv.coef_"
      ],
      "metadata": {
        "id": "GdFFQ1jhhMRa"
      },
      "execution_count": null,
      "outputs": []
    },
    {
      "cell_type": "code",
      "source": [
        "ridge_cv_coef_df = pd.DataFrame(ridge_cv.coef_, columns = ['ridge_cv_coef'])"
      ],
      "metadata": {
        "id": "2lJdUaXZhT1G"
      },
      "execution_count": null,
      "outputs": []
    },
    {
      "cell_type": "code",
      "source": [
        "pd.concat([linear_coef_df, ridge_coef_df, ridge_cv_coef_df], axis = 1)"
      ],
      "metadata": {
        "id": "bE4uV_K8hlRf"
      },
      "execution_count": null,
      "outputs": []
    },
    {
      "cell_type": "markdown",
      "metadata": {
        "id": "IGw8KqMDa6mW"
      },
      "source": [
        "**Lasso Regression**"
      ]
    },
    {
      "cell_type": "code",
      "execution_count": null,
      "metadata": {
        "id": "QJlKkGTCYvmU"
      },
      "outputs": [],
      "source": [
        "from sklearn.linear_model import Lasso, LassoCV"
      ]
    },
    {
      "cell_type": "code",
      "execution_count": null,
      "metadata": {
        "id": "epUj8tup7ZHc"
      },
      "outputs": [],
      "source": [
        "lasso = Lasso(alpha = 1, random_state = 42)"
      ]
    },
    {
      "cell_type": "code",
      "source": [
        "lasso.fit(X_train_scaled, y_train)"
      ],
      "metadata": {
        "id": "lbf2xAw3eIp4"
      },
      "execution_count": null,
      "outputs": []
    },
    {
      "cell_type": "code",
      "source": [
        "y_train_pred = lasso.predict(X_train_scaled)\n",
        "y_pred = lasso.predict(X_test_scaled)"
      ],
      "metadata": {
        "id": "el4IXa8oeIvA"
      },
      "execution_count": null,
      "outputs": []
    },
    {
      "cell_type": "code",
      "source": [
        "score_lasso = train_val(y_train, y_train_pred, y_test, y_pred, 'lasso')\n",
        "score_lasso"
      ],
      "metadata": {
        "id": "mNzgvjHIeIzf"
      },
      "execution_count": null,
      "outputs": []
    },
    {
      "cell_type": "code",
      "source": [
        "pd.concat([score_linear, score_ridge, score_ridge_cv, score_lasso], axis = 1)"
      ],
      "metadata": {
        "id": "b0v0-BxJeI38"
      },
      "execution_count": null,
      "outputs": []
    },
    {
      "cell_type": "markdown",
      "source": [
        "**Lasso Cross Validation, alpha = 1**"
      ],
      "metadata": {
        "id": "4rxQ_hmUfaY_"
      }
    },
    {
      "cell_type": "code",
      "source": [
        "scores_lasso_crval = cross_validate(lasso, X_train_scaled, y_train, scoring = ['r2', 'neg_mean_absolute_error',\n",
        "                                                                               'neg_mean_squared_error',\n",
        "                                                                               'neg_root_mean_squared_error'], cv = 5)"
      ],
      "metadata": {
        "id": "lpyPmh7KeI7z"
      },
      "execution_count": null,
      "outputs": []
    },
    {
      "cell_type": "code",
      "source": [
        "scores_lasso_crval_df = pd.DataFrame(scores_lasso_crval, index = range(1, 6))\n",
        "scores_lasso_crval_df"
      ],
      "metadata": {
        "id": "YPI5VCGfeI_g"
      },
      "execution_count": null,
      "outputs": []
    },
    {
      "cell_type": "code",
      "source": [
        "scores_lasso_crval_df.iloc[:, 2:].mean()"
      ],
      "metadata": {
        "id": "gZCMRxdqeJDq"
      },
      "execution_count": null,
      "outputs": []
    },
    {
      "cell_type": "code",
      "source": [
        "lasso.coef_"
      ],
      "metadata": {
        "id": "hOrffy-5eJG_"
      },
      "execution_count": null,
      "outputs": []
    },
    {
      "cell_type": "code",
      "source": [
        "lasso_coef_df = pd.DataFrame(lasso.coef_, columns = ['lasso_coef'])\n",
        "lasso_coef_df"
      ],
      "metadata": {
        "id": "uMv3zuWveJK-"
      },
      "execution_count": null,
      "outputs": []
    },
    {
      "cell_type": "code",
      "source": [
        "pd.concat([linear_coef_df, ridge_coef_df, ridge_cv_coef_df, lasso_coef_df], axis = 1)"
      ],
      "metadata": {
        "id": "3Zo13p0XeJO0"
      },
      "execution_count": null,
      "outputs": []
    },
    {
      "cell_type": "markdown",
      "source": [
        "**Choosing best alpha value with Cross-Validation for Lasso**"
      ],
      "metadata": {
        "id": "rNfPayolizr_"
      }
    },
    {
      "cell_type": "code",
      "source": [
        "lasso_cv = LassoCV(alphas = alpha_range, cv = 5, random_state = 42)"
      ],
      "metadata": {
        "id": "JX_NiK5OeJSM"
      },
      "execution_count": null,
      "outputs": []
    },
    {
      "cell_type": "code",
      "source": [
        "lasso_cv.fit(X_train_scaled, y_train)"
      ],
      "metadata": {
        "id": "MPOMFw3ieJVp"
      },
      "execution_count": null,
      "outputs": []
    },
    {
      "cell_type": "code",
      "source": [
        "lasso_cv.alpha_"
      ],
      "metadata": {
        "id": "2ouqjLL7k5Ir"
      },
      "execution_count": null,
      "outputs": []
    },
    {
      "cell_type": "code",
      "source": [
        "y_train_pred = lasso_cv.predict(X_train_scaled)\n",
        "y_pred = lasso_cv.predict(X_test_scaled)"
      ],
      "metadata": {
        "id": "uatTTW1NkosL"
      },
      "execution_count": null,
      "outputs": []
    },
    {
      "cell_type": "code",
      "source": [
        "score_lasso_cv = train_val(y_train, y_train_pred, y_test, y_pred, 'lasso_cv')\n",
        "score_lasso_cv"
      ],
      "metadata": {
        "id": "sH-Sxx-hjESs"
      },
      "execution_count": null,
      "outputs": []
    },
    {
      "cell_type": "code",
      "source": [
        "pd.concat([score_linear, score_ridge, score_ridge_cv, score_lasso, score_lasso_cv], axis = 1)"
      ],
      "metadata": {
        "id": "ftxTgO_PjEld"
      },
      "execution_count": null,
      "outputs": []
    },
    {
      "cell_type": "code",
      "source": [
        "lasso_cv.coef_"
      ],
      "metadata": {
        "id": "otKn5m6cjEpW"
      },
      "execution_count": null,
      "outputs": []
    },
    {
      "cell_type": "code",
      "source": [
        "lasso_cv_coef_df = pd.DataFrame(lasso_cv.coef_, columns = ['lasso_cv_coef'])\n",
        "lasso_cv_coef_df"
      ],
      "metadata": {
        "id": "7eJQADjujEtZ"
      },
      "execution_count": null,
      "outputs": []
    },
    {
      "cell_type": "code",
      "source": [
        "pd.concat([linear_coef_df, ridge_coef_df, ridge_cv_coef_df, lasso_coef_df, lasso_cv_coef_df], axis = 1)"
      ],
      "metadata": {
        "id": "UACG_YWHjExj"
      },
      "execution_count": null,
      "outputs": []
    },
    {
      "cell_type": "markdown",
      "source": [
        "**Elastic Net**"
      ],
      "metadata": {
        "id": "fQ5-yidyl6yD"
      }
    },
    {
      "cell_type": "code",
      "source": [
        "from sklearn.linear_model import ElasticNet, ElasticNetCV"
      ],
      "metadata": {
        "id": "TEMv2ojhjE16"
      },
      "execution_count": null,
      "outputs": []
    },
    {
      "cell_type": "code",
      "source": [
        "elastic = ElasticNet(alpha = 1, l1_ratio = 0.5, random_state = 42)"
      ],
      "metadata": {
        "id": "v6yszVFCjE5i"
      },
      "execution_count": null,
      "outputs": []
    },
    {
      "cell_type": "code",
      "source": [
        "elastic.fit(X_train_scaled, y_train)"
      ],
      "metadata": {
        "id": "vHxQj6z1PMdK"
      },
      "execution_count": null,
      "outputs": []
    },
    {
      "cell_type": "code",
      "source": [
        "y_train_pred = elastic.predict(X_train_scaled)\n",
        "y_pred = elastic.predict(X_test_scaled)"
      ],
      "metadata": {
        "id": "9ISmh__mPMls"
      },
      "execution_count": null,
      "outputs": []
    },
    {
      "cell_type": "code",
      "source": [
        "score_elastic = train_val(y_train, y_train_pred, y_test, y_pred, 'elastic')\n",
        "score_elastic"
      ],
      "metadata": {
        "id": "0W0yI-h9PMqG"
      },
      "execution_count": null,
      "outputs": []
    },
    {
      "cell_type": "code",
      "source": [
        "pd.concat([score_linear, score_ridge, score_ridge_cv, score_lasso, score_lasso_cv, score_elastic], axis = 1)"
      ],
      "metadata": {
        "id": "4vGg6AY9PMuP"
      },
      "execution_count": null,
      "outputs": []
    },
    {
      "cell_type": "markdown",
      "source": [
        "**Elastic Net Cross Validation with alpha = 1, and l1_ratio = 0.5**"
      ],
      "metadata": {
        "id": "pdW353e7Q3-k"
      }
    },
    {
      "cell_type": "code",
      "source": [
        "scores_elastic_crval = cross_validate(elastic, X_train_scaled, y_train, scoring = ['r2', 'neg_mean_absolute_error',\n",
        "                                                                                 'neg_mean_squared_error',\n",
        "                                                                                 'neg_root_mean_squared_error'], cv = 5)"
      ],
      "metadata": {
        "id": "BztZvMmZPMyd"
      },
      "execution_count": null,
      "outputs": []
    },
    {
      "cell_type": "code",
      "source": [
        "scores_elastic_crval_df = pd.DataFrame(scores_elastic_crval, index = range(1, 6))"
      ],
      "metadata": {
        "id": "e3rO6oHyPM2Z"
      },
      "execution_count": null,
      "outputs": []
    },
    {
      "cell_type": "code",
      "source": [
        "scores_elastic_crval_df.iloc[:, 2:]"
      ],
      "metadata": {
        "id": "F1Fo44N_PM6O"
      },
      "execution_count": null,
      "outputs": []
    },
    {
      "cell_type": "code",
      "source": [
        "scores_elastic_crval_df.iloc[:, 2:].mean()"
      ],
      "metadata": {
        "id": "nac6-zcPPM9R"
      },
      "execution_count": null,
      "outputs": []
    },
    {
      "cell_type": "code",
      "source": [
        "elastic.coef_"
      ],
      "metadata": {
        "id": "tmbIGmXsR6Fg"
      },
      "execution_count": null,
      "outputs": []
    },
    {
      "cell_type": "code",
      "source": [
        "elastic_coef_df = pd.DataFrame(elastic.coef_, columns = ['elastic_coef'])\n",
        "elastic_coef_df"
      ],
      "metadata": {
        "id": "9KEjMxQJR6Lx"
      },
      "execution_count": null,
      "outputs": []
    },
    {
      "cell_type": "code",
      "source": [
        "pd.concat([linear_coef_df, ridge_coef_df, ridge_cv_coef_df, lasso_coef_df, lasso_cv_coef_df, elastic_coef_df], axis = 1)"
      ],
      "metadata": {
        "id": "gOjr7f6qR6Qx"
      },
      "execution_count": null,
      "outputs": []
    },
    {
      "cell_type": "markdown",
      "source": [
        "**Finding best alpha and l1_ratio using Cross validation**"
      ],
      "metadata": {
        "id": "m9G0PiQuUV-I"
      }
    },
    {
      "cell_type": "code",
      "source": [
        "elastic_cv = ElasticNetCV(alphas = alpha_range, l1_ratio=[0.1, 0.5, 0.7,0.9, 0.95, 1], cv = 5,\n",
        "                                max_iter = 100000,random_state=42)"
      ],
      "metadata": {
        "id": "3PigvKLDR6WD"
      },
      "execution_count": null,
      "outputs": []
    },
    {
      "cell_type": "code",
      "source": [
        "elastic_cv.fit(X_train_scaled, y_train)"
      ],
      "metadata": {
        "id": "1iLVEgCUR6au"
      },
      "execution_count": null,
      "outputs": []
    },
    {
      "cell_type": "code",
      "source": [
        "elastic_cv.alpha_"
      ],
      "metadata": {
        "id": "LHKncD4FR6fY"
      },
      "execution_count": null,
      "outputs": []
    },
    {
      "cell_type": "code",
      "source": [
        "elastic_cv.l1_ratio_"
      ],
      "metadata": {
        "id": "oJmUW_PdR6jo"
      },
      "execution_count": null,
      "outputs": []
    },
    {
      "cell_type": "code",
      "source": [
        "y_train_pred = elastic_cv.predict(X_train_scaled)\n",
        "y_pred = elastic_cv.predict(X_test_scaled)"
      ],
      "metadata": {
        "id": "eVJnxNCnR6no"
      },
      "execution_count": null,
      "outputs": []
    },
    {
      "cell_type": "code",
      "source": [
        "score_elastic_cv = train_val(y_train, y_train_pred, y_test, y_pred, \"elastic_cv\")\n",
        "score_elastic_cv"
      ],
      "metadata": {
        "id": "pFhQnQy5R6sI"
      },
      "execution_count": null,
      "outputs": []
    },
    {
      "cell_type": "code",
      "source": [
        "pd.concat([score_linear, score_ridge, score_ridge_cv, score_lasso, score_lasso_cv, score_elastic, score_elastic_cv], axis = 1)"
      ],
      "metadata": {
        "id": "C9AKcGKCR6xV"
      },
      "execution_count": null,
      "outputs": []
    },
    {
      "cell_type": "code",
      "source": [
        "elastic_cv.coef_"
      ],
      "metadata": {
        "id": "5AwW_Y8-Vj2d"
      },
      "execution_count": null,
      "outputs": []
    },
    {
      "cell_type": "code",
      "source": [
        "elastic_cv_coef_df = pd.DataFrame(elastic_cv.coef_, columns = ['elastic_cv_coef'])"
      ],
      "metadata": {
        "id": "NPE1iHtdVj81"
      },
      "execution_count": null,
      "outputs": []
    },
    {
      "cell_type": "code",
      "source": [
        "pd.concat([linear_coef_df, ridge_coef_df, ridge_cv_coef_df, lasso_coef_df, lasso_cv_coef_df, elastic_coef_df, elastic_cv_coef_df], axis = 1)"
      ],
      "metadata": {
        "id": "9cbkaLVFVkDJ"
      },
      "execution_count": null,
      "outputs": []
    },
    {
      "cell_type": "markdown",
      "source": [
        "**GridSearch**"
      ],
      "metadata": {
        "id": "XfrNG_WVXZgs"
      }
    },
    {
      "cell_type": "code",
      "source": [
        "from sklearn.model_selection import GridSearchCV"
      ],
      "metadata": {
        "id": "Wnz4rDVUVkJG"
      },
      "execution_count": null,
      "outputs": []
    },
    {
      "cell_type": "code",
      "source": [
        "param_grid = {\"alpha\":[0.01, 0.012, 0.2, 0.5, 0.6, 0.7, 1],\n",
        "            \"l1_ratio\":[0.1, 0.5, 0.7, 0.9, 0.95, 0.99, 1]}"
      ],
      "metadata": {
        "id": "yXPP0F2PVkNj"
      },
      "execution_count": null,
      "outputs": []
    },
    {
      "cell_type": "code",
      "source": [
        "grid = GridSearchCV(elastic, param_grid, scoring = 'neg_root_mean_squared_error', cv = 5, verbose = 2)"
      ],
      "metadata": {
        "id": "AeNK1W8_R65P"
      },
      "execution_count": null,
      "outputs": []
    },
    {
      "cell_type": "code",
      "source": [
        "grid.fit(X_train_scaled, y_train)"
      ],
      "metadata": {
        "id": "kCkcktKHg57e"
      },
      "execution_count": null,
      "outputs": []
    },
    {
      "cell_type": "code",
      "source": [
        "grid.best_params_"
      ],
      "metadata": {
        "id": "yCtkhaERg6CW"
      },
      "execution_count": null,
      "outputs": []
    },
    {
      "cell_type": "code",
      "source": [
        "grid.best_score_"
      ],
      "metadata": {
        "id": "QfBacE-Zg6ID"
      },
      "execution_count": null,
      "outputs": []
    },
    {
      "cell_type": "code",
      "source": [
        "y_train_pred = grid.predict(X_train_scaled)\n",
        "y_pred = grid.predict(X_test_scaled)"
      ],
      "metadata": {
        "id": "UqYUMRb_g6Nh"
      },
      "execution_count": null,
      "outputs": []
    },
    {
      "cell_type": "code",
      "source": [
        "score_grid = train_val(y_train, y_train_pred, y_test, y_pred, \"GridSearch\")\n",
        "score_grid"
      ],
      "metadata": {
        "id": "ALSON7mlg6Se"
      },
      "execution_count": null,
      "outputs": []
    },
    {
      "cell_type": "code",
      "source": [
        "pd.concat([score_linear, score_ridge, score_ridge_cv, score_lasso, score_lasso_cv, score_elastic, score_elastic_cv, score_grid], axis = 1)"
      ],
      "metadata": {
        "id": "v_lxPa1Rg6Xt"
      },
      "execution_count": null,
      "outputs": []
    },
    {
      "cell_type": "markdown",
      "source": [
        "**Feature importances with Ridge**"
      ],
      "metadata": {
        "id": "9XAIQKyLi9Oo"
      }
    },
    {
      "cell_type": "code",
      "source": [
        "from yellowbrick.model_selection import FeatureImportances\n",
        "from yellowbrick.features import RadViz\n",
        "\n",
        "viz = FeatureImportances(ridge_cv, labels=pd.DataFrame(X_train).columns)\n",
        "visualizer = RadViz(size=(720, 3000))\n",
        "viz.fit(X_train, y_train)\n",
        "viz.show()"
      ],
      "metadata": {
        "id": "qUIisny4jBFM"
      },
      "execution_count": null,
      "outputs": []
    },
    {
      "cell_type": "markdown",
      "source": [
        "**Feature importances with Lasso**"
      ],
      "metadata": {
        "id": "cDFCr-UqjSDL"
      }
    },
    {
      "cell_type": "code",
      "source": [
        "from yellowbrick.model_selection import FeatureImportances\n",
        "from yellowbrick.features import RadViz\n",
        "\n",
        "viz = FeatureImportances(lasso_cv, labels=pd.DataFrame(X_train).columns)\n",
        "visualizer = RadViz(size=(720, 3000))\n",
        "viz.fit(X_train, y_train)\n",
        "viz.show()"
      ],
      "metadata": {
        "id": "M8m2_uV9jBMh"
      },
      "execution_count": null,
      "outputs": []
    },
    {
      "cell_type": "code",
      "source": [],
      "metadata": {
        "id": "7ihRr37-jBST"
      },
      "execution_count": null,
      "outputs": []
    },
    {
      "cell_type": "code",
      "source": [],
      "metadata": {
        "id": "A_DpwMkgjBX_"
      },
      "execution_count": null,
      "outputs": []
    },
    {
      "cell_type": "code",
      "source": [],
      "metadata": {
        "id": "YIxqTEI_jBcr"
      },
      "execution_count": null,
      "outputs": []
    },
    {
      "cell_type": "code",
      "source": [],
      "metadata": {
        "id": "hPzlMY4FjBgN"
      },
      "execution_count": null,
      "outputs": []
    }
  ],
  "metadata": {
    "accelerator": "GPU",
    "colab": {
      "gpuType": "T4",
      "provenance": [],
      "include_colab_link": true
    },
    "kernelspec": {
      "display_name": "Python 3",
      "name": "python3"
    },
    "language_info": {
      "name": "python"
    }
  },
  "nbformat": 4,
  "nbformat_minor": 0
}