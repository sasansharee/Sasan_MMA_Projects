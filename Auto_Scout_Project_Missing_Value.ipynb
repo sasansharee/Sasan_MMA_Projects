{
  "nbformat": 4,
  "nbformat_minor": 0,
  "metadata": {
    "colab": {
      "provenance": [],
      "authorship_tag": "ABX9TyPj4QJ+NzNNvluKF8WyRG1D",
      "include_colab_link": true
    },
    "kernelspec": {
      "name": "python3",
      "display_name": "Python 3"
    },
    "language_info": {
      "name": "python"
    }
  },
  "cells": [
    {
      "cell_type": "markdown",
      "metadata": {
        "id": "view-in-github",
        "colab_type": "text"
      },
      "source": [
        "<a href=\"https://colab.research.google.com/github/sasansharee/Sasan_MMA_Projects/blob/main/Auto_Scout_Project_Missing_Value.ipynb\" target=\"_parent\"><img src=\"https://colab.research.google.com/assets/colab-badge.svg\" alt=\"Open In Colab\"/></a>"
      ]
    },
    {
      "cell_type": "code",
      "execution_count": null,
      "metadata": {
        "id": "PV5KNuYTqTFA"
      },
      "outputs": [],
      "source": [
        "import numpy as np\n",
        "import pandas as pd\n",
        "import matplotlib.pyplot as plt\n",
        "import seaborn as sns"
      ]
    },
    {
      "cell_type": "code",
      "source": [
        "pd.set_option('display.max_rows', None)"
      ],
      "metadata": {
        "id": "TEB9NFQbWP7W"
      },
      "execution_count": null,
      "outputs": []
    },
    {
      "cell_type": "code",
      "source": [
        "df_23_org = pd.read_csv('/content/df_22_cleaned.csv')"
      ],
      "metadata": {
        "id": "gsSud7hHp87u"
      },
      "execution_count": null,
      "outputs": []
    },
    {
      "cell_type": "code",
      "source": [
        "df_23 = df_23_org.copy()"
      ],
      "metadata": {
        "id": "iqDuKJQkp9BV"
      },
      "execution_count": null,
      "outputs": []
    },
    {
      "cell_type": "code",
      "source": [
        "df_23.drop('body', axis = 1, inplace = True)"
      ],
      "metadata": {
        "id": "ssnxESfIzjx5"
      },
      "execution_count": null,
      "outputs": []
    },
    {
      "cell_type": "code",
      "source": [
        "df_23.info()"
      ],
      "metadata": {
        "id": "JBIrP4jVrGma"
      },
      "execution_count": null,
      "outputs": []
    },
    {
      "cell_type": "code",
      "source": [
        "df_23.head().T"
      ],
      "metadata": {
        "id": "xhEsI75n3NXI"
      },
      "execution_count": null,
      "outputs": []
    },
    {
      "cell_type": "code",
      "source": [
        "df_23['age'] = 2019 - df_23['year_registration']"
      ],
      "metadata": {
        "id": "1VHDfbku31Hx"
      },
      "execution_count": null,
      "outputs": []
    },
    {
      "cell_type": "markdown",
      "source": [
        "**age**"
      ],
      "metadata": {
        "id": "0rdII3S133EH"
      }
    },
    {
      "cell_type": "code",
      "source": [
        "df_23['age'].isnull().sum()"
      ],
      "metadata": {
        "id": "GQ8YGdn_34w0"
      },
      "execution_count": null,
      "outputs": []
    },
    {
      "cell_type": "code",
      "source": [
        "df_23['age'].value_counts()"
      ],
      "metadata": {
        "id": "m7F8v6R7342g"
      },
      "execution_count": null,
      "outputs": []
    },
    {
      "cell_type": "code",
      "source": [
        "condition = (df_23['type_new_used'] == 'New') & (pd.isnull(df_23['age']))\n",
        "df_23.loc[condition, 'age'] = 0"
      ],
      "metadata": {
        "id": "oop-XM9H347e"
      },
      "execution_count": null,
      "outputs": []
    },
    {
      "cell_type": "code",
      "source": [
        "df_23['age'].isnull().sum()"
      ],
      "metadata": {
        "id": "xUlk6lR235Aa"
      },
      "execution_count": null,
      "outputs": []
    },
    {
      "cell_type": "code",
      "source": [
        "df_23.groupby('age')['km'].describe()"
      ],
      "metadata": {
        "id": "8_mJP7fM35E5"
      },
      "execution_count": null,
      "outputs": []
    },
    {
      "cell_type": "code",
      "source": [
        "df_23.groupby('age')['price'].describe()"
      ],
      "metadata": {
        "id": "Fx3vzAttLMxX"
      },
      "execution_count": null,
      "outputs": []
    },
    {
      "cell_type": "code",
      "source": [
        "df_23.loc[pd.isnull(df_23['age']), 'km'].value_counts()"
      ],
      "metadata": {
        "id": "pel8SNTf35Iy"
      },
      "execution_count": null,
      "outputs": []
    },
    {
      "cell_type": "code",
      "source": [
        "cond1 = df_23['km'] < 10000\n",
        "cond2 = (df_23['km'] >= 10000) & (df_23['km'] < 28000)\n",
        "cond3 = (df_23['km'] >= 28000) & (df_23['km'] < 50000)\n",
        "cond4 = (df_23['km'] >= 50000)"
      ],
      "metadata": {
        "id": "S8EZUWDN35Mw"
      },
      "execution_count": null,
      "outputs": []
    },
    {
      "cell_type": "code",
      "source": [
        "df_23.loc[cond1, 'age'] = df_23.loc[cond1, 'age'].fillna(0)\n",
        "df_23.loc[cond2, 'age'] = df_23.loc[cond2, 'age'].fillna(1)\n",
        "df_23.loc[cond3, 'age'] = df_23.loc[cond3, 'age'].fillna(2)\n",
        "df_23.loc[cond4, 'age'] = df_23.loc[cond4, 'age'].fillna(3)"
      ],
      "metadata": {
        "id": "4Fhtol4S35SB"
      },
      "execution_count": null,
      "outputs": []
    },
    {
      "cell_type": "code",
      "source": [
        "df_23['age'].isnull().sum()"
      ],
      "metadata": {
        "id": "aDSF5ePEDxKy"
      },
      "execution_count": null,
      "outputs": []
    },
    {
      "cell_type": "code",
      "source": [
        "df_23['age'].value_counts()"
      ],
      "metadata": {
        "id": "xG11IFgGDxRL"
      },
      "execution_count": null,
      "outputs": []
    },
    {
      "cell_type": "code",
      "source": [
        "df_23[pd.isnull(df_23['age'])][['make_model', 'body_type', 'price']]"
      ],
      "metadata": {
        "id": "OAtgsR2ZDxWs"
      },
      "execution_count": null,
      "outputs": []
    },
    {
      "cell_type": "code",
      "source": [
        "df_23.groupby(['make_model', 'body_type', 'age'])['price'].mean()"
      ],
      "metadata": {
        "id": "yB6_b1XCDxbV"
      },
      "execution_count": null,
      "outputs": []
    },
    {
      "cell_type": "code",
      "source": [
        "df_23[(df_23['make_model'] == 'Audi A3') & (df_23['body_type'] == 'Sedans')].groupby('age')['price'].mean()"
      ],
      "metadata": {
        "id": "NlXHCSnTJtGw"
      },
      "execution_count": null,
      "outputs": []
    },
    {
      "cell_type": "code",
      "source": [
        "df_23[(df_23['make_model'] == 'Opel Insignia') & (df_23['body_type'] == 'Sedans')].groupby('age')['price'].mean()"
      ],
      "metadata": {
        "id": "RTCvLzCQJtMX"
      },
      "execution_count": null,
      "outputs": []
    },
    {
      "cell_type": "code",
      "source": [
        "df_23[(df_23['make_model'] == 'Opel Insignia') & (df_23['body_type'] == 'Station wagon')].groupby('age')['price'].mean()"
      ],
      "metadata": {
        "id": "6f0qKzfWJtRl"
      },
      "execution_count": null,
      "outputs": []
    },
    {
      "cell_type": "code",
      "source": [
        "df_23['age'] = df_23['age'].fillna(0)"
      ],
      "metadata": {
        "id": "oX0zSr5hJtWZ"
      },
      "execution_count": null,
      "outputs": []
    },
    {
      "cell_type": "code",
      "source": [
        "df_23['age'].info()"
      ],
      "metadata": {
        "id": "jWFkIkR9Jtaz"
      },
      "execution_count": null,
      "outputs": []
    },
    {
      "cell_type": "markdown",
      "source": [
        "**body**"
      ],
      "metadata": {
        "id": "0ypohGqsqash"
      }
    },
    {
      "cell_type": "code",
      "source": [
        "df_23['body_type'].isnull().sum()"
      ],
      "metadata": {
        "id": "LBNAg2f6p9GW"
      },
      "execution_count": null,
      "outputs": []
    },
    {
      "cell_type": "code",
      "source": [
        "df_23['body_type'].value_counts()"
      ],
      "metadata": {
        "id": "I4EqI6VOqzAa"
      },
      "execution_count": null,
      "outputs": []
    },
    {
      "cell_type": "code",
      "source": [
        "df_23['body_type'] = df_23['body_type'].replace('Other', np.nan)"
      ],
      "metadata": {
        "id": "3sZkmezTtGoN"
      },
      "execution_count": null,
      "outputs": []
    },
    {
      "cell_type": "code",
      "source": [
        "df_23['body_type'].isnull().sum()"
      ],
      "metadata": {
        "id": "3XjXDd_vtQEM"
      },
      "execution_count": null,
      "outputs": []
    },
    {
      "cell_type": "code",
      "source": [
        "df_23['body_type'].mode()[0]"
      ],
      "metadata": {
        "id": "_W_9j2Zqp9Lu"
      },
      "execution_count": null,
      "outputs": []
    },
    {
      "cell_type": "code",
      "source": [
        "df_23.loc[df_23['body_type'].isnull(), 'make_model'].value_counts()"
      ],
      "metadata": {
        "id": "wfr3K8Q2p9UT"
      },
      "execution_count": null,
      "outputs": []
    },
    {
      "cell_type": "code",
      "source": [
        "for group1 in list(df_23['make_model'].unique()):\n",
        "  cond = df_23['make_model'] == group1\n",
        "  mode1 = list(df_23[cond]['body_type'].mode())\n",
        "  if mode1 != []:\n",
        "    df_23.loc[cond, 'body_type'] = df_23.loc[cond, 'body_type'].fillna(df_23[cond]['body_type'].mode()[0])\n",
        "  else:\n",
        "    df_23.loc[cond, 'body_type'] = df_23.loc[cond, 'body_type'].fillna(df_23['body_type'].mode()[0])\n"
      ],
      "metadata": {
        "id": "wAAikRt-p9Xy"
      },
      "execution_count": null,
      "outputs": []
    },
    {
      "cell_type": "code",
      "source": [
        "df_23['body_type'].isnull().sum()"
      ],
      "metadata": {
        "id": "iGJFXrOhwj4e"
      },
      "execution_count": null,
      "outputs": []
    },
    {
      "cell_type": "code",
      "source": [
        "df_23['body_type'].value_counts()"
      ],
      "metadata": {
        "id": "NWFZFOoMzF5E"
      },
      "execution_count": null,
      "outputs": []
    },
    {
      "cell_type": "markdown",
      "source": [
        "**body_color**"
      ],
      "metadata": {
        "id": "pZhk8jeRz8SB"
      }
    },
    {
      "cell_type": "code",
      "source": [
        "df_23['body_color'].isnull().sum()"
      ],
      "metadata": {
        "id": "ocM5p3dlz8tj"
      },
      "execution_count": null,
      "outputs": []
    },
    {
      "cell_type": "code",
      "source": [
        "df_23['body_color'].value_counts()"
      ],
      "metadata": {
        "id": "WEpcp5Ev0F4F"
      },
      "execution_count": null,
      "outputs": []
    },
    {
      "cell_type": "code",
      "source": [
        "for group1 in df_23['make_model'].unique():\n",
        "  for group2 in df_23['body_type'].unique():\n",
        "    cond1 = df_23['make_model'] == group1\n",
        "    cond2 = (df_23['make_model'] == group1) & (df_23['body_type'] == group2)\n",
        "    mode1 = df_23[cond1]['body_color'].mode().tolist()\n",
        "    mode2 = df_23[cond2]['body_color'].mode().tolist()\n",
        "    if mode2 != []:\n",
        "      df_23.loc[cond2, 'body_color'] = df_23.loc[cond2, 'body_color'].fillna(df_23[cond2]['body_color'].mode()[0])\n",
        "    elif mode1 != []:\n",
        "      df_23.loc[cond2, 'body_color'] = df_23.loc[cond2, 'body_color'].fillna(df_23[cond1]['body_color'].mode()[0])\n",
        "    else:\n",
        "      df_23.loc[cond2, 'body_color'] = df_23.loc[cond2, 'body_color'].fillna(df_23['body_color'].mode()[0])"
      ],
      "metadata": {
        "id": "QrDf2djbz8zI"
      },
      "execution_count": null,
      "outputs": []
    },
    {
      "cell_type": "code",
      "source": [
        "df_23['body_color'].isnull().sum()"
      ],
      "metadata": {
        "id": "qwKGnCL-z84J"
      },
      "execution_count": null,
      "outputs": []
    },
    {
      "cell_type": "code",
      "source": [
        "df_23['body_color'].value_counts()"
      ],
      "metadata": {
        "id": "bexhpESaz88X"
      },
      "execution_count": null,
      "outputs": []
    },
    {
      "cell_type": "markdown",
      "source": [
        "**km**"
      ],
      "metadata": {
        "id": "fcCHMhK52OlG"
      }
    },
    {
      "cell_type": "code",
      "source": [
        "df_23['km'].isnull().sum()"
      ],
      "metadata": {
        "id": "sWD1oCiiz9AO"
      },
      "execution_count": null,
      "outputs": []
    },
    {
      "cell_type": "code",
      "source": [
        "df_23.groupby(['make_model', 'body_type', 'age'])['km'].median()"
      ],
      "metadata": {
        "id": "3YdUPHGpTZWN"
      },
      "execution_count": null,
      "outputs": []
    },
    {
      "cell_type": "code",
      "source": [
        "df_23['km'] = df_23.groupby(['make_model', 'body_type', 'age'])['km'].transform('median')"
      ],
      "metadata": {
        "id": "mtG-4pGFTZbi"
      },
      "execution_count": null,
      "outputs": []
    },
    {
      "cell_type": "code",
      "source": [
        "df_23['km'].isnull().sum()"
      ],
      "metadata": {
        "id": "0lDY0VtiTZgf"
      },
      "execution_count": null,
      "outputs": []
    },
    {
      "cell_type": "code",
      "source": [
        "df_23['km'] = df_23.groupby(['make_model', 'age'])['km'].transform('median')"
      ],
      "metadata": {
        "id": "3921ZEFwTZsc"
      },
      "execution_count": null,
      "outputs": []
    },
    {
      "cell_type": "code",
      "source": [
        "df_23['km'].isnull().sum()"
      ],
      "metadata": {
        "id": "kADIxLE1TZwG"
      },
      "execution_count": null,
      "outputs": []
    },
    {
      "cell_type": "markdown",
      "source": [
        "**prev_owner**"
      ],
      "metadata": {
        "id": "34xa0JN_boXU"
      }
    },
    {
      "cell_type": "code",
      "source": [
        "df_23['prev_owner'].isnull().sum()"
      ],
      "metadata": {
        "id": "dw4nvCSWbnXy"
      },
      "execution_count": null,
      "outputs": []
    },
    {
      "cell_type": "code",
      "source": [
        "df_23['prev_owner']= df_23['prev_owner'].fillna('-')"
      ],
      "metadata": {
        "id": "M81s5vBkedUe"
      },
      "execution_count": null,
      "outputs": []
    },
    {
      "cell_type": "code",
      "source": [
        "df_23['prev_owner'].value_counts()"
      ],
      "metadata": {
        "id": "VpXUbbEibndZ"
      },
      "execution_count": null,
      "outputs": []
    },
    {
      "cell_type": "code",
      "source": [
        "df_23.groupby(['age', 'prev_owner'])['price'].describe()"
      ],
      "metadata": {
        "id": "ObcDj9iubnnH"
      },
      "execution_count": null,
      "outputs": []
    },
    {
      "cell_type": "code",
      "source": [
        "df_23['prev_owner']= df_23['prev_owner'].replace('-', np.nan)"
      ],
      "metadata": {
        "id": "vxCI5Mjgh75o"
      },
      "execution_count": null,
      "outputs": []
    },
    {
      "cell_type": "code",
      "source": [
        "for group1 in df_23['age'].unique():\n",
        "  cond1 = df_23['age'] == group1\n",
        "  df_23.loc[cond1, 'prev_owner'] = df_23.loc[cond1, 'prev_owner'].fillna(method = 'ffill').fillna(method = 'bfill')\n",
        "df_23['prev_owner'] = df_23['prev_owner'].fillna(method = 'ffill').fillna(method = 'bfill')"
      ],
      "metadata": {
        "id": "oRm3YIh7eF8s"
      },
      "execution_count": null,
      "outputs": []
    },
    {
      "cell_type": "code",
      "source": [
        "df_23['prev_owner'].isnull().sum()"
      ],
      "metadata": {
        "id": "-H9sVdzceGBm"
      },
      "execution_count": null,
      "outputs": []
    },
    {
      "cell_type": "code",
      "source": [
        "df_23['prev_owner'].value_counts()"
      ],
      "metadata": {
        "id": "P7xi-E3XeGFj"
      },
      "execution_count": null,
      "outputs": []
    },
    {
      "cell_type": "code",
      "source": [
        "df_23.groupby(['age', 'prev_owner'])['price'].describe()"
      ],
      "metadata": {
        "id": "lTXjN7sdeGJ5"
      },
      "execution_count": null,
      "outputs": []
    },
    {
      "cell_type": "markdown",
      "source": [
        "**Warranty**"
      ],
      "metadata": {
        "id": "5WWcDEjWk0Uk"
      }
    },
    {
      "cell_type": "code",
      "source": [
        "df_23['warranty_1'].isnull().sum()"
      ],
      "metadata": {
        "id": "-Qt_UN2ZeGN7"
      },
      "execution_count": null,
      "outputs": []
    },
    {
      "cell_type": "code",
      "source": [
        "df_23['warranty_1'].value_counts()"
      ],
      "metadata": {
        "id": "aJhcTmmVeGSE"
      },
      "execution_count": null,
      "outputs": []
    },
    {
      "cell_type": "code",
      "source": [
        "df_23.groupby('make_model')['warranty_1'].value_counts()"
      ],
      "metadata": {
        "id": "l6STAppCeGVo"
      },
      "execution_count": null,
      "outputs": []
    },
    {
      "cell_type": "code",
      "source": [
        "for group1 in df_23['make_model'].unique():\n",
        "  cond = df_23['make_model'] == group1\n",
        "  df_23.loc[cond, 'warranty_1'] = df_23.loc[cond, 'warranty_1'].fillna(method = 'ffill').fillna(method = 'bfill')\n",
        "df_23['warranty_1'] = df_23['warranty_1'].fillna(method = 'ffill').fillna(method = 'bfill')"
      ],
      "metadata": {
        "id": "LshNzGMmeGYy"
      },
      "execution_count": null,
      "outputs": []
    },
    {
      "cell_type": "code",
      "source": [
        "df_23['warranty_1'].isnull().sum()"
      ],
      "metadata": {
        "id": "P3wmQLOVwAvx"
      },
      "execution_count": null,
      "outputs": []
    },
    {
      "cell_type": "markdown",
      "source": [
        "**paint_type**"
      ],
      "metadata": {
        "id": "bWwDFcxjwxNk"
      }
    },
    {
      "cell_type": "code",
      "source": [
        "df_23['paint_type'].isnull().sum()"
      ],
      "metadata": {
        "id": "jX4vviuDwv5j"
      },
      "execution_count": null,
      "outputs": []
    },
    {
      "cell_type": "code",
      "source": [
        "df_23.groupby(['make_model', 'body_type', 'paint_type'])['price'].describe().sort_values(by = ['make_model', 'mean'], ascending = True)"
      ],
      "metadata": {
        "id": "yfsEQ376xKyo"
      },
      "execution_count": null,
      "outputs": []
    },
    {
      "cell_type": "code",
      "source": [
        "for group1 in df_23['make_model'].unique():\n",
        "  for group2 in df_23['body_type'].unique():\n",
        "    cond2 = (df_23['make_model'] == group1) & (df_23['body_type'] == group2)\n",
        "    df_23.loc[cond2, 'paint_type'] = df_23.loc[cond2, 'paint_type'].fillna(method = 'ffill').fillna(method = 'bfill')\n"
      ],
      "metadata": {
        "id": "V_yxc21oxK9O"
      },
      "execution_count": null,
      "outputs": []
    },
    {
      "cell_type": "code",
      "source": [
        "df_23['paint_type'].isnull().sum()"
      ],
      "metadata": {
        "id": "jRePzBxlxLBp"
      },
      "execution_count": null,
      "outputs": []
    },
    {
      "cell_type": "code",
      "source": [
        "for group1 in df_23['make_model'].unique():\n",
        "  cond1 = df_23['make_model'] == group1\n",
        "  df_23.loc[cond1, 'paint_type'] = df_23.loc[cond1, 'paint_type'].fillna(method = 'ffill').fillna(method = 'bfill')"
      ],
      "metadata": {
        "id": "zyuxveeLxLG7"
      },
      "execution_count": null,
      "outputs": []
    },
    {
      "cell_type": "code",
      "source": [
        "df_23['paint_type'].isnull().sum()"
      ],
      "metadata": {
        "id": "mZioA99KxMhs"
      },
      "execution_count": null,
      "outputs": []
    },
    {
      "cell_type": "markdown",
      "source": [
        "**type_new_used**"
      ],
      "metadata": {
        "id": "0wKXEx0S5FH0"
      }
    },
    {
      "cell_type": "code",
      "source": [
        "df_23['type_new_used'].isnull().sum()"
      ],
      "metadata": {
        "id": "hdM2034RxMnL"
      },
      "execution_count": null,
      "outputs": []
    },
    {
      "cell_type": "code",
      "source": [
        "df_23[pd.isnull(df_23['type_new_used'])][['make_model', 'age', 'km', 'price']]"
      ],
      "metadata": {
        "id": "wDpCQG55xMs-"
      },
      "execution_count": null,
      "outputs": []
    },
    {
      "cell_type": "code",
      "source": [
        "df_23.loc[2765, 'type_new_used'] = 'Used'"
      ],
      "metadata": {
        "id": "swwvDPVVxM0d"
      },
      "execution_count": null,
      "outputs": []
    },
    {
      "cell_type": "code",
      "source": [
        "df_23.loc[5237, 'type_new_used'] = 'New'"
      ],
      "metadata": {
        "id": "yarLA1mPxM5w"
      },
      "execution_count": null,
      "outputs": []
    },
    {
      "cell_type": "code",
      "source": [
        "df_23['type_new_used'].isnull().sum()"
      ],
      "metadata": {
        "id": "IqP0K69x7Zso"
      },
      "execution_count": null,
      "outputs": []
    },
    {
      "cell_type": "markdown",
      "source": [
        "**inspection_new**"
      ],
      "metadata": {
        "id": "eA-gxonk7b08"
      }
    },
    {
      "cell_type": "code",
      "source": [
        "df_23['inspection_new'].isnull().sum()"
      ],
      "metadata": {
        "id": "sq1wvh-c7wWS"
      },
      "execution_count": null,
      "outputs": []
    },
    {
      "cell_type": "code",
      "source": [
        "df_23['inspection_new'].value_counts()"
      ],
      "metadata": {
        "id": "ab6PCWJr7wgn"
      },
      "execution_count": null,
      "outputs": []
    },
    {
      "cell_type": "code",
      "source": [
        "df_23['inspection_new'] = df_23['inspection_new'].replace(np.nan, 'No')"
      ],
      "metadata": {
        "id": "BLkEkjB57wnF"
      },
      "execution_count": null,
      "outputs": []
    },
    {
      "cell_type": "code",
      "source": [
        "df_23['inspection_new'].value_counts()"
      ],
      "metadata": {
        "id": "oUU15q5b7wrr"
      },
      "execution_count": null,
      "outputs": []
    },
    {
      "cell_type": "markdown",
      "source": [
        "**upholstery_type**"
      ],
      "metadata": {
        "id": "1ik41a0nGt5e"
      }
    },
    {
      "cell_type": "code",
      "source": [
        "df_23['upholstery_type'].isnull().sum()"
      ],
      "metadata": {
        "id": "DtwViSfr7www"
      },
      "execution_count": null,
      "outputs": []
    },
    {
      "cell_type": "code",
      "source": [
        "df_23['upholstery_type'].value_counts()"
      ],
      "metadata": {
        "id": "nLCbngyM7w1y"
      },
      "execution_count": null,
      "outputs": []
    },
    {
      "cell_type": "code",
      "source": [
        "df_23['upholstery_type'] = df_23['upholstery_type'].replace(['Velour', 'alcantara', 'Part leather', 'Full leather'], ['Cloth', 'Part/Full leather',\n",
        "'Part/Full leather', 'Part/Full leather'])"
      ],
      "metadata": {
        "id": "HPDDSEXL7w7G"
      },
      "execution_count": null,
      "outputs": []
    },
    {
      "cell_type": "code",
      "source": [
        "df_23['upholstery_type'].value_counts()"
      ],
      "metadata": {
        "id": "JIqQ1v0m7xAc"
      },
      "execution_count": null,
      "outputs": []
    },
    {
      "cell_type": "code",
      "source": [
        "for group1 in df_23['make_model'].unique():\n",
        "  for group2 in df_23['body_type'].unique():\n",
        "    cond2 = (df_23['make_model'] == group1) & (df_23['body_type'] == group2)\n",
        "    df_23.loc[cond2, 'upholstery_type'] = df_23.loc[cond2, 'upholstery_type'].fillna(method = 'ffill').fillna(method = 'bfill')\n"
      ],
      "metadata": {
        "id": "LppFghfa7xFV"
      },
      "execution_count": null,
      "outputs": []
    },
    {
      "cell_type": "code",
      "source": [
        "df_23['upholstery_type'].isnull().sum()"
      ],
      "metadata": {
        "id": "jY-dkh4d7xJG"
      },
      "execution_count": null,
      "outputs": []
    },
    {
      "cell_type": "code",
      "source": [
        "  for group1 in df_23['make_model'].unique():\n",
        "    cond1 = df_23['make_model'] == group1\n",
        "    df_23.loc[cond1, 'upholstery_type'] = df_23.loc[cond1, 'upholstery_type'].fillna(method = 'ffill').fillna(method = 'bfill')"
      ],
      "metadata": {
        "id": "VSf9XwnM7xNb"
      },
      "execution_count": null,
      "outputs": []
    },
    {
      "cell_type": "code",
      "source": [
        "df_23['upholstery_type'].isnull().sum()"
      ],
      "metadata": {
        "id": "eDmzC8olIq3g"
      },
      "execution_count": null,
      "outputs": []
    },
    {
      "cell_type": "markdown",
      "source": [
        "**upholstery_color**"
      ],
      "metadata": {
        "id": "6wZArtt1Iz7g"
      }
    },
    {
      "cell_type": "code",
      "source": [
        "df_24 = df_23.drop('upholstery_color', axis = 1)"
      ],
      "metadata": {
        "id": "FHq0E8w_Iq9k"
      },
      "execution_count": null,
      "outputs": []
    },
    {
      "cell_type": "markdown",
      "source": [
        "**nr_of_doors**"
      ],
      "metadata": {
        "id": "fLG6Hb5RJHyI"
      }
    },
    {
      "cell_type": "code",
      "source": [
        "df_24['nr_of_doors'].isnull().sum()"
      ],
      "metadata": {
        "id": "T4f9RVSuIrDy"
      },
      "execution_count": null,
      "outputs": []
    },
    {
      "cell_type": "code",
      "source": [
        "df_24['nr_of_doors'].value_counts()"
      ],
      "metadata": {
        "id": "SYbeed4_IrJh"
      },
      "execution_count": null,
      "outputs": []
    },
    {
      "cell_type": "code",
      "source": [
        "df_24.groupby(['make_model', 'body_type', 'nr_of_doors'])['price'].describe()"
      ],
      "metadata": {
        "id": "_-NmSqNPIrPX"
      },
      "execution_count": null,
      "outputs": []
    },
    {
      "cell_type": "code",
      "source": [
        "for group1 in df_24['make_model'].unique():\n",
        "  for group2 in df_24['body_type'].unique():\n",
        "    cond1 = df_24['make_model'] == group1\n",
        "    cond2 = (df_24['make_model'] == group1) & (df_24['body_type'] == group2)\n",
        "    mode1 = df_24[cond1]['nr_of_doors'].mode().tolist()\n",
        "    mode2 = df_24[cond2]['nr_of_doors'].mode().tolist()\n",
        "    if mode2 != []:\n",
        "      df_24.loc[cond2, 'nr_of_doors'] = df_24.loc[cond2, 'nr_of_doors'].fillna(df_24[cond2]['nr_of_doors'].mode()[0])\n",
        "    elif mode1 != []:\n",
        "      df_24.loc[cond2, 'nr_of_doors'] = df_24.loc[cond2, 'nr_of_doors'].fillna(df_24[cond1]['nr_of_doors'].mode()[0])\n",
        "    else:\n",
        "      df_24.loc[cond2, 'nr_of_doors'] = df_24.loc[cond2, 'nr_of_doors'].fillna(df_24['nr_of_doors'].mode()[0])"
      ],
      "metadata": {
        "id": "6cnVyVZtIrV5"
      },
      "execution_count": null,
      "outputs": []
    },
    {
      "cell_type": "code",
      "source": [
        "df_24['nr_of_doors'].isnull().sum()"
      ],
      "metadata": {
        "id": "_O7VIO77Irbx"
      },
      "execution_count": null,
      "outputs": []
    },
    {
      "cell_type": "code",
      "source": [
        "df_24['nr_of_doors'].value_counts()"
      ],
      "metadata": {
        "id": "9jIQZSydLWUm"
      },
      "execution_count": null,
      "outputs": []
    },
    {
      "cell_type": "markdown",
      "source": [
        "**nr_of_seats**"
      ],
      "metadata": {
        "id": "1o7sYUYtLRwD"
      }
    },
    {
      "cell_type": "code",
      "source": [
        "df_24['nr_of_seats'].isnull().sum()"
      ],
      "metadata": {
        "id": "J47Q4nShIrhj"
      },
      "execution_count": null,
      "outputs": []
    },
    {
      "cell_type": "code",
      "source": [
        "df_24['nr_of_seats'].value_counts()"
      ],
      "metadata": {
        "id": "jQX-Yo40IrmL"
      },
      "execution_count": null,
      "outputs": []
    },
    {
      "cell_type": "code",
      "source": [
        "df_24.groupby(['make_model', 'body_type', 'nr_of_seats'])['price'].describe()"
      ],
      "metadata": {
        "id": "qe6vXotTIrqQ"
      },
      "execution_count": null,
      "outputs": []
    },
    {
      "cell_type": "code",
      "source": [
        "for group1 in df_24['make_model'].unique():\n",
        "  for group2 in df_24['body_type'].unique():\n",
        "    cond1 = df_24['make_model'] == group1\n",
        "    cond2 = (df_24['make_model'] == group1) & (df_24['body_type'] == group2)\n",
        "    mode1 = df_24[cond1]['nr_of_seats'].mode().tolist()\n",
        "    mode2 = df_24[cond2]['nr_of_seats'].mode().tolist()\n",
        "    if mode2 != []:\n",
        "      df_24.loc[cond2, 'nr_of_seats'] = df_24.loc[cond2, 'nr_of_seats'].fillna(df_24[cond2]['nr_of_seats'].mode()[0])\n",
        "    elif mode1 != []:\n",
        "      df_24.loc[cond2, 'nr_of_seats'] = df_24.loc[cond2, 'nr_of_seats'].fillna(df_24[cond1]['nr_of_seats'].mode()[0])\n",
        "    else:\n",
        "      df_24.loc[cond2, 'nr_of_seats'] = df_24.loc[cond2, 'nr_of_seats'].fillna(df_24['nr_of_seats'].mode()[0])"
      ],
      "metadata": {
        "id": "dupZDTSrMX1K"
      },
      "execution_count": null,
      "outputs": []
    },
    {
      "cell_type": "code",
      "source": [
        "df_24['nr_of_seats'].isnull().sum()"
      ],
      "metadata": {
        "id": "xgACrdwNMX74"
      },
      "execution_count": null,
      "outputs": []
    },
    {
      "cell_type": "code",
      "source": [
        "df_24['nr_of_seats'].value_counts()"
      ],
      "metadata": {
        "id": "WOPDgjbFMYA6"
      },
      "execution_count": null,
      "outputs": []
    },
    {
      "cell_type": "markdown",
      "source": [
        "**cylinders**"
      ],
      "metadata": {
        "id": "OHJ4CGZiNFKA"
      }
    },
    {
      "cell_type": "code",
      "source": [
        "df_24['cylinders'].isnull().sum()"
      ],
      "metadata": {
        "id": "8DZtBb4aMYGs"
      },
      "execution_count": null,
      "outputs": []
    },
    {
      "cell_type": "code",
      "source": [
        "df_24['cylinders'].value_counts()"
      ],
      "metadata": {
        "id": "jf8mpnjxMYfv"
      },
      "execution_count": null,
      "outputs": []
    },
    {
      "cell_type": "code",
      "source": [
        "for group1 in df_24['make_model'].unique():\n",
        "  for group2 in df_24['displacement'].unique():\n",
        "    cond1 = df_24['make_model'] == group1\n",
        "    cond2 = (df_24['make_model'] == group1) & (df_24['displacement'] == group2)\n",
        "    mode1 = df_24[cond1]['cylinders'].mode().tolist()\n",
        "    mode2 = df_24[cond2]['cylinders'].mode().tolist()\n",
        "    if mode2 != []:\n",
        "      df_24.loc[cond2, 'cylinders'] = df_24.loc[cond2, 'cylinders'].fillna(df_24[cond2]['cylinders'].mode()[0])\n",
        "    elif mode1 != []:\n",
        "      df_24.loc[cond2, 'cylinders'] = df_24.loc[cond2, 'cylinders'].fillna(df_24[cond1]['cylinders'].mode()[0])\n",
        "    else:\n",
        "      df_24.loc[cond2, 'cylinders'] = df_24.loc[cond2, 'cylinders'].fillna(df_24['cylinders'].mode()[0])"
      ],
      "metadata": {
        "id": "yXBZBdieNWdj"
      },
      "execution_count": null,
      "outputs": []
    },
    {
      "cell_type": "code",
      "source": [
        "df_24['cylinders'].isnull().sum()"
      ],
      "metadata": {
        "id": "IuSC8NTHNWhr"
      },
      "execution_count": null,
      "outputs": []
    },
    {
      "cell_type": "code",
      "source": [
        "df_24[pd.isnull(df_24['cylinders'])][['make_model', 'body_type', 'weight']]"
      ],
      "metadata": {
        "id": "gKc6-wZMNWmS"
      },
      "execution_count": null,
      "outputs": []
    },
    {
      "cell_type": "code",
      "source": [
        "for group1 in df_24['make_model'].unique():\n",
        "  for group2 in df_24['body_type'].unique():\n",
        "    cond1 = df_24['make_model'] == group1\n",
        "    cond2 = (df_24['make_model'] == group1) & (df_24['body_type'] == group2)\n",
        "    mode1 = df_24[cond1]['cylinders'].mode().tolist()\n",
        "    mode2 = df_24[cond2]['cylinders'].mode().tolist()\n",
        "    if mode2 != []:\n",
        "      df_24.loc[cond2, 'cylinders'] = df_24.loc[cond2, 'cylinders'].fillna(df_24[cond2]['cylinders'].mode()[0])\n",
        "    elif mode1 != []:\n",
        "      df_24.loc[cond2, 'cylinders'] = df_24.loc[cond2, 'cylinders'].fillna(df_24[cond1]['cylinders'].mode()[0])\n",
        "    else:\n",
        "      df_24.loc[cond2, 'cylinders'] = df_24.loc[cond2, 'cylinders'].fillna(df_24['cylinders'].mode()[0])"
      ],
      "metadata": {
        "id": "xzoSP2MVNWqa"
      },
      "execution_count": null,
      "outputs": []
    },
    {
      "cell_type": "code",
      "source": [
        "df_24['cylinders'].isnull().sum()"
      ],
      "metadata": {
        "id": "_-OgJ9jUNWuv"
      },
      "execution_count": null,
      "outputs": []
    },
    {
      "cell_type": "markdown",
      "source": [
        "**drive_chain**"
      ],
      "metadata": {
        "id": "Ry6PNmv-SHPR"
      }
    },
    {
      "cell_type": "code",
      "source": [
        "df_24['drive_chain'].isnull().sum()"
      ],
      "metadata": {
        "id": "VzKkQ3oiNWyq"
      },
      "execution_count": null,
      "outputs": []
    },
    {
      "cell_type": "code",
      "source": [
        "df_24['drive_chain'].value_counts()"
      ],
      "metadata": {
        "id": "ksM4aboDNW21"
      },
      "execution_count": null,
      "outputs": []
    },
    {
      "cell_type": "code",
      "source": [
        "for group1 in df_24['make_model'].unique():\n",
        "  for group2 in df_24['body_type'].unique():\n",
        "    cond1 = df_24['make_model'] == group1\n",
        "    cond2 = (df_24['make_model'] == group1) & (df_24['body_type'] == group2)\n",
        "    mode1 = df_24[cond1]['drive_chain'].mode().tolist()\n",
        "    mode2 = df_24[cond2]['drive_chain'].mode().tolist()\n",
        "    if mode2 != []:\n",
        "      df_24.loc[cond2, 'drive_chain'] = df_24.loc[cond2, 'drive_chain'].fillna(df_24[cond2]['drive_chain'].mode()[0])\n",
        "    elif mode1 != []:\n",
        "      df_24.loc[cond2, 'drive_chain'] = df_24.loc[cond2, 'drive_chain'].fillna(df_24[cond1]['drive_chain'].mode()[0])\n",
        "    else:\n",
        "      df_24.loc[cond2, 'drive_chain'] = df_24.loc[cond2, 'drive_chain'].fillna(df_24['drive_chain'].mode()[0])"
      ],
      "metadata": {
        "id": "ahd1DPGuNW6Y"
      },
      "execution_count": null,
      "outputs": []
    },
    {
      "cell_type": "code",
      "source": [
        "df_24['drive_chain'].isnull().sum()"
      ],
      "metadata": {
        "id": "L8AjyGSWNW-E"
      },
      "execution_count": null,
      "outputs": []
    },
    {
      "cell_type": "code",
      "source": [
        "df_24['drive_chain'].value_counts()"
      ],
      "metadata": {
        "id": "bxxQDXMGNXCz"
      },
      "execution_count": null,
      "outputs": []
    },
    {
      "cell_type": "markdown",
      "source": [
        "**emission_class**"
      ],
      "metadata": {
        "id": "WpUX_H3kTBGH"
      }
    },
    {
      "cell_type": "code",
      "source": [
        "df_24['emission_class'].isnull().sum()"
      ],
      "metadata": {
        "id": "xAL0Oi7uNXFb"
      },
      "execution_count": null,
      "outputs": []
    },
    {
      "cell_type": "code",
      "source": [
        "df_24['emission_class'].value_counts()"
      ],
      "metadata": {
        "id": "flbhmTHyTSV9"
      },
      "execution_count": null,
      "outputs": []
    },
    {
      "cell_type": "code",
      "source": [
        "for group1 in df_24['age'].unique():\n",
        "  for group2 in df_24['fuel'].unique():\n",
        "    cond1 = df_24['age'] == group1\n",
        "    cond2 = (df_24['age'] == group1) & (df_24['fuel'] == group2)\n",
        "    mode1 = df_24[cond1]['emission_class'].mode().tolist()\n",
        "    mode2 = df_24[cond2]['emission_class'].mode().tolist()\n",
        "    if mode2 != []:\n",
        "      df_24.loc[cond2, 'emission_class'] = df_24.loc[cond2, 'emission_class'].fillna(df_24[cond2]['emission_class'].mode()[0])\n",
        "    elif mode1 != []:\n",
        "      df_24.loc[cond2, 'emission_class'] = df_24.loc[cond2, 'emission_class'].fillna(df_24[cond1]['emission_class'].mode()[0])\n",
        "    else:\n",
        "      df_24.loc[cond2, 'emission_class'] = df_24.loc[cond2, 'emission_class'].fillna(df_24['emission_class'].mode()[0])"
      ],
      "metadata": {
        "id": "AQVOSXZKTScN"
      },
      "execution_count": null,
      "outputs": []
    },
    {
      "cell_type": "code",
      "source": [
        "df_24['emission_class'].isnull().sum()"
      ],
      "metadata": {
        "id": "0zYajANoTSiG"
      },
      "execution_count": null,
      "outputs": []
    },
    {
      "cell_type": "code",
      "source": [
        "df_24['emission_class'].value_counts()"
      ],
      "metadata": {
        "id": "1xiBLgA0TSnz"
      },
      "execution_count": null,
      "outputs": []
    },
    {
      "cell_type": "markdown",
      "source": [
        "**gears**"
      ],
      "metadata": {
        "id": "Jl6Bu_IDUa1H"
      }
    },
    {
      "cell_type": "code",
      "source": [
        "df_24['gears'].isnull().sum()"
      ],
      "metadata": {
        "id": "zo58_ZsITS0S"
      },
      "execution_count": null,
      "outputs": []
    },
    {
      "cell_type": "code",
      "source": [
        "df_24['gears'].value_counts()"
      ],
      "metadata": {
        "id": "ZiGVRovKTS6B"
      },
      "execution_count": null,
      "outputs": []
    },
    {
      "cell_type": "code",
      "source": [
        "df_24.groupby(['make_model', 'body_type', 'gearing_type', 'gears'])['price'].describe()"
      ],
      "metadata": {
        "id": "42n2lywcTS_2"
      },
      "execution_count": null,
      "outputs": []
    },
    {
      "cell_type": "code",
      "source": [
        "for group1 in df_24['make_model'].unique():\n",
        "  for group2 in df_24['body_type'].unique():\n",
        "    for group3 in df_24['gearing_type'].unique():\n",
        "      cond1 = df_24['make_model'] == group1\n",
        "      cond2 = (df_24['make_model'] == group1) & (df_24['body_type'] == group2)\n",
        "      cond3 = (df_24['make_model'] == group1) & (df_24['body_type'] == group2) & (df_24['gearing_type'] == group3)\n",
        "      mode1 = df_24[cond1]['gears'].mode().tolist()\n",
        "      mode2 = df_24[cond2]['gears'].mode().tolist()\n",
        "      mode3 = df_24[cond3]['gears'].mode().tolist()\n",
        "      if mode3 != []:\n",
        "        df_24.loc[cond3, 'gears'] = df_24.loc[cond3, 'gears'].fillna(df_24[cond3]['gears'].mode()[0])\n",
        "      elif mode2 != []:\n",
        "        df_24.loc[cond3, 'gears'] = df_24.loc[cond3, 'gears'].fillna(df_24[cond2]['gears'].mode()[0])\n",
        "      elif mode1 != []:\n",
        "        df_24.loc[cond3, 'gears'] = df_24.loc[cond3, 'gears'].fillna(df_24[cond1]['gears'].mode()[0])\n",
        "      else:\n",
        "        df_24.loc[cond3, 'gears'] = df_24.loc[cond3, 'gears'].fillna(df_24['gears'].mode()[0])"
      ],
      "metadata": {
        "id": "Z27c3GiWTTF_"
      },
      "execution_count": null,
      "outputs": []
    },
    {
      "cell_type": "code",
      "source": [
        "df_24['gears'].isnull().sum()"
      ],
      "metadata": {
        "id": "Rug3Mg5pTTL8"
      },
      "execution_count": null,
      "outputs": []
    },
    {
      "cell_type": "code",
      "source": [
        "df_24['gears'].value_counts()"
      ],
      "metadata": {
        "id": "y-EIegIwTTSB"
      },
      "execution_count": null,
      "outputs": []
    },
    {
      "cell_type": "markdown",
      "source": [
        "**hp (kW)**"
      ],
      "metadata": {
        "id": "QBFIdB1xjrBp"
      }
    },
    {
      "cell_type": "code",
      "source": [
        "df_24['hp (kW)'].isnull().sum()"
      ],
      "metadata": {
        "id": "_hoE9jKXTTYA"
      },
      "execution_count": null,
      "outputs": []
    },
    {
      "cell_type": "code",
      "source": [
        "df_24['hp (kW)'].value_counts()"
      ],
      "metadata": {
        "id": "kd77GDlKTTee"
      },
      "execution_count": null,
      "outputs": []
    },
    {
      "cell_type": "code",
      "source": [
        "df_24.groupby(['make_model', 'body_type', 'hp (kW)'])['price'].describe()"
      ],
      "metadata": {
        "id": "hZ2pzrbyTTkN"
      },
      "execution_count": null,
      "outputs": []
    },
    {
      "cell_type": "code",
      "source": [
        "for group1 in df_24['make_model'].unique():\n",
        "  for group2 in df_24['body_type'].unique():\n",
        "    cond1 = df_24['make_model'] == group1\n",
        "    cond2 = (df_24['make_model'] == group1) & (df_24['body_type'] == group2)\n",
        "    mode1 = df_24[cond1]['hp (kW)'].mode().tolist()\n",
        "    mode2 = df_24[cond2]['hp (kW)'].mode().tolist()\n",
        "    if mode2 != []:\n",
        "      df_24.loc[cond2, 'hp (kW)'] = df_24.loc[cond2, 'hp (kW)'].fillna(df_24[cond2]['hp (kW)'].mode()[0])\n",
        "    elif mode1 != []:\n",
        "      df_24.loc[cond2, 'hp (kW)'] = df_24.loc[cond2, 'hp (kW)'].fillna(df_24[cond1]['hp (kW)'].mode()[0])\n",
        "    else:\n",
        "      df_24.loc[cond2, 'hp (kW)'] = df_24.loc[cond2, 'hp (kW)'].fillna(df_24['hp (kW)'].mode()[0])"
      ],
      "metadata": {
        "id": "E_W7GsUJTTqc"
      },
      "execution_count": null,
      "outputs": []
    },
    {
      "cell_type": "code",
      "source": [
        "df_24['hp (kW)'].isnull().sum()"
      ],
      "metadata": {
        "id": "FPXHlxIFTTwa"
      },
      "execution_count": null,
      "outputs": []
    },
    {
      "cell_type": "code",
      "source": [
        "df_24['hp (kW)'].value_counts()"
      ],
      "metadata": {
        "id": "-pkFLbPOTT2C"
      },
      "execution_count": null,
      "outputs": []
    },
    {
      "cell_type": "markdown",
      "source": [
        "**displacement**"
      ],
      "metadata": {
        "id": "ZiJQJ7HUmBEf"
      }
    },
    {
      "cell_type": "code",
      "source": [
        "df_24['displacement'].isnull().sum()"
      ],
      "metadata": {
        "id": "84wi4ejGTT8U"
      },
      "execution_count": null,
      "outputs": []
    },
    {
      "cell_type": "code",
      "source": [
        "df_24['displacement'].value_counts()"
      ],
      "metadata": {
        "id": "gdpMhhtjTUCb"
      },
      "execution_count": null,
      "outputs": []
    },
    {
      "cell_type": "code",
      "source": [
        "for group1 in df_24['make_model'].unique():\n",
        "  for group2 in df_24['body_type'].unique():\n",
        "    cond1 = df_24['make_model'] == group1\n",
        "    cond2 = (df_24['make_model'] == group1) & (df_24['body_type'] == group2)\n",
        "    mode1 = df_24[cond1]['displacement'].mode().tolist()\n",
        "    mode2 = df_24[cond2]['displacement'].mode().tolist()\n",
        "    if mode2 != []:\n",
        "      df_24.loc[cond2, 'displacement'] = df_24.loc[cond2, 'displacement'].fillna(df_24[cond2]['displacement'].mode()[0])\n",
        "    elif mode1 != []:\n",
        "      df_24.loc[cond2, 'displacement'] = df_24.loc[cond2, 'displacement'].fillna(df_24[cond1]['displacement'].mode()[0])\n",
        "    else:\n",
        "      df_24.loc[cond2, 'displacement'] = df_24.loc[cond2, 'displacement'].fillna(df_24['displacement'].mode()[0])"
      ],
      "metadata": {
        "id": "avbSvtGHTUIN"
      },
      "execution_count": null,
      "outputs": []
    },
    {
      "cell_type": "code",
      "source": [
        "df_24['displacement'].isnull().sum()"
      ],
      "metadata": {
        "id": "1uGCjqNaTUNv"
      },
      "execution_count": null,
      "outputs": []
    },
    {
      "cell_type": "code",
      "source": [
        "df_24['displacement'].value_counts()"
      ],
      "metadata": {
        "id": "f2zlGJuJTUTE"
      },
      "execution_count": null,
      "outputs": []
    },
    {
      "cell_type": "markdown",
      "source": [
        "**weight**"
      ],
      "metadata": {
        "id": "GXARajnbmyiV"
      }
    },
    {
      "cell_type": "code",
      "source": [
        "df_24['weight'].isnull().sum()"
      ],
      "metadata": {
        "id": "68hEyeUSTUYn"
      },
      "execution_count": null,
      "outputs": []
    },
    {
      "cell_type": "code",
      "source": [
        "df_24['weight'].value_counts()"
      ],
      "metadata": {
        "id": "O1sCGZUnTUds"
      },
      "execution_count": null,
      "outputs": []
    },
    {
      "cell_type": "code",
      "source": [
        "for group1 in df_24['make_model'].unique():\n",
        "  for group2 in df_24['body_type'].unique():\n",
        "    cond1 = df_24['make_model'] == group1\n",
        "    cond2 = (df_24['make_model'] == group1) & (df_24['body_type'] == group2)\n",
        "    mode1 = df_24[cond1]['weight'].mode().tolist()\n",
        "    mode2 = df_24[cond2]['weight'].mode().tolist()\n",
        "    if mode2 != []:\n",
        "      df_24.loc[cond2, 'weight'] = df_24.loc[cond2, 'weight'].fillna(df_24[cond2]['weight'].mode()[0])\n",
        "    elif mode1 != []:\n",
        "      df_24.loc[cond2, 'weight'] = df_24.loc[cond2, 'weight'].fillna(df_24[cond1]['weight'].mode()[0])\n",
        "    else:\n",
        "      df_24.loc[cond2, 'weight'] = df_24.loc[cond2, 'weight'].fillna(df_24['weight'].mode()[0])"
      ],
      "metadata": {
        "id": "-evBPvJqTUjr"
      },
      "execution_count": null,
      "outputs": []
    },
    {
      "cell_type": "code",
      "source": [
        "df_24['weight'].isnull().sum()"
      ],
      "metadata": {
        "id": "PZVFgqcrTUo5"
      },
      "execution_count": null,
      "outputs": []
    },
    {
      "cell_type": "code",
      "source": [
        "df_24['weight'].value_counts()"
      ],
      "metadata": {
        "id": "Lv2vDL_zTU5F"
      },
      "execution_count": null,
      "outputs": []
    },
    {
      "cell_type": "markdown",
      "source": [
        "**co2_emission**\n"
      ],
      "metadata": {
        "id": "1upDYp_unxUu"
      }
    },
    {
      "cell_type": "code",
      "source": [
        "df_24['co2_emission'].isnull().sum()"
      ],
      "metadata": {
        "id": "bQGYUgYcTVBC"
      },
      "execution_count": null,
      "outputs": []
    },
    {
      "cell_type": "code",
      "source": [
        "df_24['co2_emission'].value_counts()"
      ],
      "metadata": {
        "id": "eMU7aphDTVGy"
      },
      "execution_count": null,
      "outputs": []
    },
    {
      "cell_type": "code",
      "source": [
        " df_24['co2_emission']= df_24['co2_emission'].fillna(df_24.groupby(['make_model', 'body_type'])['co2_emission'].transform('median'))"
      ],
      "metadata": {
        "id": "AvlH_zh3TVMw"
      },
      "execution_count": null,
      "outputs": []
    },
    {
      "cell_type": "code",
      "source": [
        "df_24['co2_emission'].isnull().sum()"
      ],
      "metadata": {
        "id": "YLS2ltIQTVSp"
      },
      "execution_count": null,
      "outputs": []
    },
    {
      "cell_type": "code",
      "source": [
        "df_24['co2_emission']= df_24['co2_emission'].fillna(df_24.groupby('make_model')['co2_emission'].transform('median'))"
      ],
      "metadata": {
        "id": "TRoG9QsXTVX5"
      },
      "execution_count": null,
      "outputs": []
    },
    {
      "cell_type": "code",
      "source": [
        "df_24['co2_emission'].isnull().sum()"
      ],
      "metadata": {
        "id": "qX9wPvOCTVdm"
      },
      "execution_count": null,
      "outputs": []
    },
    {
      "cell_type": "code",
      "source": [
        "df_24['co2_emission']= df_24['co2_emission'].fillna(df_24['co2_emission'].median())"
      ],
      "metadata": {
        "id": "LZGY2mROTVi4"
      },
      "execution_count": null,
      "outputs": []
    },
    {
      "cell_type": "code",
      "source": [
        "df_24['co2_emission'].isnull().sum()"
      ],
      "metadata": {
        "id": "8I0FQGFUTVob"
      },
      "execution_count": null,
      "outputs": []
    },
    {
      "cell_type": "code",
      "source": [
        "df_24['co2_emission'].value_counts()"
      ],
      "metadata": {
        "id": "m9jJWMKcTVuU"
      },
      "execution_count": null,
      "outputs": []
    },
    {
      "cell_type": "markdown",
      "source": [
        "**comfort_and_convenience**"
      ],
      "metadata": {
        "id": "WHhFKeG8fB9w"
      }
    },
    {
      "cell_type": "code",
      "source": [
        "df_24['comfort_and_convenience'].isnull().sum()"
      ],
      "metadata": {
        "id": "DAnYWhhBTV0j"
      },
      "execution_count": null,
      "outputs": []
    },
    {
      "cell_type": "code",
      "source": [
        "df_24['comfort_and_convenience'].value_counts()"
      ],
      "metadata": {
        "id": "grfc4uRHTV7E"
      },
      "execution_count": null,
      "outputs": []
    },
    {
      "cell_type": "code",
      "source": [
        "for group1 in df_24['make_model'].unique():\n",
        "  for group2 in df_24['body_type'].unique():\n",
        "    cond1 = df_24['make_model'] == group1\n",
        "    cond2 = (df_24['make_model'] == group1) & (df_24['body_type'] == group2)\n",
        "    mode1 = df_24[cond1]['comfort_and_convenience'].mode().tolist()\n",
        "    mode2 = df_24[cond2]['comfort_and_convenience'].mode().tolist()\n",
        "    if mode2 != []:\n",
        "      df_24.loc[cond2, 'comfort_and_convenience'] = df_24.loc[cond2, 'comfort_and_convenience'].fillna(df_24[cond2]['comfort_and_convenience'].mode()[0])\n",
        "    elif mode1 != []:\n",
        "      df_24.loc[cond2, 'comfort_and_convenience'] = df_24.loc[cond2, 'comfort_and_convenience'].fillna(df_24[cond1]['comfort_and_convenience'].mode()[0])\n",
        "    else:\n",
        "      df_24.loc[cond2, 'comfort_and_convenience'] = df_24.loc[cond2, 'comfort_and_convenience'].fillna(df_24['comfort_and_convenience'].mode()[0])"
      ],
      "metadata": {
        "id": "qsYkCmvUTWAI"
      },
      "execution_count": null,
      "outputs": []
    },
    {
      "cell_type": "code",
      "source": [
        "df_24['comfort_and_convenience'].isnull().sum()"
      ],
      "metadata": {
        "id": "18U6N7CVfoug"
      },
      "execution_count": null,
      "outputs": []
    },
    {
      "cell_type": "code",
      "source": [
        "df_24['comfort_and_convenience'].value_counts()"
      ],
      "metadata": {
        "id": "MjrvKdklfo1d"
      },
      "execution_count": null,
      "outputs": []
    },
    {
      "cell_type": "markdown",
      "source": [
        "**entertainment_and_media**"
      ],
      "metadata": {
        "id": "bHqN50yMgyq2"
      }
    },
    {
      "cell_type": "code",
      "source": [
        "df_24['entertainment_and_media'].isnull().sum()"
      ],
      "metadata": {
        "id": "jolain2Dfo8A"
      },
      "execution_count": null,
      "outputs": []
    },
    {
      "cell_type": "code",
      "source": [
        "df_24['entertainment_and_media'].value_counts()"
      ],
      "metadata": {
        "id": "NOx4v_nOfpCe"
      },
      "execution_count": null,
      "outputs": []
    },
    {
      "cell_type": "code",
      "source": [
        "for group1 in df_24['make_model'].unique():\n",
        "  for group2 in df_24['body_type'].unique():\n",
        "    cond1 = df_24['make_model'] == group1\n",
        "    cond2 = (df_24['make_model'] == group1) & (df_24['body_type'] == group2)\n",
        "    mode1 = df_24[cond1]['entertainment_and_media'].mode().tolist()\n",
        "    mode2 = df_24[cond2]['entertainment_and_media'].mode().tolist()\n",
        "    if mode2 != []:\n",
        "      df_24.loc[cond2, 'entertainment_and_media'] = df_24.loc[cond2, 'entertainment_and_media'].fillna(df_24[cond2]['entertainment_and_media'].mode()[0])\n",
        "    elif mode1 != []:\n",
        "      df_24.loc[cond2, 'entertainment_and_media'] = df_24.loc[cond2, 'entertainment_and_media'].fillna(df_24[cond1]['entertainment_and_media'].mode()[0])\n",
        "    else:\n",
        "      df_24.loc[cond2, 'entertainment_and_media'] = df_24.loc[cond2, 'entertainment_and_media'].fillna(df_24['entertainment_and_media'].mode()[0])"
      ],
      "metadata": {
        "id": "6vKGmdHNfpIh"
      },
      "execution_count": null,
      "outputs": []
    },
    {
      "cell_type": "code",
      "source": [
        "df_24['entertainment_and_media'].isnull().sum()"
      ],
      "metadata": {
        "id": "XWBPVlJlfpOc"
      },
      "execution_count": null,
      "outputs": []
    },
    {
      "cell_type": "code",
      "source": [
        "df_24['entertainment_and_media'].value_counts()"
      ],
      "metadata": {
        "id": "GuPIsCcifpUc"
      },
      "execution_count": null,
      "outputs": []
    },
    {
      "cell_type": "markdown",
      "source": [
        "**extras**"
      ],
      "metadata": {
        "id": "t6XJ9fLOhy6L"
      }
    },
    {
      "cell_type": "code",
      "source": [
        "df_24['extras'].isnull().sum()"
      ],
      "metadata": {
        "id": "lpbeBkfKfpat"
      },
      "execution_count": null,
      "outputs": []
    },
    {
      "cell_type": "code",
      "source": [
        "df_24['extras'].value_counts()"
      ],
      "metadata": {
        "id": "6Cqi1_nAfpgn"
      },
      "execution_count": null,
      "outputs": []
    },
    {
      "cell_type": "code",
      "source": [
        "for group1 in df_24['make_model'].unique():\n",
        "  for group2 in df_24['body_type'].unique():\n",
        "    cond1 = df_24['make_model'] == group1\n",
        "    cond2 = (df_24['make_model'] == group1) & (df_24['body_type'] == group2)\n",
        "    mode1 = df_24[cond1]['extras'].mode().tolist()\n",
        "    mode2 = df_24[cond2]['extras'].mode().tolist()\n",
        "    if mode2 != []:\n",
        "      df_24.loc[cond2, 'extras'] = df_24.loc[cond2, 'extras'].fillna(df_24[cond2]['extras'].mode()[0])\n",
        "    elif mode1 != []:\n",
        "      df_24.loc[cond2, 'extras'] = df_24.loc[cond2, 'extras'].fillna(df_24[cond1]['extras'].mode()[0])\n",
        "    else:\n",
        "      df_24.loc[cond2, 'extras'] = df_24.loc[cond2, 'extras'].fillna(df_24['extras'].mode()[0])"
      ],
      "metadata": {
        "id": "3e3_Q5gOfpmr"
      },
      "execution_count": null,
      "outputs": []
    },
    {
      "cell_type": "code",
      "source": [
        "df_24['extras'].isnull().sum()"
      ],
      "metadata": {
        "id": "tlloRlB0fpsK"
      },
      "execution_count": null,
      "outputs": []
    },
    {
      "cell_type": "code",
      "source": [
        "df_24['extras'].value_counts()"
      ],
      "metadata": {
        "id": "61MF9HDWfpyE"
      },
      "execution_count": null,
      "outputs": []
    },
    {
      "cell_type": "markdown",
      "source": [
        "**safety_and_security**"
      ],
      "metadata": {
        "id": "zfXccM9jisIE"
      }
    },
    {
      "cell_type": "code",
      "source": [
        "df_24['safety_and_security'].isnull().sum()"
      ],
      "metadata": {
        "id": "mkCjs3Tgfp36"
      },
      "execution_count": null,
      "outputs": []
    },
    {
      "cell_type": "code",
      "source": [
        "df_24['safety_and_security'].value_counts()"
      ],
      "metadata": {
        "id": "8dKOc8X-fp90"
      },
      "execution_count": null,
      "outputs": []
    },
    {
      "cell_type": "code",
      "source": [
        "for group1 in df_24['make_model'].unique():\n",
        "  for group2 in df_24['body_type'].unique():\n",
        "    cond1 = df_24['make_model'] == group1\n",
        "    cond2 = (df_24['make_model'] == group1) & (df_24['body_type'] == group2)\n",
        "    mode1 = df_24[cond1]['safety_and_security'].mode().tolist()\n",
        "    mode2 = df_24[cond2]['safety_and_security'].mode().tolist()\n",
        "    if mode2 != []:\n",
        "      df_24.loc[cond2, 'safety_and_security'] = df_24.loc[cond2, 'safety_and_security'].fillna(df_24[cond2]['safety_and_security'].mode()[0])\n",
        "    elif mode1 != []:\n",
        "      df_24.loc[cond2, 'safety_and_security'] = df_24.loc[cond2, 'safety_and_security'].fillna(df_24[cond1]['safety_and_security'].mode()[0])\n",
        "    else:\n",
        "      df_24.loc[cond2, 'safety_and_security'] = df_24.loc[cond2, 'safety_and_security'].fillna(df_24['safety_and_security'].mode()[0])"
      ],
      "metadata": {
        "id": "E_w5LWGAfqDx"
      },
      "execution_count": null,
      "outputs": []
    },
    {
      "cell_type": "code",
      "source": [
        "df_24['safety_and_security'].isnull().sum()"
      ],
      "metadata": {
        "id": "o5H_AUtrfqJP"
      },
      "execution_count": null,
      "outputs": []
    },
    {
      "cell_type": "code",
      "source": [
        "df_24['safety_and_security'].value_counts()"
      ],
      "metadata": {
        "id": "ptplLED9fqPf"
      },
      "execution_count": null,
      "outputs": []
    },
    {
      "cell_type": "markdown",
      "source": [
        "**consumption_comb**\n"
      ],
      "metadata": {
        "id": "VHSilj3_kJNF"
      }
    },
    {
      "cell_type": "code",
      "source": [
        "df_24['consumption_comb'].isnull().sum()"
      ],
      "metadata": {
        "id": "iR6HJTbSfqU4"
      },
      "execution_count": null,
      "outputs": []
    },
    {
      "cell_type": "code",
      "source": [
        "df_24['consumption_comb'].value_counts()"
      ],
      "metadata": {
        "id": "4B-N8IXrfqaK"
      },
      "execution_count": null,
      "outputs": []
    },
    {
      "cell_type": "code",
      "source": [
        "df_24['consumption_comb'] = df_24['consumption_comb'].fillna((df_24['consumption_city'] + df_24['consumption_country'])/2)"
      ],
      "metadata": {
        "id": "a5SMmxtDfqiN"
      },
      "execution_count": null,
      "outputs": []
    },
    {
      "cell_type": "code",
      "source": [
        "df_24['consumption_comb'].value_counts()"
      ],
      "metadata": {
        "id": "9L4Qa8Bkfqon"
      },
      "execution_count": null,
      "outputs": []
    },
    {
      "cell_type": "code",
      "source": [
        "df_24['consumption_comb'] = df_24['consumption_comb'].replace([0.0, 1.0, 1.2, 1.6, 10, 11, 13.8, 32.0, 33.0, 38.0, 40.0, 43.0, 46.0, 50.0, 51.0, 54.0, 55.0, \"-\"], np.nan)"
      ],
      "metadata": {
        "id": "VF_JQy0TmhCM"
      },
      "execution_count": null,
      "outputs": []
    },
    {
      "cell_type": "code",
      "source": [
        "df_24['consumption_comb'] = df_24['consumption_comb'].fillna(df_24.groupby(['make_model', 'body_type'])['consumption_comb'].transform('median'))"
      ],
      "metadata": {
        "id": "7FJL3-ctfquT"
      },
      "execution_count": null,
      "outputs": []
    },
    {
      "cell_type": "code",
      "source": [
        "df_24['consumption_comb'].isnull().sum()"
      ],
      "metadata": {
        "id": "Fwp3fReufq0h"
      },
      "execution_count": null,
      "outputs": []
    },
    {
      "cell_type": "code",
      "source": [
        "df_24['consumption_comb'] = df_24['consumption_comb'].fillna(df_24.groupby('make_model')['consumption_comb'].transform('median'))"
      ],
      "metadata": {
        "id": "jgweH_WFfq5t"
      },
      "execution_count": null,
      "outputs": []
    },
    {
      "cell_type": "code",
      "source": [
        "df_24['consumption_comb'].isnull().sum()"
      ],
      "metadata": {
        "id": "sCyn7wRAfq_d"
      },
      "execution_count": null,
      "outputs": []
    },
    {
      "cell_type": "code",
      "source": [
        "df_24['consumption_comb'] = df_24['consumption_comb'].fillna(df_24['consumption_comb'].median())"
      ],
      "metadata": {
        "id": "1LSqZrdwm7SJ"
      },
      "execution_count": null,
      "outputs": []
    },
    {
      "cell_type": "code",
      "source": [
        "df_24['consumption_comb'].isnull().sum()"
      ],
      "metadata": {
        "id": "SMNy3BGFm7Zx"
      },
      "execution_count": null,
      "outputs": []
    },
    {
      "cell_type": "code",
      "source": [
        "df_24['consumption_comb'].value_counts()"
      ],
      "metadata": {
        "id": "Vbm3TN41frGA"
      },
      "execution_count": null,
      "outputs": []
    },
    {
      "cell_type": "markdown",
      "source": [
        "**final clean-up**"
      ],
      "metadata": {
        "id": "4cyDewhGnWdr"
      }
    },
    {
      "cell_type": "code",
      "source": [
        "df_25 = df_24.drop(['consumption_city', 'consumption_country'], axis = 1)"
      ],
      "metadata": {
        "id": "c1yRDqqzfrNQ"
      },
      "execution_count": null,
      "outputs": []
    },
    {
      "cell_type": "code",
      "source": [
        "df_26 = df_25.drop(['country_version', 'emission_label'], axis = 1)"
      ],
      "metadata": {
        "id": "82mwZdfffrS-"
      },
      "execution_count": null,
      "outputs": []
    },
    {
      "cell_type": "code",
      "source": [
        "df_27 = df_26.drop(['full_service', 'next_inspection_date', 'next_inspection_emission'], axis = 1)"
      ],
      "metadata": {
        "id": "Vs7VIbR_oW5M"
      },
      "execution_count": null,
      "outputs": []
    },
    {
      "cell_type": "code",
      "source": [
        "df_28 = df_27.drop(['registration', 'sd_disp', 'year_registration'], axis = 1)"
      ],
      "metadata": {
        "id": "XDCCqPvGothy"
      },
      "execution_count": null,
      "outputs": []
    },
    {
      "cell_type": "code",
      "source": [
        "df_28.info()"
      ],
      "metadata": {
        "id": "ia3nTKRNfrYl"
      },
      "execution_count": null,
      "outputs": []
    },
    {
      "cell_type": "code",
      "source": [
        "df_28.columns"
      ],
      "metadata": {
        "id": "q7gPhga9freL"
      },
      "execution_count": null,
      "outputs": []
    },
    {
      "cell_type": "code",
      "source": [
        "df_28.to_csv('df_28_cleaned_filled.csv')"
      ],
      "metadata": {
        "id": "Zl_EY-KrfrjY"
      },
      "execution_count": null,
      "outputs": []
    }
  ]
}